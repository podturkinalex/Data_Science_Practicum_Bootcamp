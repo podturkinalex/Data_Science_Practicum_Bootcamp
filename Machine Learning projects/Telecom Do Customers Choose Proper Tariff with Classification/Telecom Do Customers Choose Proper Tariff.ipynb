{
 "cells": [
  {
   "cell_type": "markdown",
   "metadata": {
    "toc": true
   },
   "source": [
    "<h1>Содержание<span class=\"tocSkip\"></span></h1>\n",
    "<div class=\"toc\"><ul class=\"toc-item\"><li><span><a href=\"#Знакомство-с-данными\" data-toc-modified-id=\"Знакомство-с-данными-1\"><span class=\"toc-item-num\">1&nbsp;&nbsp;</span>Знакомство с данными</a></span><ul class=\"toc-item\"><li><span><a href=\"#Вывод\" data-toc-modified-id=\"Вывод-1.1\"><span class=\"toc-item-num\">1.1&nbsp;&nbsp;</span>Вывод</a></span></li></ul></li><li><span><a href=\"#Подготовка-данных-к-обучению\" data-toc-modified-id=\"Подготовка-данных-к-обучению-2\"><span class=\"toc-item-num\">2&nbsp;&nbsp;</span>Подготовка данных к обучению</a></span><ul class=\"toc-item\"><li><span><a href=\"#Вывод\" data-toc-modified-id=\"Вывод-2.1\"><span class=\"toc-item-num\">2.1&nbsp;&nbsp;</span>Вывод</a></span></li></ul></li><li><span><a href=\"#Обучение-моделей\" data-toc-modified-id=\"Обучение-моделей-3\"><span class=\"toc-item-num\">3&nbsp;&nbsp;</span>Обучение моделей</a></span><ul class=\"toc-item\"><li><span><a href=\"#DecisionTreeClassifier\" data-toc-modified-id=\"DecisionTreeClassifier-3.1\"><span class=\"toc-item-num\">3.1&nbsp;&nbsp;</span>DecisionTreeClassifier</a></span></li><li><span><a href=\"#Вывод\" data-toc-modified-id=\"Вывод-3.2\"><span class=\"toc-item-num\">3.2&nbsp;&nbsp;</span>Вывод</a></span></li><li><span><a href=\"#RandomForestClassifier\" data-toc-modified-id=\"RandomForestClassifier-3.3\"><span class=\"toc-item-num\">3.3&nbsp;&nbsp;</span>RandomForestClassifier</a></span></li><li><span><a href=\"#Вывод\" data-toc-modified-id=\"Вывод-3.4\"><span class=\"toc-item-num\">3.4&nbsp;&nbsp;</span>Вывод</a></span></li><li><span><a href=\"#LogisticRegression\" data-toc-modified-id=\"LogisticRegression-3.5\"><span class=\"toc-item-num\">3.5&nbsp;&nbsp;</span>LogisticRegression</a></span></li><li><span><a href=\"#Вывод\" data-toc-modified-id=\"Вывод-3.6\"><span class=\"toc-item-num\">3.6&nbsp;&nbsp;</span>Вывод</a></span></li></ul></li><li><span><a href=\"#Тестирование-модели\" data-toc-modified-id=\"Тестирование-модели-4\"><span class=\"toc-item-num\">4&nbsp;&nbsp;</span>Тестирование модели</a></span><ul class=\"toc-item\"><li><span><a href=\"#Вывод\" data-toc-modified-id=\"Вывод-4.1\"><span class=\"toc-item-num\">4.1&nbsp;&nbsp;</span>Вывод</a></span></li></ul></li><li><span><a href=\"#Общий-вывод\" data-toc-modified-id=\"Общий-вывод-5\"><span class=\"toc-item-num\">5&nbsp;&nbsp;</span>Общий вывод</a></span></li></ul></div>"
   ]
  },
  {
   "cell_type": "markdown",
   "metadata": {},
   "source": [
    "# Рекомендация тарифов"
   ]
  },
  {
   "cell_type": "markdown",
   "metadata": {},
   "source": [
    "**Цель**\n",
    "* Построить модель классификации на предобработанных данных для предсказания тарифа.\n",
    "\n",
    "**Метрика**\n",
    "* Метрика оценки качества модели `accuracy`, которая должна быть не ниже 0.75 на тестовой выборке.\n"
   ]
  },
  {
   "cell_type": "markdown",
   "metadata": {},
   "source": [
    "**Описание данных**\n",
    "\n",
    "* В таблице представлена информация о поведении пользователей **за месяц** (1 строка - 1 клиент).\n",
    "\n",
    "**Features**:\n",
    "* сalls — количество звонков,\n",
    "* minutes — суммарная длительность звонков в минутах,\n",
    "* messages — количество sms-сообщений,\n",
    "* mb_used — израсходованный интернет-трафик в Мб.\n",
    "\n",
    "**Target**\n",
    "* is_ultra — каким тарифом пользовался в течение месяца («Ультра» — 1, «Смарт» — 0).\n"
   ]
  },
  {
   "cell_type": "markdown",
   "metadata": {},
   "source": [
    "## Знакомство с данными"
   ]
  },
  {
   "cell_type": "code",
   "execution_count": 42,
   "metadata": {},
   "outputs": [],
   "source": [
    "import pandas as pd\n",
    "import matplotlib.pyplot as plt\n",
    "%matplotlib inline\n",
    "\n",
    "from sklearn.model_selection import train_test_split\n",
    "\n",
    "from sklearn.tree import DecisionTreeClassifier\n",
    "from sklearn.ensemble import RandomForestClassifier\n",
    "from sklearn.linear_model import LogisticRegression\n",
    "from sklearn.dummy import DummyClassifier\n",
    "\n",
    "from sklearn import metrics\n",
    "from sklearn.metrics import accuracy_score\n",
    "from sklearn.metrics import confusion_matrix\n",
    "from sklearn.metrics import ConfusionMatrixDisplay\n",
    "\n",
    "# Попросим не показывать предупреждения\n",
    "import warnings\n",
    "warnings.filterwarnings(\"ignore\")"
   ]
  },
  {
   "cell_type": "code",
   "execution_count": 43,
   "metadata": {},
   "outputs": [
    {
     "data": {
      "text/html": [
       "<div>\n",
       "<style scoped>\n",
       "    .dataframe tbody tr th:only-of-type {\n",
       "        vertical-align: middle;\n",
       "    }\n",
       "\n",
       "    .dataframe tbody tr th {\n",
       "        vertical-align: top;\n",
       "    }\n",
       "\n",
       "    .dataframe thead th {\n",
       "        text-align: right;\n",
       "    }\n",
       "</style>\n",
       "<table border=\"1\" class=\"dataframe\">\n",
       "  <thead>\n",
       "    <tr style=\"text-align: right;\">\n",
       "      <th></th>\n",
       "      <th>calls</th>\n",
       "      <th>minutes</th>\n",
       "      <th>messages</th>\n",
       "      <th>mb_used</th>\n",
       "      <th>is_ultra</th>\n",
       "    </tr>\n",
       "  </thead>\n",
       "  <tbody>\n",
       "    <tr>\n",
       "      <th>0</th>\n",
       "      <td>40.0</td>\n",
       "      <td>311.90</td>\n",
       "      <td>83.0</td>\n",
       "      <td>19915.42</td>\n",
       "      <td>0</td>\n",
       "    </tr>\n",
       "    <tr>\n",
       "      <th>1</th>\n",
       "      <td>85.0</td>\n",
       "      <td>516.75</td>\n",
       "      <td>56.0</td>\n",
       "      <td>22696.96</td>\n",
       "      <td>0</td>\n",
       "    </tr>\n",
       "    <tr>\n",
       "      <th>2</th>\n",
       "      <td>77.0</td>\n",
       "      <td>467.66</td>\n",
       "      <td>86.0</td>\n",
       "      <td>21060.45</td>\n",
       "      <td>0</td>\n",
       "    </tr>\n",
       "    <tr>\n",
       "      <th>3</th>\n",
       "      <td>106.0</td>\n",
       "      <td>745.53</td>\n",
       "      <td>81.0</td>\n",
       "      <td>8437.39</td>\n",
       "      <td>1</td>\n",
       "    </tr>\n",
       "    <tr>\n",
       "      <th>4</th>\n",
       "      <td>66.0</td>\n",
       "      <td>418.74</td>\n",
       "      <td>1.0</td>\n",
       "      <td>14502.75</td>\n",
       "      <td>0</td>\n",
       "    </tr>\n",
       "  </tbody>\n",
       "</table>\n",
       "</div>"
      ],
      "text/plain": [
       "   calls  minutes  messages   mb_used  is_ultra\n",
       "0   40.0   311.90      83.0  19915.42         0\n",
       "1   85.0   516.75      56.0  22696.96         0\n",
       "2   77.0   467.66      86.0  21060.45         0\n",
       "3  106.0   745.53      81.0   8437.39         1\n",
       "4   66.0   418.74       1.0  14502.75         0"
      ]
     },
     "execution_count": 43,
     "metadata": {},
     "output_type": "execute_result"
    }
   ],
   "source": [
    "# Откроём таблицу\n",
    "users = pd.read_csv('/datasets/users_behavior.csv')\n",
    "users.head()"
   ]
  },
  {
   "cell_type": "code",
   "execution_count": 44,
   "metadata": {},
   "outputs": [
    {
     "data": {
      "text/plain": [
       "(3214, 5)"
      ]
     },
     "execution_count": 44,
     "metadata": {},
     "output_type": "execute_result"
    }
   ],
   "source": [
    "#Объем таблицы\n",
    "users.shape"
   ]
  },
  {
   "cell_type": "code",
   "execution_count": 45,
   "metadata": {},
   "outputs": [
    {
     "name": "stdout",
     "output_type": "stream",
     "text": [
      "<class 'pandas.core.frame.DataFrame'>\n",
      "RangeIndex: 3214 entries, 0 to 3213\n",
      "Data columns (total 5 columns):\n",
      " #   Column    Non-Null Count  Dtype  \n",
      "---  ------    --------------  -----  \n",
      " 0   calls     3214 non-null   float64\n",
      " 1   minutes   3214 non-null   float64\n",
      " 2   messages  3214 non-null   float64\n",
      " 3   mb_used   3214 non-null   float64\n",
      " 4   is_ultra  3214 non-null   int64  \n",
      "dtypes: float64(4), int64(1)\n",
      "memory usage: 125.7 KB\n"
     ]
    }
   ],
   "source": [
    "#Информация о форматах и пропусках\n",
    "users.info()"
   ]
  },
  {
   "cell_type": "markdown",
   "metadata": {},
   "source": [
    "* Пропусков в данных нет\n",
    "* Все форматы адекватны"
   ]
  },
  {
   "cell_type": "code",
   "execution_count": 46,
   "metadata": {},
   "outputs": [
    {
     "data": {
      "text/plain": [
       "0"
      ]
     },
     "execution_count": 46,
     "metadata": {},
     "output_type": "execute_result"
    }
   ],
   "source": [
    "#Поиск дубликатов\n",
    "users.duplicated().sum()"
   ]
  },
  {
   "cell_type": "code",
   "execution_count": 47,
   "metadata": {},
   "outputs": [
    {
     "data": {
      "text/plain": [
       "0    0.693528\n",
       "1    0.306472\n",
       "Name: is_ultra, dtype: float64"
      ]
     },
     "execution_count": 47,
     "metadata": {},
     "output_type": "execute_result"
    }
   ],
   "source": [
    "# Уникальные значения в колонке тарифа\n",
    "users['is_ultra'].value_counts(normalize=True)"
   ]
  },
  {
   "cell_type": "markdown",
   "metadata": {},
   "source": [
    "* Колонка `is_ultra` содержит информацию о двух классах, где почти 70% данных относятся к информации пользователей тарифа `smart`."
   ]
  },
  {
   "cell_type": "markdown",
   "metadata": {},
   "source": [
    "### Вывод\n",
    "\n",
    "* Данные загружены адекватно. \n",
    "* Пропусков и дубликатов нет. \n",
    "* Форматы верные.\n",
    "* В колонке `is_ultra` два уникальных значения. Значит необходимо провести бинарную классификацию данных. \n"
   ]
  },
  {
   "cell_type": "markdown",
   "metadata": {},
   "source": [
    "## Подготовка данных к обучению"
   ]
  },
  {
   "cell_type": "markdown",
   "metadata": {},
   "source": [
    "* Объем данных 3214 строк, что позволяет построить модель классификации, которая предскажет выбор тарифа по 4-м признакам:\n",
    "`calls`,\t`minutes`,\t`messages`,\t`mb_used`.\n",
    "* Укажем для будущей модели целевой признак `target` и признаки для предсказания `features`."
   ]
  },
  {
   "cell_type": "code",
   "execution_count": 48,
   "metadata": {},
   "outputs": [],
   "source": [
    "target = users['is_ultra'] # целевой признак\n",
    "features = users.drop(['is_ultra'], axis=1) # признаки для предсказания модели"
   ]
  },
  {
   "cell_type": "markdown",
   "metadata": {},
   "source": [
    "* Разделим исходные данные на обучающую (60%), валидационную (20%) и тестовую (20%) выборки."
   ]
  },
  {
   "cell_type": "code",
   "execution_count": 49,
   "metadata": {},
   "outputs": [],
   "source": [
    "#Выделим сначала 40% на валидационную и тестовую выборки.\n",
    "features_train, features_rem, target_train, target_rem = train_test_split(\n",
    "    features, target, test_size=0.4, random_state=12345)"
   ]
  },
  {
   "cell_type": "code",
   "execution_count": 50,
   "metadata": {},
   "outputs": [],
   "source": [
    "# разделим оставшиеся 40% данных пополам для вадидационной и тестовой выборок\n",
    "features_valid, features_test, target_valid, target_test = train_test_split(\n",
    "features_rem, target_rem, test_size = 0.5, random_state = 12345)"
   ]
  },
  {
   "cell_type": "code",
   "execution_count": 51,
   "metadata": {},
   "outputs": [
    {
     "name": "stdout",
     "output_type": "stream",
     "text": [
      "объем обучающей выборки: (1928, 4)\n",
      "доля обучающей выборки: 60.0 %\n",
      "объем валидационной выборки: (643, 4)\n",
      "объем тестовой выборки: (643, 4)\n"
     ]
    }
   ],
   "source": [
    "print('объем обучающей выборки:', features_train.shape) \n",
    "print('доля обучающей выборки:', round(features_train.shape[0]/users.shape[0], 1)*100,'%')\n",
    "print('объем валидационной выборки:', features_valid.shape) \n",
    "print('объем тестовой выборки:', features_test.shape)"
   ]
  },
  {
   "cell_type": "markdown",
   "metadata": {},
   "source": [
    "### Вывод\n",
    "\n",
    "**Данные разделены на следующие выборки**:\n",
    "* обучающую (60%) - `features_train`,`target_train`,\n",
    "* валидационную (20%) - `features_valid`, `target_valid`\n",
    "* тестовую (20%) - `features_test`, `target_test`."
   ]
  },
  {
   "cell_type": "markdown",
   "metadata": {},
   "source": [
    "## Обучение моделей"
   ]
  },
  {
   "cell_type": "markdown",
   "metadata": {},
   "source": [
    "### DecisionTreeClassifier"
   ]
  },
  {
   "cell_type": "markdown",
   "metadata": {},
   "source": [
    "* Обучим модель `DecisionTreeClassifier` на обучающей выборке, а точность проверим на валидационной выборке.\n",
    "* Так как эта модель быстро переобучается, то не будем выставлять глубину дерева больше 5."
   ]
  },
  {
   "cell_type": "code",
   "execution_count": 52,
   "metadata": {},
   "outputs": [
    {
     "name": "stdout",
     "output_type": "stream",
     "text": [
      "Accuracy лучшей модели: 0.7854 Глубина дерева: 5 Лучший критерий: entropy\n"
     ]
    }
   ],
   "source": [
    "best_criterion = None\n",
    "best_model = None\n",
    "best_result = 0 # нулевое accuracy_score качество модели\n",
    "best_depth = 0\n",
    "for criterion in ['gini', 'entropy']:\n",
    "    for depth in range(1, 6):\n",
    "        model = DecisionTreeClassifier(criterion=criterion, random_state=12345, \n",
    "                                           max_depth=depth) # создадим пустую модель\n",
    "        model.fit(features_train, target_train) # обучим модель\n",
    "        predictions_valid = model.predict(features_valid) # получим предсказание модели по валидационной выборке\n",
    "        results = accuracy_score(target_valid, predictions_valid) # результат оценки предсказания\n",
    "        if results > best_result:\n",
    "            best_criterion = criterion\n",
    "            best_model = model\n",
    "            best_result = results\n",
    "            best_depth = depth\n",
    "                    \n",
    "print('Accuracy лучшей модели:', round(best_result, 4), \n",
    "      'Глубина дерева:', depth, 'Лучший критерий:', criterion)     "
   ]
  },
  {
   "cell_type": "markdown",
   "metadata": {},
   "source": [
    "* Теперь установим дополнительный параметр `min_samples_split` до 5"
   ]
  },
  {
   "cell_type": "code",
   "execution_count": 53,
   "metadata": {},
   "outputs": [
    {
     "name": "stdout",
     "output_type": "stream",
     "text": [
      "Accuracy_score лучшей модели: 0.7854 Глубина дерева: 5 Минимальное количество примеров для разделения: 5 Лучший критерий: entropy\n"
     ]
    }
   ],
   "source": [
    "best_criterion = None\n",
    "best_model = None\n",
    "best_result = 0 # нулевое accuracy_score качество модели\n",
    "best_depth = 0\n",
    "best_min_samples_split = 0\n",
    "for criterion in ['gini', 'entropy']:\n",
    "    for depth in range(1, 6):\n",
    "        for min_samples_split in range(2,6,1):\n",
    "            model = DecisionTreeClassifier(criterion=criterion, random_state=12345, \n",
    "                                           max_depth=depth, \n",
    "                                           min_samples_split=min_samples_split) # создадим пустую модель\n",
    "            model.fit(features_train, target_train) # обучим модель\n",
    "            predictions_valid = model.predict(features_valid) # получим предсказание модели по валидационной выборке\n",
    "            results = accuracy_score(target_valid, predictions_valid) # результат оценки предсказания\n",
    "            if results > best_result:\n",
    "                best_criterion = criterion\n",
    "                best_model = model\n",
    "                best_result = results\n",
    "                best_depth = depth\n",
    "                best_min_samples_split = min_samples_split\n",
    "            \n",
    "print('Accuracy_score лучшей модели:', round(best_result, 4), \n",
    "      'Глубина дерева:', depth, \n",
    "      'Минимальное количество примеров для разделения:', min_samples_split,\n",
    "     'Лучший критерий:', criterion)     "
   ]
  },
  {
   "cell_type": "markdown",
   "metadata": {},
   "source": [
    "* Особой разницы не было показано и уровень Accuracy_score остался на предыдушем уровне.\n",
    "* Используем дополнительный уравновешивающий параметр `min_samples_leaf` до 5."
   ]
  },
  {
   "cell_type": "code",
   "execution_count": 54,
   "metadata": {
    "scrolled": true
   },
   "outputs": [
    {
     "name": "stdout",
     "output_type": "stream",
     "text": [
      "Accuracy_score лучшей модели: 0.7854 Глубина дерева: 5 Минимальное количество примеров для разделения: 5 Минимальное количество объектов в листе: 5 Лучший критерий: entropy\n"
     ]
    }
   ],
   "source": [
    "best_criterion = None\n",
    "best_model = None\n",
    "best_result = 0 # нулевое accuracy_score качество модели\n",
    "best_depth = 0\n",
    "best_min_samples_split = 0\n",
    "best_min_samples_leaf = 0\n",
    "for criterion in ['gini', 'entropy']:\n",
    "    for depth in range(1, 6):\n",
    "        for min_samples_split in range(2,6, 1):\n",
    "            for min_samples_leaf in range(1,6,1):\n",
    "                model = DecisionTreeClassifier(criterion=criterion, random_state=12345, \n",
    "                                           max_depth=depth, \n",
    "                                           min_samples_split=min_samples_split, \n",
    "                                           min_samples_leaf = min_samples_leaf) # создадим пустую модель\n",
    "                model.fit(features_train, target_train) # обучим модель\n",
    "                predictions_valid = model.predict(features_valid) # получим предсказание модели по валидационной выборке\n",
    "                results = accuracy_score(target_valid, predictions_valid) # результат оценки предсказания\n",
    "                if results > best_result:\n",
    "                    best_criterion = criterion\n",
    "                    best_model = model\n",
    "                    best_result = results\n",
    "                    best_depth = depth\n",
    "                    best_min_samples_split = min_samples_split\n",
    "                    best_min_samples_leaf = min_samples_leaf\n",
    "print('Accuracy_score лучшей модели:', round(best_result, 4), \n",
    "      'Глубина дерева:', depth, \n",
    "      'Минимальное количество примеров для разделения:', min_samples_split, \n",
    "     'Минимальное количество объектов в листе:', min_samples_leaf,\n",
    "     'Лучший критерий:', criterion)     "
   ]
  },
  {
   "cell_type": "markdown",
   "metadata": {},
   "source": [
    "* Accuracy_score вырос с 0.764 до 0.7667. Значит будем использовать модель с выявленными гиперпараметрами."
   ]
  },
  {
   "cell_type": "code",
   "execution_count": 55,
   "metadata": {},
   "outputs": [
    {
     "name": "stdout",
     "output_type": "stream",
     "text": [
      "0.7807153965785381\n"
     ]
    }
   ],
   "source": [
    "# Построим модель DecisionTreeClassifier с выбранными в цикле лучшими параметрами\n",
    "model1 = DecisionTreeClassifier(criterion='entropy',\n",
    "                                max_depth=5, \n",
    "                                min_samples_split=5, \n",
    "                                min_samples_leaf=5,\n",
    "                               random_state=12345)\n",
    "\n",
    "model1.fit(features_train, target_train) # обучим модель\n",
    "predictions_valid = model1.predict(features_valid)\n",
    "result1 = model1.score(features_valid, target_valid)\n",
    "print(result1)\n"
   ]
  },
  {
   "cell_type": "markdown",
   "metadata": {},
   "source": [
    "* Уровень accuracy для модели 0.78\n",
    "* Построим матрицу ошибок для этой `model1`."
   ]
  },
  {
   "cell_type": "code",
   "execution_count": 56,
   "metadata": {},
   "outputs": [
    {
     "data": {
      "image/png": "[encoded data removed]",
      "text/plain": [
       "<Figure size 720x720 with 2 Axes>"
      ]
     },
     "metadata": {
      "needs_background": "light"
     },
     "output_type": "display_data"
    }
   ],
   "source": [
    "#Построим матрицу ошибок для модели 1\n",
    "\n",
    "cm1 = confusion_matrix(target_valid, predictions_valid, labels=model1.classes_)\n",
    "disp = ConfusionMatrixDisplay(confusion_matrix=cm1,\n",
    "                           display_labels=model1.classes_)\n",
    "fig, ax = plt.subplots(figsize=(10,10))\n",
    "plt.title('Матрица ошибок для DecisionTreeClassifier')\n",
    "disp.plot(ax=ax)\n",
    "plt.show()\n"
   ]
  },
  {
   "cell_type": "markdown",
   "metadata": {},
   "source": [
    "* Истинно позитивных и истинно негативных больше, чем ложно-положительных и ложно-отрицательных.\n",
    "* Однако видно, что есть много ошибок.\n",
    "* Посмотрим на искомый уровень precision score"
   ]
  },
  {
   "cell_type": "code",
   "execution_count": 57,
   "metadata": {},
   "outputs": [
    {
     "name": "stdout",
     "output_type": "stream",
     "text": [
      "              precision    recall  f1-score   support\n",
      "\n",
      "           0       0.79      0.95      0.86       454\n",
      "           1       0.75      0.38      0.51       189\n",
      "\n",
      "    accuracy                           0.78       643\n",
      "   macro avg       0.77      0.66      0.68       643\n",
      "weighted avg       0.78      0.78      0.76       643\n",
      "\n"
     ]
    }
   ],
   "source": [
    "#Посмотрим отдельно на все показатели оценки точности модели\n",
    "print(metrics.classification_report(target_valid, predictions_valid, labels=model1.classes_))"
   ]
  },
  {
   "cell_type": "markdown",
   "metadata": {},
   "source": [
    "* Матрица ошибок и таблица точности показывают, что для пользователей `Ультра`, обозначенных, как 1, ошибка предсказания выше, чем для пользователей тарифа `Смарт`."
   ]
  },
  {
   "cell_type": "markdown",
   "metadata": {},
   "source": [
    "### Вывод\n",
    "* Видно, что только часть значений предсказна верно, есть ошибки.\n",
    "* Accuracy лучшей модели: 0.7854, Precision:  0.7667, Глубина дерева: 5\n",
    "* Precision для тарифа `Ультра` 0.75 (для тарифа `Смарт` - 0.79)"
   ]
  },
  {
   "cell_type": "markdown",
   "metadata": {},
   "source": [
    "### RandomForestClassifier"
   ]
  },
  {
   "cell_type": "markdown",
   "metadata": {},
   "source": [
    "* Обучим модель `RandomForestClassifier` на обучающей выборке, а точность проверим на валидационной выборке.\n",
    "* Так как этот алгоритм не так быстро переобучается, то установим количество деревьев 50, а глубину деревьев 10."
   ]
  },
  {
   "cell_type": "code",
   "execution_count": 59,
   "metadata": {},
   "outputs": [
    {
     "name": "stdout",
     "output_type": "stream",
     "text": [
      "Accuracy наилучшей модели на валидационной выборке: 0.8087091757387247 Количество деревьев 50 Глубина дерева: 10 Лучший критерий entropy\n"
     ]
    }
   ],
   "source": [
    "best_criterion = None\n",
    "best_model = None\n",
    "best_result = 0 # нулевое accuracy_score качество модели\n",
    "best_depth = 0\n",
    "best_est = 0\n",
    "for criterion in ['gini', 'entropy']:\n",
    "    for est in range(10, 51, 10):\n",
    "        for depth in range(1, 11):\n",
    "            model = RandomForestClassifier(criterion=criterion, random_state=12345, n_estimators=est, max_depth=depth)\n",
    "            model.fit(features_train, target_train)\n",
    "            result = model.score(features_valid, target_valid)\n",
    "            if result> best_result:\n",
    "                best_model = model\n",
    "                best_result = result\n",
    "                best_est = est\n",
    "                best_depth = depth\n",
    "                best_criterion = criterion\n",
    "print('Accuracy наилучшей модели на валидационной выборке:', best_result, \n",
    "      'Количество деревьев', est, 'Глубина дерева:', depth,\n",
    "     'Лучший критерий', criterion)            "
   ]
  },
  {
   "cell_type": "markdown",
   "metadata": {},
   "source": [
    "* Проверим теперь модель при количестве дереьвев 500"
   ]
  },
  {
   "cell_type": "code",
   "execution_count": 60,
   "metadata": {},
   "outputs": [
    {
     "name": "stdout",
     "output_type": "stream",
     "text": [
      "Accuracy наилучшей модели на валидационной выборке: 0.8040435458786936 Количество деревьев 50 Глубина дерева: 10 Лучший критерий entropy\n"
     ]
    }
   ],
   "source": [
    "best_criterion = None\n",
    "best_model = None\n",
    "best_result = 0 # нулевое accuracy_score качество модели\n",
    "best_depth = 0\n",
    "for criterion in ['gini', 'entropy']:\n",
    "    for depth in range(1, 11):\n",
    "        model = RandomForestClassifier(criterion=criterion, random_state=12345, n_estimators=500, max_depth=depth)\n",
    "        model.fit(features_train, target_train)\n",
    "        result = model.score(features_valid, target_valid)\n",
    "        if result> best_result:\n",
    "            best_model = model\n",
    "            best_result = result\n",
    "            best_depth = depth\n",
    "            best_criterion = criterion\n",
    "print('Accuracy наилучшей модели на валидационной выборке:', best_result, \n",
    "      'Количество деревьев', est, 'Глубина дерева:', depth,\n",
    "     'Лучший критерий', criterion)            "
   ]
  },
  {
   "cell_type": "markdown",
   "metadata": {},
   "source": [
    "* Уровень accuracy даже немного сократился при увеличение количества деревьев с 50 и 500.\n",
    "* Попробуем установить остановится с 50 деревьями, но добавим уравновешивающий гиперапараметр `min_samples_split` до 5."
   ]
  },
  {
   "cell_type": "code",
   "execution_count": 61,
   "metadata": {},
   "outputs": [
    {
     "name": "stdout",
     "output_type": "stream",
     "text": [
      "Accuracy наилучшей модели на валидационной выборке: 0.8102643856920684 Количество деревьев 50 Глубина дерева: 10 Минимальное количество примеров для разделения 5 Лучший критерий: entropy\n"
     ]
    }
   ],
   "source": [
    "best_model = None\n",
    "best_result = 0\n",
    "best_est = 0\n",
    "best_depth = 0\n",
    "best_min_samples_split = 0\n",
    "\n",
    "for criterion in ['gini', 'entropy']:\n",
    "    for est in range(10, 51, 10):\n",
    "        for depth in range(1, 11):\n",
    "            for min_samples_split in range(2,6, 1):\n",
    "                model = RandomForestClassifier(criterion=criterion, \n",
    "                                           random_state=12345,\n",
    "                                           n_estimators=est, \n",
    "                                           max_depth=depth, min_samples_split= min_samples_split)\n",
    "                model.fit(features_train, target_train)\n",
    "                result = model.score(features_valid, target_valid)\n",
    "                if result> best_result:\n",
    "                    best_model = model\n",
    "                    best_result = result\n",
    "                    best_est = est\n",
    "                    best_depth = depth\n",
    "                    best_min_samples_split = min_samples_split\n",
    "print('Accuracy наилучшей модели на валидационной выборке:', best_result, \n",
    "      'Количество деревьев', est, 'Глубина дерева:', depth,\n",
    "     'Минимальное количество примеров для разделения', min_samples_split, \n",
    "     'Лучший критерий:', criterion)            "
   ]
  },
  {
   "cell_type": "markdown",
   "metadata": {},
   "source": [
    "* Уровень точности возрос до 0.81.\n",
    "* Добавим ещё один уравновешивающий гиперапараметр `min_samples_leaf` до 5."
   ]
  },
  {
   "cell_type": "code",
   "execution_count": 62,
   "metadata": {},
   "outputs": [
    {
     "name": "stdout",
     "output_type": "stream",
     "text": [
      "Accuracy наилучшей модели на валидационной выборке: 0.8102643856920684 Количество деревьев 50 Глубина дерева: 10 Минимальное количество примеров для разделения 5 Минимальное количество объектов в листе: 5 Лучший критерий: entropy\n"
     ]
    }
   ],
   "source": [
    "best_model = None\n",
    "best_result = 0\n",
    "best_est = 0\n",
    "best_depth = 0\n",
    "best_min_samples_split = 0\n",
    "best_min_samples_leaf = 0\n",
    "\n",
    "for criterion in ['gini', 'entropy']:\n",
    "    for est in range(10, 51, 10):\n",
    "        for depth in range(1, 11):\n",
    "            for min_samples_split in range(2,6, 1):\n",
    "                for min_samples_leaf in range(1,6,1):\n",
    "                    model = RandomForestClassifier(criterion=criterion, \n",
    "                                           random_state=12345,\n",
    "                                           n_estimators=est, \n",
    "                                           max_depth=depth, \n",
    "                                         min_samples_split= min_samples_split,\n",
    "                                              min_samples_leaf = min_samples_leaf)\n",
    "                    model.fit(features_train, target_train)\n",
    "                    result = model.score(features_valid, target_valid)\n",
    "                    if result> best_result:\n",
    "                        best_model = model\n",
    "                        best_result = result\n",
    "                        best_est = est\n",
    "                        best_depth = depth\n",
    "                        best_min_samples_split = min_samples_split\n",
    "                        best_min_samples_leaf = min_samples_leaf\n",
    "print('Accuracy наилучшей модели на валидационной выборке:', best_result, \n",
    "      'Количество деревьев', est, 'Глубина дерева:', depth,\n",
    "     'Минимальное количество примеров для разделения', min_samples_split,\n",
    "     'Минимальное количество объектов в листе:', min_samples_leaf,\n",
    "     'Лучший критерий:', criterion)            "
   ]
  },
  {
   "cell_type": "markdown",
   "metadata": {},
   "source": [
    "* Скорость вычисления явно слишком медленная. Поэтому несмотря на более высокую точность модели - лучше отказаться от этой модели.\n",
    "* Построим модель с лучшими гиперпараметрами: Количество деревьев 50 Глубина дерева: 10 Минимальное количество примеров для разделения 5 Лучший критерий: entropy"
   ]
  },
  {
   "cell_type": "code",
   "execution_count": 64,
   "metadata": {
    "scrolled": true
   },
   "outputs": [
    {
     "name": "stdout",
     "output_type": "stream",
     "text": [
      "0.8009331259720062\n"
     ]
    }
   ],
   "source": [
    "#Построим модель с выбранными в цикле параметрами entropy\n",
    "model2 = RandomForestClassifier(criterion='entropy',\n",
    "                                random_state=12345, \n",
    "                                n_estimators=50, \n",
    "                                max_depth=10, \n",
    "                                min_samples_split=5\n",
    "                               )\n",
    "model2.fit(features_train, target_train)\n",
    "predictions_valid2 = model2.predict(features_valid)\n",
    "result2 = model2.score(features_valid, target_valid)\n",
    "print(result)"
   ]
  },
  {
   "cell_type": "markdown",
   "metadata": {},
   "source": [
    "* Построим матрицу ошибок для модели `model2`"
   ]
  },
  {
   "cell_type": "code",
   "execution_count": 65,
   "metadata": {},
   "outputs": [
    {
     "data": {
      "image/png": "[encoded data removed]",
      "text/plain": [
       "<Figure size 720x720 with 2 Axes>"
      ]
     },
     "metadata": {
      "needs_background": "light"
     },
     "output_type": "display_data"
    }
   ],
   "source": [
    "#Построим матрицу ошибок для модели 2\n",
    "cm2 = confusion_matrix(target_valid, predictions_valid2, labels=model2.classes_)\n",
    "disp2 = ConfusionMatrixDisplay(confusion_matrix=cm2,\n",
    "                           display_labels=model2.classes_)\n",
    "fig, ax = plt.subplots(figsize=(10,10))\n",
    "plt.title('Матрица ошибок для RandomForestClassifier')\n",
    "disp2.plot(ax=ax)\n",
    "plt.show()"
   ]
  },
  {
   "cell_type": "markdown",
   "metadata": {},
   "source": [
    "* Истинно позитивных и истинно негативных больше, чем ложно-положительных и ложно-отрицательных.\n",
    "* Количество правильных ответов для тарифа `Ультра` возросло.\n",
    "* Посмотрим на искомый уровень precision score"
   ]
  },
  {
   "cell_type": "code",
   "execution_count": 66,
   "metadata": {},
   "outputs": [
    {
     "name": "stdout",
     "output_type": "stream",
     "text": [
      "              precision    recall  f1-score   support\n",
      "\n",
      "           0       0.81      0.93      0.87       454\n",
      "           1       0.73      0.49      0.58       189\n",
      "\n",
      "    accuracy                           0.80       643\n",
      "   macro avg       0.77      0.71      0.72       643\n",
      "weighted avg       0.79      0.80      0.78       643\n",
      "\n"
     ]
    }
   ],
   "source": [
    "#Посмотрим отдельно на все показатели оценки точности модели 2\n",
    "print(metrics.classification_report(target_valid, predictions_valid2, labels=model2.classes_))"
   ]
  },
  {
   "cell_type": "markdown",
   "metadata": {},
   "source": [
    "### Вывод\n",
    "* Оптимальное количество деревьев 50, глубина дерева 10. Критерий `entropy` показал себя лучше, чем `gini`\n",
    "\n",
    "*  Accuracy `model2` составило 0.80, что выше, чем дерева решений `model1`.\n",
    "\n",
    "* Однако `precision model2` для тарифа `Ультра` оказался ниже, чем для для дерева решений `model1`."
   ]
  },
  {
   "cell_type": "markdown",
   "metadata": {},
   "source": [
    "### LogisticRegression"
   ]
  },
  {
   "cell_type": "markdown",
   "metadata": {},
   "source": [
    "* Построим логистическую регрессионную модель с гиперараметрами по умолчанию"
   ]
  },
  {
   "cell_type": "code",
   "execution_count": 67,
   "metadata": {},
   "outputs": [
    {
     "name": "stdout",
     "output_type": "stream",
     "text": [
      "Accuracy модели логистической регрессии на валидационной выборке: 0.7107309486780715\n"
     ]
    }
   ],
   "source": [
    "model_lg_0=LogisticRegression(random_state=12345)\n",
    "model_lg_0.fit(features_train, target_train)\n",
    "predictions_valid3 = model_lg_0.predict_proba(features_valid)\n",
    "result_lg0 = model_lg_0.score(features_valid, target_valid)\n",
    "print(\"Accuracy модели логистической регрессии на валидационной выборке:\", result_lg0)"
   ]
  },
  {
   "cell_type": "code",
   "execution_count": 68,
   "metadata": {},
   "outputs": [
    {
     "name": "stdout",
     "output_type": "stream",
     "text": [
      "Accuracy модели логистической регрессии на валидационной выборке: 0.7558320373250389\n"
     ]
    }
   ],
   "source": [
    "#Построим логистическую регрессионную модель с penalty='none'\n",
    "model_lg_1 = LogisticRegression(random_state=12345, penalty='none')\n",
    "model_lg_1.fit(features_train, target_train)\n",
    "predictions_valid_lr1 = model_lg_1.predict_proba(features_valid)\n",
    "result_lg1 = model_lg_1.score(features_valid, target_valid)\n",
    "print(\"Accuracy модели логистической регрессии на валидационной выборке:\", result_lg1)                       "
   ]
  },
  {
   "cell_type": "markdown",
   "metadata": {},
   "source": [
    "* Уровень точности выше для модели выше с параметром 'none' и состовляет 0.7558."
   ]
  },
  {
   "cell_type": "code",
   "execution_count": 69,
   "metadata": {},
   "outputs": [
    {
     "data": {
      "image/png": "[encoded data removed]",
      "text/plain": [
       "<Figure size 720x720 with 2 Axes>"
      ]
     },
     "metadata": {
      "needs_background": "light"
     },
     "output_type": "display_data"
    }
   ],
   "source": [
    "#Построим матрицу ошибок для модели model_lg_1\n",
    "cm3 = confusion_matrix(target_valid, model_lg_1.predict(features_valid))\n",
    "disp3 = ConfusionMatrixDisplay(confusion_matrix=cm3,\n",
    "                           )\n",
    "fig, ax = plt.subplots(figsize=(10,10))\n",
    "plt.title('Матрица ошибок для LogisticRegression')\n",
    "disp3.plot(ax=ax)\n",
    "plt.show()"
   ]
  },
  {
   "cell_type": "code",
   "execution_count": 70,
   "metadata": {},
   "outputs": [
    {
     "name": "stdout",
     "output_type": "stream",
     "text": [
      "              precision    recall  f1-score   support\n",
      "\n",
      "           0       0.75      0.97      0.85       454\n",
      "           1       0.78      0.24      0.36       189\n",
      "\n",
      "    accuracy                           0.76       643\n",
      "   macro avg       0.76      0.60      0.61       643\n",
      "weighted avg       0.76      0.76      0.71       643\n",
      "\n"
     ]
    }
   ],
   "source": [
    "#Посмотрим отдельно на все показатели оценки точности модели3\n",
    "print(metrics.classification_report(target_valid, model_lg_1.predict(features_valid)))"
   ]
  },
  {
   "cell_type": "markdown",
   "metadata": {},
   "source": [
    "### Вывод\n",
    "* Точность модели логистической регрессии составила 0.76.\n",
    "\n",
    "* Precision для тарифа `Ультра` 0.78, что выше предыдущих моделей. Однако для тарифа `Смарт` уровень точности ниже предыдуших моделей и составил всего 0.75.\n",
    "* Оценки очень похоже на модель1 (решающее дерево).\n",
    "\n",
    "* Самые высокие оценки точности были получены для модели2 Случайного дерева."
   ]
  },
  {
   "cell_type": "markdown",
   "metadata": {},
   "source": [
    "## Тестирование модели"
   ]
  },
  {
   "cell_type": "code",
   "execution_count": 72,
   "metadata": {},
   "outputs": [
    {
     "name": "stdout",
     "output_type": "stream",
     "text": [
      "Accuracy модели Случайных деревьев на тестовой выборке: 0.8009331259720062\n",
      "\n",
      "              precision    recall  f1-score   support\n",
      "\n",
      "           0       0.82      0.92      0.86       440\n",
      "           1       0.75      0.55      0.64       203\n",
      "\n",
      "    accuracy                           0.80       643\n",
      "   macro avg       0.78      0.73      0.75       643\n",
      "weighted avg       0.80      0.80      0.79       643\n",
      "\n"
     ]
    }
   ],
   "source": [
    "# получим предсказания модели2 на тестовой выборке\n",
    "predictions_test2 = model2.predict(features_test)\n",
    "results_test2 = accuracy_score(target_test, predictions_test2)\n",
    "print(\"Accuracy модели Случайных деревьев на тестовой выборке:\", results_test2)\n",
    "print()\n",
    "#Посмотрим отдельно на все показатели оценки точности модели\n",
    "print(metrics.classification_report(target_test, predictions_test2, labels=model2.classes_))"
   ]
  },
  {
   "cell_type": "markdown",
   "metadata": {},
   "source": [
    "* Уровень accuracy составил 0.80, в то время как уровень precision составил 0.82 и 0.75. "
   ]
  },
  {
   "cell_type": "markdown",
   "metadata": {},
   "source": [
    "**Sanity check**"
   ]
  },
  {
   "cell_type": "markdown",
   "metadata": {},
   "source": [
    "* Для проведения `sanity check` сравним работу нашей модели со случайной (`DummyClassifier`). "
   ]
  },
  {
   "cell_type": "code",
   "execution_count": 37,
   "metadata": {},
   "outputs": [
    {
     "name": "stdout",
     "output_type": "stream",
     "text": [
      "Accuracy для:stratified: 0.5754276827371695\n",
      "Accuracy для:most_frequent: 0.6842923794712286\n",
      "Accuracy для:prior: 0.6842923794712286\n",
      "Accuracy для:uniform: 0.5194401244167963\n"
     ]
    }
   ],
   "source": [
    "#Проверим accuracy на тестовой выборке для всех стратегий DummyClassifier\n",
    "for strategy in ['stratified', 'most_frequent', 'prior', 'uniform']:\n",
    "    dummy = DummyClassifier(strategy=strategy)\n",
    "    dummy.fit(features_test, target_test)\n",
    "    print(f'Accuracy для:{strategy}:', dummy.score(features_test, target_test))"
   ]
  },
  {
   "cell_type": "markdown",
   "metadata": {},
   "source": [
    "### Вывод\n",
    "* Точность оценок была проверена как на тестовой выборке (модель сохранила уровень точности), так и при сравнении со случайной выборкой."
   ]
  },
  {
   "cell_type": "markdown",
   "metadata": {},
   "source": [
    "## Общий вывод\n",
    "* Точность предсказания (`accuracy`) тарифа клиента при помощи модели `RandomForestClassifier` составила 0.80."
   ]
  }
 ],
 "metadata": {
  "ExecuteTimeLog": [
   {
    "duration": 2842,
    "start_time": "2022-03-16T19:56:54.097Z"
   },
   {
    "duration": 19338,
    "start_time": "2022-03-16T19:56:56.942Z"
   },
   {
    "duration": 1876,
    "start_time": "2022-03-16T19:57:16.284Z"
   },
   {
    "duration": 89,
    "start_time": "2022-03-16T19:57:18.163Z"
   },
   {
    "duration": 533,
    "start_time": "2022-03-16T19:57:18.255Z"
   },
   {
    "duration": 770,
    "start_time": "2022-03-16T19:57:18.790Z"
   },
   {
    "duration": 903,
    "start_time": "2022-03-16T19:57:19.563Z"
   },
   {
    "duration": 882,
    "start_time": "2022-03-16T19:57:20.470Z"
   },
   {
    "duration": 1157,
    "start_time": "2022-03-16T19:57:21.355Z"
   },
   {
    "duration": 779,
    "start_time": "2022-03-16T19:57:22.515Z"
   },
   {
    "duration": 273,
    "start_time": "2022-03-16T19:57:23.298Z"
   },
   {
    "duration": 130,
    "start_time": "2022-03-16T19:57:23.574Z"
   },
   {
    "duration": 216,
    "start_time": "2022-03-16T19:57:23.706Z"
   },
   {
    "duration": 554,
    "start_time": "2022-03-16T19:57:23.926Z"
   },
   {
    "duration": 20,
    "start_time": "2022-03-16T19:57:24.483Z"
   },
   {
    "duration": 647,
    "start_time": "2022-03-16T19:57:24.506Z"
   },
   {
    "duration": 23,
    "start_time": "2022-03-16T19:57:25.156Z"
   },
   {
    "duration": 90,
    "start_time": "2022-03-16T19:57:25.183Z"
   },
   {
    "duration": 21732,
    "start_time": "2022-03-16T19:57:25.276Z"
   },
   {
    "duration": 492,
    "start_time": "2022-03-16T19:57:47.011Z"
   },
   {
    "duration": 410,
    "start_time": "2022-03-16T19:57:47.506Z"
   },
   {
    "duration": 507,
    "start_time": "2022-03-16T19:57:47.919Z"
   },
   {
    "duration": 18,
    "start_time": "2022-03-16T19:57:48.433Z"
   },
   {
    "duration": 526,
    "start_time": "2022-03-16T19:57:48.474Z"
   },
   {
    "duration": 406,
    "start_time": "2022-03-16T19:57:49.003Z"
   },
   {
    "duration": 29,
    "start_time": "2022-03-16T19:57:49.412Z"
   },
   {
    "duration": 529,
    "start_time": "2022-03-16T19:57:49.443Z"
   },
   {
    "duration": 392,
    "start_time": "2022-03-16T19:57:49.975Z"
   },
   {
    "duration": 472,
    "start_time": "2022-03-16T19:57:50.370Z"
   },
   {
    "duration": 171,
    "start_time": "2022-03-17T20:26:42.603Z"
   },
   {
    "duration": 0,
    "start_time": "2022-03-17T20:26:42.776Z"
   },
   {
    "duration": 0,
    "start_time": "2022-03-17T20:26:42.778Z"
   },
   {
    "duration": 0,
    "start_time": "2022-03-17T20:26:42.779Z"
   },
   {
    "duration": 0,
    "start_time": "2022-03-17T20:26:42.781Z"
   },
   {
    "duration": 0,
    "start_time": "2022-03-17T20:26:42.782Z"
   },
   {
    "duration": 0,
    "start_time": "2022-03-17T20:26:42.784Z"
   },
   {
    "duration": 0,
    "start_time": "2022-03-17T20:26:42.785Z"
   },
   {
    "duration": 0,
    "start_time": "2022-03-17T20:26:42.786Z"
   },
   {
    "duration": 0,
    "start_time": "2022-03-17T20:26:42.787Z"
   },
   {
    "duration": 0,
    "start_time": "2022-03-17T20:26:42.788Z"
   },
   {
    "duration": 0,
    "start_time": "2022-03-17T20:26:42.789Z"
   },
   {
    "duration": 0,
    "start_time": "2022-03-17T20:26:42.790Z"
   },
   {
    "duration": 0,
    "start_time": "2022-03-17T20:26:42.792Z"
   },
   {
    "duration": 0,
    "start_time": "2022-03-17T20:26:42.792Z"
   },
   {
    "duration": 0,
    "start_time": "2022-03-17T20:26:42.794Z"
   },
   {
    "duration": 0,
    "start_time": "2022-03-17T20:26:42.795Z"
   },
   {
    "duration": 0,
    "start_time": "2022-03-17T20:26:42.796Z"
   },
   {
    "duration": 0,
    "start_time": "2022-03-17T20:26:42.797Z"
   },
   {
    "duration": 0,
    "start_time": "2022-03-17T20:26:42.798Z"
   },
   {
    "duration": 0,
    "start_time": "2022-03-17T20:26:42.800Z"
   },
   {
    "duration": 0,
    "start_time": "2022-03-17T20:26:42.801Z"
   },
   {
    "duration": 0,
    "start_time": "2022-03-17T20:26:42.802Z"
   },
   {
    "duration": 0,
    "start_time": "2022-03-17T20:26:42.803Z"
   },
   {
    "duration": 0,
    "start_time": "2022-03-17T20:26:42.804Z"
   },
   {
    "duration": 0,
    "start_time": "2022-03-17T20:26:42.805Z"
   },
   {
    "duration": 0,
    "start_time": "2022-03-17T20:26:42.807Z"
   },
   {
    "duration": 0,
    "start_time": "2022-03-17T20:26:42.808Z"
   },
   {
    "duration": 2265,
    "start_time": "2022-03-17T20:27:03.633Z"
   },
   {
    "duration": 2130,
    "start_time": "2022-03-17T20:27:12.437Z"
   },
   {
    "duration": 4,
    "start_time": "2022-03-17T20:27:14.569Z"
   },
   {
    "duration": 1816,
    "start_time": "2022-03-17T20:27:14.574Z"
   },
   {
    "duration": 30,
    "start_time": "2022-03-17T20:27:16.393Z"
   },
   {
    "duration": 6,
    "start_time": "2022-03-17T20:27:16.426Z"
   },
   {
    "duration": 18,
    "start_time": "2022-03-17T20:27:16.434Z"
   },
   {
    "duration": 13,
    "start_time": "2022-03-17T20:27:16.454Z"
   },
   {
    "duration": 22,
    "start_time": "2022-03-17T20:27:16.469Z"
   },
   {
    "duration": 28,
    "start_time": "2022-03-17T20:27:16.492Z"
   },
   {
    "duration": 16,
    "start_time": "2022-03-17T20:27:16.523Z"
   },
   {
    "duration": 24,
    "start_time": "2022-03-17T20:27:16.540Z"
   },
   {
    "duration": 21,
    "start_time": "2022-03-17T20:27:16.566Z"
   },
   {
    "duration": 33,
    "start_time": "2022-03-17T20:27:16.588Z"
   },
   {
    "duration": 315,
    "start_time": "2022-03-17T20:27:16.623Z"
   },
   {
    "duration": 16,
    "start_time": "2022-03-17T20:27:16.940Z"
   },
   {
    "duration": 199,
    "start_time": "2022-03-17T20:27:16.958Z"
   },
   {
    "duration": 8,
    "start_time": "2022-03-17T20:27:17.159Z"
   },
   {
    "duration": 20,
    "start_time": "2022-03-17T20:27:17.169Z"
   },
   {
    "duration": 12332,
    "start_time": "2022-03-17T20:27:17.190Z"
   },
   {
    "duration": 210,
    "start_time": "2022-03-17T20:27:29.524Z"
   },
   {
    "duration": 183,
    "start_time": "2022-03-17T20:27:29.736Z"
   },
   {
    "duration": 184,
    "start_time": "2022-03-17T20:27:29.921Z"
   },
   {
    "duration": 10,
    "start_time": "2022-03-17T20:27:30.108Z"
   },
   {
    "duration": 208,
    "start_time": "2022-03-17T20:27:30.131Z"
   },
   {
    "duration": 181,
    "start_time": "2022-03-17T20:27:30.341Z"
   },
   {
    "duration": 22,
    "start_time": "2022-03-17T20:27:30.524Z"
   },
   {
    "duration": 23,
    "start_time": "2022-03-17T20:27:30.549Z"
   },
   {
    "duration": 141,
    "start_time": "2022-03-17T20:27:30.577Z"
   },
   {
    "duration": 14,
    "start_time": "2022-03-17T20:27:46.029Z"
   },
   {
    "duration": 14,
    "start_time": "2022-03-17T20:28:14.229Z"
   },
   {
    "duration": 7,
    "start_time": "2022-03-17T20:29:30.362Z"
   },
   {
    "duration": 9,
    "start_time": "2022-03-17T20:29:37.079Z"
   },
   {
    "duration": 8,
    "start_time": "2022-03-17T20:30:28.884Z"
   },
   {
    "duration": 14,
    "start_time": "2022-03-17T20:32:08.318Z"
   },
   {
    "duration": 9,
    "start_time": "2022-03-17T20:32:16.280Z"
   },
   {
    "duration": 547,
    "start_time": "2022-03-17T20:38:05.721Z"
   },
   {
    "duration": 14,
    "start_time": "2022-03-17T20:38:30.704Z"
   },
   {
    "duration": 261,
    "start_time": "2022-03-17T20:39:01.935Z"
   },
   {
    "duration": 585,
    "start_time": "2022-03-17T20:39:43.592Z"
   },
   {
    "duration": 197,
    "start_time": "2022-03-17T20:41:07.828Z"
   },
   {
    "duration": 205,
    "start_time": "2022-03-17T20:41:28.392Z"
   },
   {
    "duration": 74,
    "start_time": "2022-03-17T20:41:49.594Z"
   },
   {
    "duration": 6,
    "start_time": "2022-03-17T20:43:40.281Z"
   },
   {
    "duration": 201,
    "start_time": "2022-03-17T20:44:10.624Z"
   },
   {
    "duration": 253,
    "start_time": "2022-03-17T20:46:32.164Z"
   },
   {
    "duration": 1246,
    "start_time": "2022-03-17T20:46:44.309Z"
   },
   {
    "duration": 15,
    "start_time": "2022-03-17T20:47:53.472Z"
   },
   {
    "duration": 2216,
    "start_time": "2022-03-17T20:49:09.301Z"
   },
   {
    "duration": 3,
    "start_time": "2022-03-17T20:49:11.520Z"
   },
   {
    "duration": 1640,
    "start_time": "2022-03-17T20:49:11.525Z"
   },
   {
    "duration": 30,
    "start_time": "2022-03-17T20:49:13.167Z"
   },
   {
    "duration": 5,
    "start_time": "2022-03-17T20:49:13.198Z"
   },
   {
    "duration": 6,
    "start_time": "2022-03-17T20:49:13.205Z"
   },
   {
    "duration": 8,
    "start_time": "2022-03-17T20:49:13.212Z"
   },
   {
    "duration": 29,
    "start_time": "2022-03-17T20:49:13.222Z"
   },
   {
    "duration": 6,
    "start_time": "2022-03-17T20:49:13.253Z"
   },
   {
    "duration": 4,
    "start_time": "2022-03-17T20:49:13.262Z"
   },
   {
    "duration": 10,
    "start_time": "2022-03-17T20:49:13.267Z"
   },
   {
    "duration": 11,
    "start_time": "2022-03-17T20:49:13.279Z"
   },
   {
    "duration": 8,
    "start_time": "2022-03-17T20:49:13.291Z"
   },
   {
    "duration": 93,
    "start_time": "2022-03-17T20:49:13.301Z"
   },
   {
    "duration": 271,
    "start_time": "2022-03-17T20:49:13.396Z"
   },
   {
    "duration": 1208,
    "start_time": "2022-03-17T20:49:13.669Z"
   },
   {
    "duration": 14,
    "start_time": "2022-03-17T20:49:14.879Z"
   },
   {
    "duration": 202,
    "start_time": "2022-03-17T20:49:14.895Z"
   },
   {
    "duration": 9,
    "start_time": "2022-03-17T20:49:15.099Z"
   },
   {
    "duration": 8518,
    "start_time": "2022-03-17T20:53:47.564Z"
   },
   {
    "duration": 167207,
    "start_time": "2022-03-17T21:01:32.926Z"
   },
   {
    "duration": 48026,
    "start_time": "2022-03-17T21:04:22.357Z"
   },
   {
    "duration": 3,
    "start_time": "2022-03-17T21:06:18.616Z"
   },
   {
    "duration": 4,
    "start_time": "2022-03-17T21:06:30.126Z"
   },
   {
    "duration": 4,
    "start_time": "2022-03-17T21:13:06.939Z"
   },
   {
    "duration": 9,
    "start_time": "2022-03-17T21:13:06.947Z"
   },
   {
    "duration": 1683,
    "start_time": "2022-03-17T21:13:06.958Z"
   },
   {
    "duration": 30,
    "start_time": "2022-03-17T21:13:08.643Z"
   },
   {
    "duration": 5,
    "start_time": "2022-03-17T21:13:08.675Z"
   },
   {
    "duration": 15,
    "start_time": "2022-03-17T21:13:08.682Z"
   },
   {
    "duration": 21,
    "start_time": "2022-03-17T21:13:08.698Z"
   },
   {
    "duration": 16,
    "start_time": "2022-03-17T21:13:08.721Z"
   },
   {
    "duration": 7,
    "start_time": "2022-03-17T21:13:08.739Z"
   },
   {
    "duration": 3,
    "start_time": "2022-03-17T21:13:08.748Z"
   },
   {
    "duration": 8,
    "start_time": "2022-03-17T21:13:08.753Z"
   },
   {
    "duration": 6,
    "start_time": "2022-03-17T21:13:08.762Z"
   },
   {
    "duration": 7,
    "start_time": "2022-03-17T21:13:08.769Z"
   },
   {
    "duration": 95,
    "start_time": "2022-03-17T21:13:08.777Z"
   },
   {
    "duration": 221,
    "start_time": "2022-03-17T21:13:08.874Z"
   },
   {
    "duration": 1025,
    "start_time": "2022-03-17T21:13:09.096Z"
   },
   {
    "duration": 20,
    "start_time": "2022-03-17T21:13:10.122Z"
   },
   {
    "duration": 203,
    "start_time": "2022-03-17T21:13:10.143Z"
   },
   {
    "duration": 8,
    "start_time": "2022-03-17T21:13:10.348Z"
   },
   {
    "duration": 19,
    "start_time": "2022-03-17T21:13:10.358Z"
   },
   {
    "duration": 7815,
    "start_time": "2022-03-17T21:13:10.378Z"
   },
   {
    "duration": 181,
    "start_time": "2022-03-17T21:13:21.667Z"
   },
   {
    "duration": 173420,
    "start_time": "2022-03-17T21:14:04.859Z"
   },
   {
    "duration": 138874,
    "start_time": "2022-03-17T21:17:16.730Z"
   },
   {
    "duration": 15361,
    "start_time": "2022-03-17T21:19:38.655Z"
   },
   {
    "duration": 25280,
    "start_time": "2022-03-17T21:19:57.466Z"
   },
   {
    "duration": 15,
    "start_time": "2022-03-17T21:23:13.320Z"
   },
   {
    "duration": 13,
    "start_time": "2022-03-17T21:23:44.361Z"
   },
   {
    "duration": 13,
    "start_time": "2022-03-17T21:24:45.975Z"
   },
   {
    "duration": 18,
    "start_time": "2022-03-17T21:25:16.829Z"
   },
   {
    "duration": 13,
    "start_time": "2022-03-17T21:25:25.371Z"
   },
   {
    "duration": 15,
    "start_time": "2022-03-17T21:25:53.976Z"
   },
   {
    "duration": 31471,
    "start_time": "2022-03-17T21:26:27.598Z"
   },
   {
    "duration": 179,
    "start_time": "2022-03-17T21:28:27.062Z"
   },
   {
    "duration": 190,
    "start_time": "2022-03-17T21:30:35.419Z"
   },
   {
    "duration": 35,
    "start_time": "2022-03-17T21:30:46.692Z"
   },
   {
    "duration": 152791,
    "start_time": "2022-03-17T21:31:14.528Z"
   },
   {
    "duration": 0,
    "start_time": "2022-03-17T21:33:47.320Z"
   },
   {
    "duration": 160205,
    "start_time": "2022-03-17T21:33:49.285Z"
   },
   {
    "duration": 33915,
    "start_time": "2022-03-17T21:37:02.791Z"
   },
   {
    "duration": 217,
    "start_time": "2022-03-17T21:38:41.491Z"
   },
   {
    "duration": 173,
    "start_time": "2022-03-17T21:38:54.780Z"
   },
   {
    "duration": 8,
    "start_time": "2022-03-17T21:40:43.015Z"
   },
   {
    "duration": 3,
    "start_time": "2022-03-17T21:43:59.510Z"
   },
   {
    "duration": 9,
    "start_time": "2022-03-17T21:43:59.518Z"
   },
   {
    "duration": 1693,
    "start_time": "2022-03-17T21:43:59.529Z"
   },
   {
    "duration": 38,
    "start_time": "2022-03-17T21:44:01.224Z"
   },
   {
    "duration": 7,
    "start_time": "2022-03-17T21:44:01.264Z"
   },
   {
    "duration": 11,
    "start_time": "2022-03-17T21:44:01.273Z"
   },
   {
    "duration": 10,
    "start_time": "2022-03-17T21:44:01.286Z"
   },
   {
    "duration": 19,
    "start_time": "2022-03-17T21:44:01.298Z"
   },
   {
    "duration": 48,
    "start_time": "2022-03-17T21:44:01.319Z"
   },
   {
    "duration": 18,
    "start_time": "2022-03-17T21:44:01.369Z"
   },
   {
    "duration": 25,
    "start_time": "2022-03-17T21:44:01.389Z"
   },
   {
    "duration": 49,
    "start_time": "2022-03-17T21:44:01.416Z"
   },
   {
    "duration": 31,
    "start_time": "2022-03-17T21:44:01.467Z"
   },
   {
    "duration": 81,
    "start_time": "2022-03-17T21:44:01.500Z"
   },
   {
    "duration": 277,
    "start_time": "2022-03-17T21:44:01.585Z"
   },
   {
    "duration": 1185,
    "start_time": "2022-03-17T21:44:01.864Z"
   },
   {
    "duration": 15,
    "start_time": "2022-03-17T21:44:03.051Z"
   },
   {
    "duration": 209,
    "start_time": "2022-03-17T21:44:03.068Z"
   },
   {
    "duration": 9,
    "start_time": "2022-03-17T21:44:03.278Z"
   },
   {
    "duration": 8,
    "start_time": "2022-03-17T21:44:03.288Z"
   },
   {
    "duration": 8603,
    "start_time": "2022-03-17T21:44:03.297Z"
   },
   {
    "duration": 27181,
    "start_time": "2022-03-17T21:44:11.902Z"
   },
   {
    "duration": 34126,
    "start_time": "2022-03-17T21:44:39.085Z"
   },
   {
    "duration": 165696,
    "start_time": "2022-03-17T21:45:13.213Z"
   },
   {
    "duration": 208,
    "start_time": "2022-03-17T21:47:58.911Z"
   },
   {
    "duration": 165,
    "start_time": "2022-03-17T21:47:59.120Z"
   },
   {
    "duration": 8,
    "start_time": "2022-03-17T21:47:59.287Z"
   },
   {
    "duration": 110,
    "start_time": "2022-03-17T21:49:25.214Z"
   },
   {
    "duration": 16,
    "start_time": "2022-03-17T21:49:55.852Z"
   },
   {
    "duration": 15,
    "start_time": "2022-03-17T21:50:53.351Z"
   },
   {
    "duration": 19,
    "start_time": "2022-03-17T21:51:09.285Z"
   },
   {
    "duration": 20,
    "start_time": "2022-03-17T21:51:14.608Z"
   },
   {
    "duration": 16,
    "start_time": "2022-03-17T21:52:24.955Z"
   },
   {
    "duration": 14,
    "start_time": "2022-03-17T21:57:45.748Z"
   },
   {
    "duration": 13,
    "start_time": "2022-03-17T21:58:31.263Z"
   },
   {
    "duration": 19,
    "start_time": "2022-03-17T22:01:27.456Z"
   },
   {
    "duration": 28,
    "start_time": "2022-03-17T22:01:41.555Z"
   },
   {
    "duration": 11,
    "start_time": "2022-03-17T22:01:54.438Z"
   },
   {
    "duration": 35,
    "start_time": "2022-03-17T22:02:01.591Z"
   },
   {
    "duration": 34,
    "start_time": "2022-03-17T22:03:08.706Z"
   },
   {
    "duration": 17,
    "start_time": "2022-03-17T22:05:19.151Z"
   },
   {
    "duration": 32,
    "start_time": "2022-03-17T22:05:46.032Z"
   },
   {
    "duration": 39,
    "start_time": "2022-03-17T22:06:06.793Z"
   },
   {
    "duration": 36,
    "start_time": "2022-03-17T22:06:40.126Z"
   },
   {
    "duration": 172,
    "start_time": "2022-03-17T22:07:15.985Z"
   },
   {
    "duration": 10,
    "start_time": "2022-03-17T22:07:25.403Z"
   },
   {
    "duration": 20,
    "start_time": "2022-03-17T22:11:45.673Z"
   },
   {
    "duration": 2154,
    "start_time": "2022-03-17T22:20:51.266Z"
   },
   {
    "duration": 41903,
    "start_time": "2022-03-18T18:00:05.616Z"
   },
   {
    "duration": 44763,
    "start_time": "2022-03-18T18:00:47.522Z"
   },
   {
    "duration": 93974,
    "start_time": "2022-03-18T18:01:32.288Z"
   },
   {
    "duration": 47,
    "start_time": "2022-03-18T18:03:06.265Z"
   },
   {
    "duration": 10,
    "start_time": "2022-03-18T18:03:06.315Z"
   },
   {
    "duration": 40,
    "start_time": "2022-03-18T18:03:06.327Z"
   },
   {
    "duration": 9,
    "start_time": "2022-03-18T18:03:06.369Z"
   },
   {
    "duration": 23,
    "start_time": "2022-03-18T18:03:06.380Z"
   },
   {
    "duration": 10,
    "start_time": "2022-03-18T18:03:06.405Z"
   },
   {
    "duration": 32,
    "start_time": "2022-03-18T18:03:06.420Z"
   },
   {
    "duration": 23,
    "start_time": "2022-03-18T18:03:06.455Z"
   },
   {
    "duration": 11,
    "start_time": "2022-03-18T18:03:06.481Z"
   },
   {
    "duration": 15,
    "start_time": "2022-03-18T18:03:06.495Z"
   },
   {
    "duration": 104,
    "start_time": "2022-03-18T18:03:06.512Z"
   },
   {
    "duration": 459,
    "start_time": "2022-03-18T18:03:06.618Z"
   },
   {
    "duration": 2086,
    "start_time": "2022-03-18T18:03:07.079Z"
   },
   {
    "duration": 27,
    "start_time": "2022-03-18T18:03:09.167Z"
   },
   {
    "duration": 318,
    "start_time": "2022-03-18T18:03:09.197Z"
   },
   {
    "duration": 29,
    "start_time": "2022-03-18T18:03:09.518Z"
   },
   {
    "duration": 19,
    "start_time": "2022-03-18T18:03:09.551Z"
   },
   {
    "duration": 15442,
    "start_time": "2022-03-18T18:03:09.572Z"
   },
   {
    "duration": 42253,
    "start_time": "2022-03-18T18:03:52.197Z"
   },
   {
    "duration": 55783,
    "start_time": "2022-03-18T18:04:34.454Z"
   },
   {
    "duration": 11,
    "start_time": "2022-03-18T18:05:43.080Z"
   },
   {
    "duration": 4,
    "start_time": "2022-03-18T18:13:25.364Z"
   }
  ],
  "kernelspec": {
   "display_name": "Python 3 (ipykernel)",
   "language": "python",
   "name": "python3"
  },
  "language_info": {
   "codemirror_mode": {
    "name": "ipython",
    "version": 3
   },
   "file_extension": ".py",
   "mimetype": "text/x-python",
   "name": "python",
   "nbconvert_exporter": "python",
   "pygments_lexer": "ipython3",
   "version": "3.9.10"
  },
  "toc": {
   "base_numbering": 1,
   "nav_menu": {},
   "number_sections": true,
   "sideBar": true,
   "skip_h1_title": true,
   "title_cell": "Содержание",
   "title_sidebar": "Содержание",
   "toc_cell": true,
   "toc_position": {
    "height": "calc(100% - 180px)",
    "left": "10px",
    "top": "150px",
    "width": "331.449px"
   },
   "toc_section_display": true,
   "toc_window_display": true
  }
 },
 "nbformat": 4,
 "nbformat_minor": 2
}
