{
 "cells": [
  {
   "cell_type": "markdown",
   "metadata": {
    "id": "GOq_bnxOg18f",
    "toc": true
   },
   "source": [
    "<h1>Содержание<span class=\"tocSkip\"></span></h1>\n",
    "<div class=\"toc\"><ul class=\"toc-item\"><li><span><a href=\"#Подготовка\" data-toc-modified-id=\"Подготовка-1\"><span class=\"toc-item-num\">1&nbsp;&nbsp;</span>Подготовка</a></span><ul class=\"toc-item\"><li><span><a href=\"#EDA\" data-toc-modified-id=\"EDA-1.1\"><span class=\"toc-item-num\">1.1&nbsp;&nbsp;</span>EDA</a></span><ul class=\"toc-item\"><li><span><a href=\"#Баланс-классов\" data-toc-modified-id=\"Баланс-классов-1.1.1\"><span class=\"toc-item-num\">1.1.1&nbsp;&nbsp;</span>Баланс классов</a></span></li><li><span><a href=\"#Длина-знаков-и-слов-в-классах\" data-toc-modified-id=\"Длина-знаков-и-слов-в-классах-1.1.2\"><span class=\"toc-item-num\">1.1.2&nbsp;&nbsp;</span>Длина знаков и слов в классах</a></span></li><li><span><a href=\"#Встречаемость-слов-в-в-классах\" data-toc-modified-id=\"Встречаемость-слов-в-в-классах-1.1.3\"><span class=\"toc-item-num\">1.1.3&nbsp;&nbsp;</span>Встречаемость слов в в классах</a></span></li><li><span><a href=\"#Встречаемость-слов-в-разных-темах-для-разных-классов\" data-toc-modified-id=\"Встречаемость-слов-в-разных-темах-для-разных-классов-1.1.4\"><span class=\"toc-item-num\">1.1.4&nbsp;&nbsp;</span>Встречаемость слов в разных темах для разных классов</a></span></li></ul></li><li><span><a href=\"#Подготовка-данных-к-обучению-модели\" data-toc-modified-id=\"Подготовка-данных-к-обучению-модели-1.2\"><span class=\"toc-item-num\">1.2&nbsp;&nbsp;</span>Подготовка данных к обучению модели</a></span></li><li><span><a href=\"#Вывод\" data-toc-modified-id=\"Вывод-1.3\"><span class=\"toc-item-num\">1.3&nbsp;&nbsp;</span>Вывод</a></span></li></ul></li><li><span><a href=\"#Обучение\" data-toc-modified-id=\"Обучение-2\"><span class=\"toc-item-num\">2&nbsp;&nbsp;</span>Обучение</a></span><ul class=\"toc-item\"><li><span><a href=\"#Logistic-Regression\" data-toc-modified-id=\"Logistic-Regression-2.1\"><span class=\"toc-item-num\">2.1&nbsp;&nbsp;</span>Logistic Regression</a></span></li><li><span><a href=\"#Random-Forest\" data-toc-modified-id=\"Random-Forest-2.2\"><span class=\"toc-item-num\">2.2&nbsp;&nbsp;</span>Random Forest</a></span></li><li><span><a href=\"#CatBoost\" data-toc-modified-id=\"CatBoost-2.3\"><span class=\"toc-item-num\">2.3&nbsp;&nbsp;</span>CatBoost</a></span></li><li><span><a href=\"#Вывод\" data-toc-modified-id=\"Вывод-2.4\"><span class=\"toc-item-num\">2.4&nbsp;&nbsp;</span>Вывод</a></span></li><li><span><a href=\"#Тестирование-модели\" data-toc-modified-id=\"Тестирование-модели-2.5\"><span class=\"toc-item-num\">2.5&nbsp;&nbsp;</span>Тестирование модели</a></span></li></ul></li><li><span><a href=\"#Выводы\" data-toc-modified-id=\"Выводы-3\"><span class=\"toc-item-num\">3&nbsp;&nbsp;</span>Выводы</a></span></li></ul></div>"
   ]
  },
  {
   "cell_type": "markdown",
   "metadata": {
    "id": "lBNn6iJ1g18f"
   },
   "source": [
    "# Проект для анализа токсичности комментариев пользователей"
   ]
  },
  {
   "cell_type": "markdown",
   "metadata": {
    "id": "Yr5EemPtg18g"
   },
   "source": [
    "**Задача**\n",
    "\n",
    "Построить модель классификации для поиска токсичных комментариев пользователей. Поиск токсичных комментарив необходим, чтобы в дальнейшем автоматически отправлять их на модерацию. \n",
    "В качестве оценки качества модели была выбрана `F1`, значение которой должно быть не меньше 0.75. \n",
    "\n",
    "**Описание данных**\n",
    "\n",
    "В наличие были данные с разметкой на позитивные и негативные сообщения.\n",
    "Колонка `text` содержит текст комментария, а `toxic` — разметку."
   ]
  },
  {
   "cell_type": "markdown",
   "metadata": {
    "id": "It-AJUXjg18h"
   },
   "source": [
    "## Подготовка"
   ]
  },
  {
   "cell_type": "code",
   "execution_count": 1,
   "metadata": {
    "id": "C5OqFDdng18i",
    "outputId": "446fda7e-ec2a-4648-8968-33e5c4d7f997"
   },
   "outputs": [
    {
     "name": "stdout",
     "output_type": "stream",
     "text": [
      "Requirement already satisfied: pyldavis in d:\\anaconda3\\envs\\ds_practicum_env\\lib\\site-packages (3.3.1)\n",
      "Requirement already satisfied: gensim in d:\\anaconda3\\envs\\ds_practicum_env\\lib\\site-packages (from pyldavis) (4.2.0)\n",
      "Requirement already satisfied: joblib in d:\\anaconda3\\envs\\ds_practicum_env\\lib\\site-packages (from pyldavis) (1.1.0)\n",
      "Requirement already satisfied: funcy in d:\\anaconda3\\envs\\ds_practicum_env\\lib\\site-packages (from pyldavis) (1.17)\n",
      "Requirement already satisfied: setuptools in d:\\anaconda3\\envs\\ds_practicum_env\\lib\\site-packages (from pyldavis) (60.10.0)\n",
      "Requirement already satisfied: pandas>=1.2.0 in d:\\anaconda3\\envs\\ds_practicum_env\\lib\\site-packages (from pyldavis) (1.4.2)\n",
      "Requirement already satisfied: jinja2 in d:\\anaconda3\\envs\\ds_practicum_env\\lib\\site-packages (from pyldavis) (3.0.3)\n",
      "Requirement already satisfied: numexpr in d:\\anaconda3\\envs\\ds_practicum_env\\lib\\site-packages (from pyldavis) (2.8.1)\n",
      "Requirement already satisfied: numpy>=1.20.0 in d:\\anaconda3\\envs\\ds_practicum_env\\lib\\site-packages (from pyldavis) (1.20.1)\n",
      "Requirement already satisfied: sklearn in d:\\anaconda3\\envs\\ds_practicum_env\\lib\\site-packages (from pyldavis) (0.0)\n",
      "Requirement already satisfied: scikit-learn in c:\\users\\podtu\\appdata\\roaming\\python\\python39\\site-packages (from pyldavis) (1.0.2)\n",
      "Requirement already satisfied: scipy in d:\\anaconda3\\envs\\ds_practicum_env\\lib\\site-packages (from pyldavis) (1.8.0)\n",
      "Requirement already satisfied: future in d:\\anaconda3\\envs\\ds_practicum_env\\lib\\site-packages (from pyldavis) (0.18.2)\n",
      "Requirement already satisfied: pytz>=2020.1 in d:\\anaconda3\\envs\\ds_practicum_env\\lib\\site-packages (from pandas>=1.2.0->pyldavis) (2022.1)\n",
      "Requirement already satisfied: python-dateutil>=2.8.1 in d:\\anaconda3\\envs\\ds_practicum_env\\lib\\site-packages (from pandas>=1.2.0->pyldavis) (2.8.2)\n",
      "Requirement already satisfied: Cython==0.29.28 in d:\\anaconda3\\envs\\ds_practicum_env\\lib\\site-packages (from gensim->pyldavis) (0.29.28)\n",
      "Requirement already satisfied: smart-open>=1.8.1 in d:\\anaconda3\\envs\\ds_practicum_env\\lib\\site-packages (from gensim->pyldavis) (6.0.0)\n",
      "Requirement already satisfied: MarkupSafe>=2.0 in d:\\anaconda3\\envs\\ds_practicum_env\\lib\\site-packages (from jinja2->pyldavis) (2.1.1)\n",
      "Requirement already satisfied: packaging in d:\\anaconda3\\envs\\ds_practicum_env\\lib\\site-packages (from numexpr->pyldavis) (21.3)\n",
      "Requirement already satisfied: threadpoolctl>=2.0.0 in d:\\anaconda3\\envs\\ds_practicum_env\\lib\\site-packages (from scikit-learn->pyldavis) (3.1.0)\n",
      "Requirement already satisfied: six>=1.5 in d:\\anaconda3\\envs\\ds_practicum_env\\lib\\site-packages (from python-dateutil>=2.8.1->pandas>=1.2.0->pyldavis) (1.16.0)\n",
      "Requirement already satisfied: pyparsing!=3.0.5,>=2.0.2 in d:\\anaconda3\\envs\\ds_practicum_env\\lib\\site-packages (from packaging->numexpr->pyldavis) (3.0.7)\n"
     ]
    }
   ],
   "source": [
    "! pip install pyldavis -U"
   ]
  },
  {
   "cell_type": "code",
   "execution_count": 2,
   "metadata": {
    "id": "-fXBw5sbg18j"
   },
   "outputs": [],
   "source": [
    "import warnings\n",
    "import os\n",
    "import numpy as np\n",
    "import pandas as pd\n",
    "import matplotlib.pyplot as plt\n",
    "import seaborn as sns\n",
    "import re\n",
    "import nltk\n",
    "import collections\n",
    "from nltk.corpus import stopwords\n",
    "import collections\n",
    "\n",
    "from nltk.stem import WordNetLemmatizer\n",
    "from nltk.tokenize import word_tokenize\n",
    "import nltk\n",
    "\n",
    "from sklearn.feature_extraction.text import CountVectorizer \n",
    "from sklearn.decomposition import LatentDirichletAllocation, NMF\n",
    "import pyLDAvis.sklearn\n",
    "\n",
    "import torch\n",
    "import transformers\n",
    "from transformers import BertTokenizer, BertModel\n",
    "from tqdm import notebook\n",
    "\n",
    "from sklearn.model_selection import cross_val_score\n",
    "from sklearn.model_selection import RandomizedSearchCV\n",
    "from sklearn.model_selection import train_test_split\n",
    "from sklearn.metrics import classification_report\n",
    "from sklearn.metrics import confusion_matrix\n",
    "from sklearn.metrics import ConfusionMatrixDisplay\n",
    "from sklearn import metrics\n",
    "from sklearn.metrics import roc_auc_score \n",
    "\n",
    "from sklearn.linear_model import LogisticRegression\n",
    "from sklearn.ensemble import RandomForestClassifier\n",
    "from catboost import CatBoostClassifier, Pool, metrics, cv\n",
    "from catboost.utils import get_roc_curve"
   ]
  },
  {
   "cell_type": "code",
   "execution_count": 3,
   "metadata": {
    "id": "hOkLvircg18j"
   },
   "outputs": [],
   "source": [
    "warnings.filterwarnings('ignore')"
   ]
  },
  {
   "cell_type": "markdown",
   "metadata": {
    "id": "WyxTwXQOg18k"
   },
   "source": [
    "* Для получения контекстуальных эмбедингов обратимся к предобученной модели `unitary/toxic-bert`, которую обучали на токсичность комментарирев.\n",
    "https://huggingface.co/unitary/toxic-bert"
   ]
  },
  {
   "cell_type": "code",
   "execution_count": null,
   "metadata": {
    "colab": {
     "referenced_widgets": [
      "8a9712c152d34fe8a98638a1f3744d78",
      "8644443592274e44a217c807997a45ca",
      "2efa5c5c4256404babff5e8db404dd87",
      "d88abd3aac12498eb283c841305ee134",
      "3c7f9d20996f49ffaa3df980c8560cbb"
     ]
    },
    "id": "6xrgauMPg18k",
    "outputId": "7a95a987-3abd-4cc4-aa4d-657a2d8d11d7"
   },
   "outputs": [
    {
     "data": {
      "application/vnd.jupyter.widget-view+json": {
       "model_id": "8a9712c152d34fe8a98638a1f3744d78",
       "version_major": 2,
       "version_minor": 0
      },
      "text/plain": [
       "Downloading:   0%|          | 0.00/811 [00:00<?, ?B/s]"
      ]
     },
     "metadata": {},
     "output_type": "display_data"
    },
    {
     "data": {
      "application/vnd.jupyter.widget-view+json": {
       "model_id": "8644443592274e44a217c807997a45ca",
       "version_major": 2,
       "version_minor": 0
      },
      "text/plain": [
       "Downloading:   0%|          | 0.00/418M [00:00<?, ?B/s]"
      ]
     },
     "metadata": {},
     "output_type": "display_data"
    },
    {
     "name": "stderr",
     "output_type": "stream",
     "text": [
      "Some weights of the model checkpoint at unitary/toxic-bert were not used when initializing BertModel: ['classifier.bias', 'classifier.weight']\n",
      "- This IS expected if you are initializing BertModel from the checkpoint of a model trained on another task or with another architecture (e.g. initializing a BertForSequenceClassification model from a BertForPreTraining model).\n",
      "- This IS NOT expected if you are initializing BertModel from the checkpoint of a model that you expect to be exactly identical (initializing a BertForSequenceClassification model from a BertForSequenceClassification model).\n"
     ]
    },
    {
     "data": {
      "application/vnd.jupyter.widget-view+json": {
       "model_id": "2efa5c5c4256404babff5e8db404dd87",
       "version_major": 2,
       "version_minor": 0
      },
      "text/plain": [
       "Downloading:   0%|          | 0.00/226k [00:00<?, ?B/s]"
      ]
     },
     "metadata": {},
     "output_type": "display_data"
    },
    {
     "data": {
      "application/vnd.jupyter.widget-view+json": {
       "model_id": "d88abd3aac12498eb283c841305ee134",
       "version_major": 2,
       "version_minor": 0
      },
      "text/plain": [
       "Downloading:   0%|          | 0.00/112 [00:00<?, ?B/s]"
      ]
     },
     "metadata": {},
     "output_type": "display_data"
    },
    {
     "data": {
      "application/vnd.jupyter.widget-view+json": {
       "model_id": "3c7f9d20996f49ffaa3df980c8560cbb",
       "version_major": 2,
       "version_minor": 0
      },
      "text/plain": [
       "Downloading:   0%|          | 0.00/174 [00:00<?, ?B/s]"
      ]
     },
     "metadata": {},
     "output_type": "display_data"
    }
   ],
   "source": [
    "# Поместим установку необходимой библиотеки в самом начале тетрадки\n",
    "model = BertModel.from_pretrained('unitary/toxic-bert',\n",
    "                                  output_hidden_states = True, \n",
    "                                  )\n",
    "tokenizer = BertTokenizer.from_pretrained('unitary/toxic-bert')\n"
   ]
  },
  {
   "cell_type": "code",
   "execution_count": 4,
   "metadata": {
    "id": "lCb9N_BRg18l"
   },
   "outputs": [],
   "source": [
    "# Импорируем таблицу с текстами\n",
    "path = '/datasets/toxic_comments.csv'\n",
    "path2 = r'D:/Yandex/Модуль 3/Тексты/toxic_comments.csv'\n",
    "list_of_pathes = [path, path2]\n",
    "\n",
    "comments = [pd.read_csv(path) for path in list_of_pathes if os.path.exists(path)][0]"
   ]
  },
  {
   "cell_type": "code",
   "execution_count": null,
   "metadata": {
    "id": "UUgGcvnbg18l"
   },
   "outputs": [],
   "source": [
    "#Функция получения информации о таблице\n",
    "def df_info(df):\n",
    "    display(df.head())\n",
    "    print()\n",
    "    print('Объем таблицы', df.shape)\n",
    "    print()\n",
    "    print('Информация о таблице', df.info())\n",
    "    print()\n",
    "    print('Пропуски')\n",
    "    print(df.isna().sum())\n",
    "   \n",
    "    print()\n",
    "    print('Дубликаты', df.duplicated().sum())\n"
   ]
  },
  {
   "cell_type": "code",
   "execution_count": null,
   "metadata": {
    "id": "1wDKkkeqg18m",
    "outputId": "56b4dd6d-fd4b-4282-bfdb-abceaf85b789"
   },
   "outputs": [
    {
     "data": {
      "text/html": [
       "<div>\n",
       "<style scoped>\n",
       "    .dataframe tbody tr th:only-of-type {\n",
       "        vertical-align: middle;\n",
       "    }\n",
       "\n",
       "    .dataframe tbody tr th {\n",
       "        vertical-align: top;\n",
       "    }\n",
       "\n",
       "    .dataframe thead th {\n",
       "        text-align: right;\n",
       "    }\n",
       "</style>\n",
       "<table border=\"1\" class=\"dataframe\">\n",
       "  <thead>\n",
       "    <tr style=\"text-align: right;\">\n",
       "      <th></th>\n",
       "      <th>text</th>\n",
       "      <th>toxic</th>\n",
       "    </tr>\n",
       "  </thead>\n",
       "  <tbody>\n",
       "    <tr>\n",
       "      <th>0</th>\n",
       "      <td>Explanation\\nWhy the edits made under my usern...</td>\n",
       "      <td>0</td>\n",
       "    </tr>\n",
       "    <tr>\n",
       "      <th>1</th>\n",
       "      <td>D'aww! He matches this background colour I'm s...</td>\n",
       "      <td>0</td>\n",
       "    </tr>\n",
       "    <tr>\n",
       "      <th>2</th>\n",
       "      <td>Hey man, I'm really not trying to edit war. It...</td>\n",
       "      <td>0</td>\n",
       "    </tr>\n",
       "    <tr>\n",
       "      <th>3</th>\n",
       "      <td>\"\\nMore\\nI can't make any real suggestions on ...</td>\n",
       "      <td>0</td>\n",
       "    </tr>\n",
       "    <tr>\n",
       "      <th>4</th>\n",
       "      <td>You, sir, are my hero. Any chance you remember...</td>\n",
       "      <td>0</td>\n",
       "    </tr>\n",
       "  </tbody>\n",
       "</table>\n",
       "</div>"
      ],
      "text/plain": [
       "                                                text  toxic\n",
       "0  Explanation\\nWhy the edits made under my usern...      0\n",
       "1  D'aww! He matches this background colour I'm s...      0\n",
       "2  Hey man, I'm really not trying to edit war. It...      0\n",
       "3  \"\\nMore\\nI can't make any real suggestions on ...      0\n",
       "4  You, sir, are my hero. Any chance you remember...      0"
      ]
     },
     "metadata": {},
     "output_type": "display_data"
    },
    {
     "name": "stdout",
     "output_type": "stream",
     "text": [
      "\n",
      "Объем таблицы (159571, 2)\n",
      "\n",
      "<class 'pandas.core.frame.DataFrame'>\n",
      "RangeIndex: 159571 entries, 0 to 159570\n",
      "Data columns (total 2 columns):\n",
      " #   Column  Non-Null Count   Dtype \n",
      "---  ------  --------------   ----- \n",
      " 0   text    159571 non-null  object\n",
      " 1   toxic   159571 non-null  int64 \n",
      "dtypes: int64(1), object(1)\n",
      "memory usage: 2.4+ MB\n",
      "Информация о таблице None\n",
      "\n",
      "Пропуски\n",
      "text     0\n",
      "toxic    0\n",
      "dtype: int64\n",
      "\n",
      "Дубликаты 0\n"
     ]
    }
   ],
   "source": [
    "df_info(comments)"
   ]
  },
  {
   "cell_type": "markdown",
   "metadata": {
    "id": "PKAw7ec6g18m"
   },
   "source": [
    "* Таблица `comments` содержит 159571 строк и два столбца - с текстами и разметкой.\n",
    "* В таблица не содержит пропусков и дубликатов.\n",
    "* Формат строк верный.\n",
    "* Отберем первые 1000 строк из таблицы для отработки метода `BERT`.\n"
   ]
  },
  {
   "cell_type": "code",
   "execution_count": 5,
   "metadata": {
    "id": "A6Fw9w6kg18m"
   },
   "outputs": [],
   "source": [
    "comments_1 = comments[:1000]"
   ]
  },
  {
   "cell_type": "markdown",
   "metadata": {
    "id": "7a4zZAEQg18n"
   },
   "source": [
    "### EDA"
   ]
  },
  {
   "cell_type": "markdown",
   "metadata": {
    "id": "IQi1bENqg18n"
   },
   "source": [
    "#### Баланс классов"
   ]
  },
  {
   "cell_type": "markdown",
   "metadata": {
    "id": "35-CnmWBg18n"
   },
   "source": [
    "* Посмотрим на баланс между классами."
   ]
  },
  {
   "cell_type": "code",
   "execution_count": null,
   "metadata": {
    "id": "wUIV6NhUg18n",
    "outputId": "d747f2fc-b7ed-4ab2-a4f9-a420bd0dc113"
   },
   "outputs": [
    {
     "data": {
      "image/png": "[encoded data removed]",
      "text/plain": [
       "<Figure size 720x576 with 1 Axes>"
      ]
     },
     "metadata": {
      "needs_background": "light"
     },
     "output_type": "display_data"
    },
    {
     "name": "stdout",
     "output_type": "stream",
     "text": [
      "0    892\n",
      "1    108\n",
      "Name: toxic, dtype: int64\n"
     ]
    }
   ],
   "source": [
    "comments_1['toxic'].value_counts().plot(kind='bar', figsize=(10,8), color='g')\n",
    "plt.title('Баланс классов в сообщениях пользователей')\n",
    "plt.ylabel('Частота')\n",
    "plt.xlabel('Классы токсичности')\n",
    "plt.show()\n",
    "\n",
    "print(comments_1['toxic'].value_counts())\n"
   ]
  },
  {
   "cell_type": "markdown",
   "metadata": {
    "id": "Xm5QDG0mg18o"
   },
   "source": [
    "* Дисбаланс в пользу нетоксичных классов, значит целевые сообщения находятся в меньшинстве."
   ]
  },
  {
   "cell_type": "markdown",
   "metadata": {
    "id": "7OK1d7j-g18o"
   },
   "source": [
    "#### Длина знаков и слов в классах"
   ]
  },
  {
   "cell_type": "markdown",
   "metadata": {
    "id": "Tlha1ZZrg18o"
   },
   "source": [
    "* Посмотрим на длину сообщений для обоих классов."
   ]
  },
  {
   "cell_type": "code",
   "execution_count": null,
   "metadata": {
    "id": "kfVAtiLrg18o",
    "outputId": "4c259d08-2b9b-43a5-e999-29eb26328c35",
    "scrolled": true
   },
   "outputs": [
    {
     "name": "stdout",
     "output_type": "stream",
     "text": [
      "Харакетистики длины нетоксичных комментариев count     892.000000\n",
      "mean      423.586323\n",
      "std       602.978866\n",
      "min        19.000000\n",
      "25%       105.000000\n",
      "50%       221.000000\n",
      "75%       506.000000\n",
      "max      4722.000000\n",
      "Name: text, dtype: float64\n",
      "\n",
      "Харакетистики длины токсичных комментариев count     108.000000\n",
      "mean      256.157407\n",
      "std       346.202959\n",
      "min        22.000000\n",
      "25%        63.000000\n",
      "50%       126.000000\n",
      "75%       313.000000\n",
      "max      2055.000000\n",
      "Name: text, dtype: float64\n"
     ]
    },
    {
     "data": {
      "image/png": "[encoded data removed]",
      "text/plain": [
       "<Figure size 864x720 with 1 Axes>"
      ]
     },
     "metadata": {
      "needs_background": "light"
     },
     "output_type": "display_data"
    }
   ],
   "source": [
    "comments_1.query('toxic==0')['text'].str.len().hist(bins=100, grid=False, figsize=(12,10))\n",
    "comments_1.query('toxic==1')['text'].str.len().hist(bins=100, grid=False, figsize=(12,10))\n",
    "\n",
    "print('Харакетистики длины нетоксичных комментариев', comments_1.query('toxic==0')['text'].str.len().describe())\n",
    "print()\n",
    "print('Харакетистики длины токсичных комментариев', comments_1.query('toxic==1')['text'].str.len().describe())\n",
    "\n",
    "plt.title('Длина сообщений, количество символов')\n",
    "plt.ylabel('Частота')\n",
    "plt.xlabel('Классы токсичности')\n",
    "\n",
    "plt.legend(labels=['Нетоксичные', 'Токсичные'])\n",
    "plt.show()"
   ]
  },
  {
   "cell_type": "markdown",
   "metadata": {
    "id": "Cx7gzwI6g18o"
   },
   "source": [
    "* Токсичные сообщения короче по количеству символов в строке, чем нетоксичные.\n",
    "* Посмотрим также на количество слов в строке.\n"
   ]
  },
  {
   "cell_type": "code",
   "execution_count": null,
   "metadata": {
    "id": "NnVqwyNzg18p",
    "outputId": "0967cb50-d10f-4694-f613-ab31287850ac"
   },
   "outputs": [
    {
     "name": "stdout",
     "output_type": "stream",
     "text": [
      "Харакетистики длины нетоксичных комментариев count     892.000000\n",
      "mean      423.586323\n",
      "std       602.978866\n",
      "min        19.000000\n",
      "25%       105.000000\n",
      "50%       221.000000\n",
      "75%       506.000000\n",
      "max      4722.000000\n",
      "Name: text, dtype: float64\n",
      "\n",
      "Харакетистики длины токсичных комментариев count     108.000000\n",
      "mean      256.157407\n",
      "std       346.202959\n",
      "min        22.000000\n",
      "25%        63.000000\n",
      "50%       126.000000\n",
      "75%       313.000000\n",
      "max      2055.000000\n",
      "Name: text, dtype: float64\n"
     ]
    },
    {
     "data": {
      "image/png": "[encoded data removed]",
      "text/plain": [
       "<Figure size 864x720 with 1 Axes>"
      ]
     },
     "metadata": {
      "needs_background": "light"
     },
     "output_type": "display_data"
    }
   ],
   "source": [
    "comments_1.query('toxic==0')['text'].str.split().\\\n",
    "        apply(lambda x: len(x)).\\\n",
    "        hist(bins=100, grid=False,figsize=(12,10))\n",
    "\n",
    "comments_1.query('toxic==1')['text'].str.split().\\\n",
    "        apply(lambda x: len(x)).\\\n",
    "        hist(bins=100, grid=False,figsize=(12,10))\n",
    "\n",
    "\n",
    "print('Харакетистики длины нетоксичных комментариев', comments_1.query('toxic==0')['text'].str.len().describe())\n",
    "print()\n",
    "print('Харакетистики длины токсичных комментариев', comments_1.query('toxic==1')['text'].str.len().describe())\n",
    "\n",
    "plt.title('Количество слов в сообщении')\n",
    "plt.ylabel('Частота')\n",
    "plt.xlabel('Классы токсичности')\n",
    "\n",
    "plt.legend(labels=['Нетоксичные', 'Токсичные'])\n",
    "plt.show()"
   ]
  },
  {
   "cell_type": "markdown",
   "metadata": {
    "id": "7KfqpaQXg18p"
   },
   "source": [
    "* Количество слов, очевидно, также выше в нетоксичных сообщениях."
   ]
  },
  {
   "cell_type": "markdown",
   "metadata": {
    "id": "3k10VB_qg18p"
   },
   "source": [
    "#### Встречаемость слов в в классах"
   ]
  },
  {
   "cell_type": "markdown",
   "metadata": {
    "id": "8W_j8tj-g18p"
   },
   "source": [
    "* Посмотрим на самые распространенные слова в классах. Для этого проведем лемматизацию слов, уберём лишние знаки, кроме латинского алфавита и приведем все буквы к нижнему регистру (т.к. словарь стоп слов содержит только нижний регистр)."
   ]
  },
  {
   "cell_type": "code",
   "execution_count": 6,
   "metadata": {
    "id": "6GEqFK0-g18q"
   },
   "outputs": [],
   "source": [
    "# Создадим функцию очистки текста\n",
    "lemmatizer = WordNetLemmatizer()\n",
    "\n",
    "def text_clear(text):\n",
    "    text_lower = str.lower(text)\n",
    "    lemm_list = lemmatizer.lemmatize(text_lower)\n",
    "    lemm_text = \"\".join(lemm_list)\n",
    "    text_clear = re.sub(r'[^a-zA-Z]', ' ', lemm_text)\n",
    "    text_split = ' '.join(text_clear.split()) \n",
    "\n",
    "    \n",
    "    return text_split\n",
    "\n"
   ]
  },
  {
   "cell_type": "code",
   "execution_count": 7,
   "metadata": {
    "id": "hk7ZMGjYg18q"
   },
   "outputs": [],
   "source": [
    "# Создадим корпус нетоксичных комментариев\n",
    "corpus_nontoxic = comments_1.query('toxic==0')['text'].apply(text_clear).str.split()\n",
    "\n",
    "# Создадим корпус токсичных комментариев\n",
    "corpus_toxic = comments_1.query('toxic==1')['text'].apply(text_clear).str.split()"
   ]
  },
  {
   "cell_type": "code",
   "execution_count": 8,
   "metadata": {
    "id": "ND1xf-CEg18q"
   },
   "outputs": [],
   "source": [
    "# Создадим корпус нетоксичных комментариев без стоп слов\n",
    "corpus_nontoxic = [word for text in corpus_nontoxic for word in text if word not in stopwords.words('english')]\n",
    "\n",
    "# Создадим корпус токсичных комментариев без стоп слов\n",
    "corpus_toxic = [word for text in corpus_toxic for word in text if word not in stopwords.words('english')]"
   ]
  },
  {
   "cell_type": "code",
   "execution_count": null,
   "metadata": {
    "id": "hkZE1sPug18q"
   },
   "outputs": [],
   "source": [
    "# Создадим функцию графика популярных слов\n",
    "def plot_pop_words(corpus):\n",
    " \n",
    "    # Посчитаем наиболее популярные слова\n",
    "    counter_corpus = collections.Counter(corpus).most_common(100)\n",
    "\n",
    "    \n",
    "    \n",
    "    # Построим график 20 популярных слов\n",
    "    plt.figure(figsize=(12,8))\n",
    "    stop=set(stopwords.words('english'))\n",
    "    x, y= [], []\n",
    "    for word,count in counter_corpus[:20]:\n",
    "        if (word not in stop):\n",
    "            x.append(word)\n",
    "            y.append(count)\n",
    "        \n",
    "    sns.barplot(x=y,y=x)\n",
    "\n",
    "       \n",
    "    plt.xlabel('Частота')\n",
    "    "
   ]
  },
  {
   "cell_type": "code",
   "execution_count": null,
   "metadata": {
    "id": "J3KnC-gug18r",
    "outputId": "1ccdcb15-97a7-4233-9ead-f55c90001ce5"
   },
   "outputs": [
    {
     "data": {
      "image/png": "[encoded data removed]",
      "text/plain": [
       "<Figure size 864x576 with 1 Axes>"
      ]
     },
     "metadata": {
      "needs_background": "light"
     },
     "output_type": "display_data"
    }
   ],
   "source": [
    "# Посмотрим на 20 популярные слова в нетоксичных комментариях\n",
    "plot_pop_words(corpus_nontoxic)\n",
    "plt.title('Наиболее популярные слова в нетоксичных комментариях')\n",
    "plt.show()"
   ]
  },
  {
   "cell_type": "code",
   "execution_count": null,
   "metadata": {
    "id": "n4ioc9VBg18r",
    "outputId": "00af446f-603c-4ef2-f1c2-ce533852aa4d"
   },
   "outputs": [
    {
     "data": {
      "image/png": "[encoded data removed]",
      "text/plain": [
       "<Figure size 864x576 with 1 Axes>"
      ]
     },
     "metadata": {
      "needs_background": "light"
     },
     "output_type": "display_data"
    }
   ],
   "source": [
    "# Посмотрим на 20 популярные слова в токсичных комментариях\n",
    "plot_pop_words(corpus_toxic)\n",
    "plt.title('Наиболее популярные слова в токсичных комментариях')\n",
    "plt.show()"
   ]
  },
  {
   "cell_type": "markdown",
   "metadata": {
    "id": "b3fvRIn6g18r"
   },
   "source": [
    "* В обоих классах встречаются похожие слова, как например, Wikipedia или people.\n",
    "* Однако среди токсичных комментариях встречаются также же и негативно окрашенные слова. При этом, частота таких слов меньше, что, вероятно связано, с дисбалансом классов.\n",
    "* Таким образом, классы уже отличаются по встречаемости слов, а также по их длине.\n"
   ]
  },
  {
   "cell_type": "markdown",
   "metadata": {
    "id": "jslF8fpXg18r"
   },
   "source": [
    "#### Встречаемость слов в разных темах для разных классов"
   ]
  },
  {
   "cell_type": "markdown",
   "metadata": {
    "id": "4RvX0mnBg18r"
   },
   "source": [
    "* Посмотрим на встречаемость слов в разных темах."
   ]
  },
  {
   "cell_type": "code",
   "execution_count": 9,
   "metadata": {
    "id": "PO-aOG2cg18s"
   },
   "outputs": [],
   "source": [
    "# Создадим функцию, которая посчитает 10 топ тем и встречаемость в них слов\n",
    "def topics(corpus):\n",
    "    tf_vectorizer = CountVectorizer(max_df=0.9, min_df=15, max_features=5000)\n",
    "    tf = tf_vectorizer.fit_transform(corpus)\n",
    "    tf_feature_names = tf_vectorizer.get_feature_names()\n",
    "    doc_term_matrix = pd.DataFrame(tf.toarray(), columns=list(tf_feature_names))\n",
    "    \n",
    "    lda_model = LatentDirichletAllocation(n_components=10, learning_method='online', max_iter=10, random_state=0).fit(tf)\n",
    "    no_top_words = 10\n",
    "\n",
    "    def display_topics(model, feature_names, no_top_words):\n",
    "        a = []\n",
    "        for topic_idx, topic in enumerate(model.components_):\n",
    "            print(\"Topic %d:\" % (topic_idx))\n",
    "            print(\" \".join([feature_names[i]\n",
    "                          for i in topic.argsort()[:-no_top_words - 1:-1]]))\n",
    "    \n",
    "    pyLDAvis.enable_notebook()\n",
    "    panel = pyLDAvis.sklearn.prepare(lda_model, tf, tf_vectorizer, mds='tsne')\n",
    "    return panel\n",
    "\n"
   ]
  },
  {
   "cell_type": "code",
   "execution_count": 10,
   "metadata": {
    "id": "SF0XS71rg18s",
    "outputId": "ea98b177-5bfe-4cd6-c473-e2bf97772cc5"
   },
   "outputs": [
    {
     "data": {
      "text/html": [
       "\n",
       "<link rel=\"stylesheet\" type=\"text/css\" href=\"https://cdn.jsdelivr.net/gh/bmabey/pyLDAvis@3.3.1/pyLDAvis/js/ldavis.v1.0.0.css\">\n",
       "\n",
       "\n",
       "<div id=\"ldavis_el1599219080246291683898245678\"></div>\n",
       "<script type=\"text/javascript\">\n",
       "\n",
       "var ldavis_el1599219080246291683898245678_data = {\"mdsDat\": {\"x\": [32.42095184326172, 0.648955225944519, 71.01968383789062, 3.7859814167022705, -42.666500091552734, -3.6216893196105957, -3.632401704788208, -36.58440017700195, 44.391380310058594, 40.235809326171875], \"y\": [8.115229606628418, 71.70709991455078, 9.971006393432617, 33.18513488769531, -9.22206974029541, -43.52651596069336, -4.171707630157471, 35.804412841796875, 50.61538314819336, -31.591665267944336], \"topics\": [1, 2, 3, 4, 5, 6, 7, 8, 9, 10], \"cluster\": [1, 1, 1, 1, 1, 1, 1, 1, 1, 1], \"Freq\": [10.84120201159749, 10.162313047103803, 10.110620993820959, 10.04169825676989, 9.927975738892885, 9.890068233599823, 9.87283754925071, 9.790130263641455, 9.710869116114404, 9.652284789208581]}, \"tinfo\": {\"Term\": [\"article\", \"wikipedia\", \"page\", \"talk\", \"one\", \"please\", \"would\", \"edit\", \"like\", \"see\", \"also\", \"think\", \"user\", \"time\", \"know\", \"may\", \"deletion\", \"information\", \"even\", \"articles\", \"use\", \"first\", \"people\", \"wp\", \"could\", \"want\", \"help\", \"new\", \"made\", \"get\", \"would\", \"people\", \"sources\", \"fact\", \"good\", \"section\", \"deleted\", \"without\", \"add\", \"question\", \"things\", \"remove\", \"case\", \"wiki\", \"sure\", \"post\", \"believe\", \"editors\", \"adding\", \"questions\", \"wrong\", \"hope\", \"person\", \"example\", \"best\", \"delete\", \"regarding\", \"message\", \"revert\", \"images\", \"please\", \"like\", \"could\", \"help\", \"name\", \"well\", \"really\", \"better\", \"removed\", \"take\", \"never\", \"however\", \"agree\", \"reliable\", \"reverted\", \"yes\", \"guidelines\", \"simply\", \"redirect\", \"real\", \"mean\", \"considered\", \"following\", \"term\", \"support\", \"later\", \"present\", \"philosophy\", \"th\", \"makes\", \"article\", \"know\", \"discussion\", \"still\", \"going\", \"style\", \"history\", \"using\", \"non\", \"done\", \"issue\", \"far\", \"number\", \"perhaps\", \"attacks\", \"making\", \"clearly\", \"site\", \"probably\", \"left\", \"topic\", \"admin\", \"rules\", \"world\", \"quite\", \"states\", \"border\", \"whole\", \"started\", \"show\", \"wikipedia\", \"talk\", \"may\", \"even\", \"articles\", \"get\", \"thanks\", \"utc\", \"added\", \"long\", \"anyone\", \"mentioned\", \"several\", \"whether\", \"sort\", \"written\", \"username\", \"www\", \"understand\", \"tell\", \"seems\", \"changes\", \"al\", \"law\", \"common\", \"completely\", \"always\", \"faith\", \"stated\", \"paragraph\", \"user\", \"made\", \"way\", \"personal\", \"though\", \"place\", \"thank\", \"problem\", \"block\", \"another\", \"ask\", \"speedy\", \"policy\", \"tag\", \"users\", \"feel\", \"different\", \"already\", \"found\", \"check\", \"work\", \"keep\", \"last\", \"book\", \"explain\", \"criteria\", \"full\", \"claims\", \"material\", \"hello\", \"also\", \"time\", \"make\", \"used\", \"image\", \"pages\", \"note\", \"someone\", \"link\", \"find\", \"state\", \"subject\", \"day\", \"top\", \"blocked\", \"must\", \"summary\", \"original\", \"correct\", \"comments\", \"hi\", \"write\", \"called\", \"contributions\", \"based\", \"policies\", \"fair\", \"least\", \"political\", \"background\", \"one\", \"edit\", \"deletion\", \"want\", \"source\", \"content\", \"bush\", \"change\", \"comment\", \"references\", \"might\", \"part\", \"actually\", \"word\", \"website\", \"yet\", \"copyright\", \"facts\", \"continue\", \"knowledge\", \"books\", \"less\", \"report\", \"interest\", \"appropriate\", \"statement\", \"american\", \"looks\", \"published\", \"saying\", \"use\", \"first\", \"reason\", \"say\", \"need\", \"go\", \"links\", \"rather\", \"life\", \"great\", \"come\", \"reference\", \"says\", \"title\", \"around\", \"consensus\", \"evidence\", \"pro\", \"consider\", \"claim\", \"position\", \"either\", \"mention\", \"put\", \"possible\", \"ever\", \"macedonian\", \"propaganda\", \"side\", \"happy\", \"page\", \"think\", \"wp\", \"editing\", \"edits\", \"point\", \"list\", \"two\", \"many\", \"editor\", \"request\", \"anything\", \"thought\", \"view\", \"give\", \"notice\", \"years\", \"try\", \"little\", \"text\", \"nothing\", \"issues\", \"included\", \"research\", \"stop\", \"important\", \"looking\", \"opinion\", \"although\", \"every\", \"see\", \"information\", \"new\", \"much\", \"since\", \"said\", \"right\", \"look\", \"george\", \"read\", \"back\", \"vandalism\", \"welcome\", \"us\", \"something\", \"free\", \"etc\", \"thing\", \"trying\", \"http\", \"notable\", \"maybe\", \"width\", \"review\", \"main\", \"info\", \"oh\", \"matter\", \"notability\", \"ok\"], \"Freq\": [342.0, 285.0, 253.0, 229.0, 187.0, 170.0, 154.0, 146.0, 139.0, 128.0, 126.0, 114.0, 111.0, 104.0, 105.0, 98.0, 95.0, 91.0, 92.0, 92.0, 83.0, 80.0, 81.0, 77.0, 76.0, 74.0, 75.0, 72.0, 73.0, 71.0, 153.84962866811316, 81.0779470911091, 70.27428711867374, 66.65602024761024, 57.46201696818662, 53.354549675202946, 52.488753613415824, 41.06934610153746, 39.57385539392506, 37.27763175942334, 34.89187194992431, 34.76814468001854, 34.24845673797699, 34.054163729870375, 33.923201034850386, 33.67721509613391, 32.361820375065065, 32.166832955443454, 30.434014665356578, 29.643385781025362, 27.726631257161884, 27.395539208637693, 26.640688705690458, 25.841043936650415, 25.514870246937374, 25.283254642640173, 24.7985402928453, 24.355344951320895, 22.183289102716667, 22.092454051030945, 169.75047946882066, 138.7410263482494, 75.33314339534012, 74.4842210086347, 64.64658787398365, 64.31524882321303, 61.657941335254016, 51.69798404418575, 47.04880047924988, 45.73908446481636, 44.59369029348898, 40.992319729800656, 40.2830691714815, 39.497208953140614, 30.872166105451342, 26.415161754898744, 25.08824265162221, 24.59488230011122, 23.973568356963053, 23.56789921904231, 22.885204686952743, 22.763568729063618, 22.46275437065036, 21.311460970703468, 19.9304224467372, 18.833943983219203, 18.406659203800064, 18.273182332511684, 18.11424353949736, 17.77270973133625, 341.1870616576738, 104.48850601982947, 56.4717318175306, 50.17839323004849, 45.545018064504404, 43.30253639344213, 42.24171960522254, 39.7236703145364, 32.9058508842299, 32.67099165654872, 31.068838299006167, 30.599949763717834, 28.44764405738765, 28.44479062419671, 25.069084589376207, 24.79369596086753, 24.67577348030385, 24.62934722009892, 24.188625602654298, 23.20415381682317, 22.858450813379452, 22.517248580330413, 22.279942497759432, 22.051188298601684, 21.474227737906237, 21.029401213193562, 20.342743661002338, 20.29941922541029, 20.018486572263157, 19.067628456533942, 284.9758474543709, 229.03310268821141, 97.83183852634546, 91.71947208662141, 91.66425809198496, 70.27941338969873, 67.2137182517534, 42.28080000296713, 35.045612041850525, 31.946212030524272, 27.126208834488846, 25.327831314069368, 24.699495872113822, 20.938596934414676, 20.735369302554464, 20.263837003408188, 20.13073713713417, 19.540719364475866, 18.904271627172637, 18.90020336681187, 18.457160715657356, 17.802421038581116, 17.40660176529358, 16.85423785365403, 16.36783052129182, 15.727872238985972, 15.593934544402869, 14.766966849582232, 14.436597154867515, 13.665104405254688, 110.3296020106083, 72.16936280386557, 65.87070933613528, 58.149326439242685, 47.22873242746312, 45.7740202505696, 43.95764647355489, 43.32822020322563, 39.39530192267035, 37.74447256982351, 35.441503737374475, 35.264438622497494, 34.77279559120222, 33.460438573109656, 33.2797780866098, 30.8936054253611, 30.803433304545308, 29.969736647352306, 28.947612688397726, 28.797434488478515, 28.60983625278102, 24.28442209576521, 24.17773291142754, 23.465753885278183, 22.998600905976723, 22.94771603344765, 21.963920458349435, 21.918143048591507, 21.083429094008398, 20.644525088969115, 125.26162555569049, 103.97770886906926, 66.79103088081371, 66.70429854373302, 50.72344862392007, 48.93493665662731, 48.52199460696537, 48.095338798567845, 45.85866598115417, 41.3248630599496, 34.63421841534111, 31.56141734376949, 31.41775661515198, 30.45756133179428, 29.63122694291401, 29.443852158445104, 28.243498418200016, 27.968012053116283, 27.697888523703938, 27.309618413426314, 27.093360040542876, 26.32996509514861, 25.556614308056684, 24.730685759949314, 23.635407895368967, 23.46756705006203, 23.06270986624866, 22.84699984957313, 22.12773954572429, 21.30307482155925, 186.83172295781335, 145.30337956957277, 94.40936686401952, 73.77301558510395, 63.23921431377953, 46.07130435290021, 43.332545365157785, 35.430535444594774, 34.8255730863059, 34.6689792970487, 32.91973489424157, 32.572284172642, 32.22710024013724, 28.76074996243973, 28.4489890947572, 28.331149834162392, 25.72207062740675, 25.061917085990373, 24.978395891506658, 24.85210744816384, 23.006253581700463, 22.660028019311188, 20.58790691869216, 20.491113121938223, 20.474959728815595, 20.429533593302494, 20.429190693524358, 20.16922891698785, 19.67963465583142, 19.03387545762842, 82.60042663414444, 79.36497943041056, 53.98216881591681, 53.43567509988568, 53.18143933985211, 42.15288966937845, 41.713648505040766, 33.49466923035259, 32.369462847174425, 30.85999344746161, 29.963636915845033, 29.257069517473024, 28.342187323403994, 28.03881279779014, 28.000198483736156, 27.52074755356915, 26.898046390342344, 24.905278598832414, 24.42794216417445, 24.42068415604247, 23.203996201076034, 22.451778029562387, 22.431902363454775, 21.87407421785293, 21.768039756582823, 21.500135532925853, 21.330733940100913, 21.001353284455178, 20.54593201677543, 20.436537103457148, 252.83496478438508, 113.16467280422434, 76.48092156361325, 56.487971974029946, 56.181457576227686, 47.410869781618906, 44.288641644735144, 43.673274254824, 43.30039568837301, 38.53821372627723, 38.30861627366333, 37.68772862283448, 30.266470049622953, 29.903706335986683, 29.85756803801052, 29.227546196950474, 27.849564556565614, 26.716652900243616, 23.14175056226361, 22.62398296145701, 22.40821151064511, 21.082327324202094, 20.802344872257418, 20.50979752261835, 20.331127641428147, 19.20945921523289, 18.722687465106112, 18.66941591292503, 18.055473524878533, 17.876186397192306, 127.75761580824745, 90.1669541289765, 71.7298522753461, 68.57751034173901, 62.79384157487719, 56.02352436132052, 48.25124199966277, 47.46057603499586, 46.28686169751834, 45.74672784672648, 42.24615460966719, 41.20597546867109, 40.346382061806985, 39.77475620654438, 37.18278569278617, 34.55192787971179, 32.27078060679936, 32.23666999830912, 31.620579064709748, 29.77491316345778, 24.68315259411497, 23.000788868175533, 22.40533243852289, 22.317176629874083, 20.572758571649196, 20.208993632463784, 20.19906283895058, 19.45229266402168, 18.79699610370895, 18.673123896118526], \"Total\": [342.0, 285.0, 253.0, 229.0, 187.0, 170.0, 154.0, 146.0, 139.0, 128.0, 126.0, 114.0, 111.0, 104.0, 105.0, 98.0, 95.0, 91.0, 92.0, 92.0, 83.0, 80.0, 81.0, 77.0, 76.0, 74.0, 75.0, 72.0, 73.0, 71.0, 154.73084938915173, 81.95916781138313, 71.15550783927924, 67.53724097017711, 58.3432376891421, 54.23577039602464, 53.36997433607665, 41.95056682404554, 40.45507611597572, 38.15885248006665, 35.77309267188348, 35.64936540133309, 35.12967745898321, 34.93538445016006, 34.80442175533273, 34.55843581779522, 33.243041095605236, 33.04805367760326, 31.315235387791354, 30.52460650238278, 28.607851979054338, 28.27675993035696, 27.52190942658792, 26.722264656784958, 26.396090968175915, 26.164475363837774, 25.6797610140251, 25.23656567221577, 23.064509823552214, 22.973674773039594, 170.62578851487768, 139.61633539438725, 76.20845244122496, 75.35953005623396, 65.52189692104064, 65.19055786923379, 62.53325038165578, 52.573293091649504, 47.924109525361466, 46.61439351054115, 45.46899934000936, 41.86762877618411, 41.158378218509036, 40.372517999878745, 31.747475150792784, 27.290470801275056, 25.96355169851194, 25.47019134660443, 24.84887740530071, 24.443208266033214, 23.760513734349175, 23.638877774864163, 23.338063417660894, 22.186770017143967, 20.805731494884427, 19.709253029964906, 19.281968250885026, 19.14849138246548, 18.989552584338323, 18.648018775959233, 342.06218013022345, 105.3636244923531, 57.34685029091593, 51.05351170200285, 46.420136536373285, 44.17765486573344, 43.116838076671925, 40.59878878659001, 33.78096935710341, 33.54611012928455, 31.94395677002666, 31.475068235530138, 29.322762528738455, 29.31990909659535, 25.944203062756074, 25.668814432917827, 25.550891953184617, 25.50446569215831, 25.063744075240926, 24.079272290763033, 23.733569286961437, 23.39236705252784, 23.155060971638225, 22.92630677054532, 22.349346210044367, 21.90451968517683, 21.217862133971, 21.174537698618693, 20.893605046273212, 19.94274692885338, 285.84905923304785, 229.90631446687073, 98.70505030507, 92.59268386583848, 92.53746987124566, 71.15262516891035, 68.08693002942097, 43.15401178104343, 35.918823819880856, 32.81942381003341, 27.999420612854195, 26.20104309369651, 25.572707650813115, 21.8118087126752, 21.608581081743083, 21.137048783048932, 21.00394891632477, 20.4139311419899, 19.777483405920716, 19.773415144819268, 19.33037249405612, 18.67563281884272, 18.27981354835301, 17.72744963346126, 17.241042300340695, 16.601084017043913, 16.467146321594008, 15.640178628206089, 15.309808934078577, 14.538316184058756, 111.2034080663954, 73.04316885903067, 66.74451539085058, 59.02313249553522, 48.10253848379938, 46.647826306507774, 44.83145252834912, 44.20202625853556, 40.269107978475915, 38.61827862664128, 36.315309791926516, 36.138244680469185, 35.646601646820734, 34.33424462894413, 34.15358414205161, 31.767411480732903, 31.67723935946327, 30.843542703215732, 29.821418744104434, 29.67124054521402, 29.483642307189243, 25.15822815116187, 25.051538967931037, 24.33955994141194, 23.872406963945252, 23.82152208926287, 22.83772651391472, 22.79194910435468, 21.957235150673274, 21.518331143904163, 126.13408880913312, 104.8501721235141, 67.6634941344953, 67.57676179822582, 51.59591187715589, 49.8073999115213, 49.39445786152561, 48.9678020529246, 46.73112923517618, 42.19732631341619, 35.50668167087234, 32.433880598456355, 32.29021987016789, 31.330024585531884, 30.503690197356264, 30.31631541309021, 29.115961673787144, 28.84047530921617, 28.570351779585344, 28.182081667698867, 27.965823293922455, 27.20242834909854, 26.429077564269594, 25.60314901555601, 24.50787115042711, 24.34003030655667, 23.93517311867541, 23.719463104506254, 23.000202801285095, 22.175538075918766, 187.70632858206542, 146.17798519390328, 95.28397248968177, 74.6476212095063, 64.11381993826784, 46.94590997754507, 44.20715099846371, 36.30514106942457, 35.700178710630965, 35.54358492090765, 33.79434051846051, 33.446889795974066, 33.10170586342489, 29.635355586213254, 29.323594718943877, 29.205755458032773, 26.59667625037359, 25.93652271189592, 25.853001517287936, 25.72671307373554, 23.88085920608441, 23.534633642884398, 21.462512544336654, 21.36571874468051, 21.349565353965204, 21.304139219300232, 21.30379631943764, 21.043834542085094, 20.554240280818203, 19.908481082452433, 83.47369551085094, 80.23824830767991, 54.85543769456667, 54.30894397737912, 54.05470821726385, 43.026158546797596, 42.586917384077466, 34.36793810812454, 33.24273172517972, 31.733262325468075, 30.836905793236244, 30.1303383950165, 29.21545620084267, 28.912081678760778, 28.873467360783557, 28.394016432125433, 27.771315269302715, 25.778547481226983, 25.301211043113035, 25.29395303476709, 24.077265079770434, 23.325046908536798, 23.305171241340055, 22.747343095592008, 22.6413086341066, 22.373404410941273, 22.204002822102513, 21.87462216650691, 21.419200896560575, 21.309805982407635, 253.7071380791827, 114.03684609961928, 77.35309485840955, 57.36014526988346, 57.05363087091258, 48.283043076527065, 45.160814939567544, 44.545447549646696, 44.1725689832517, 39.4103870225299, 39.18078956855029, 38.55990191790296, 31.138643344562098, 30.775879631301304, 30.729741334111896, 30.099719492767708, 28.72173785107314, 27.58882619560137, 24.013923857552147, 23.496156256968202, 23.280384805736766, 21.954500620366893, 21.674518166967044, 21.38197081706444, 21.203300936090205, 20.081632510636307, 19.594860761145895, 19.54158920951219, 18.92764681963332, 18.74835969231274, 128.62677132956736, 91.03610965024014, 72.5990077969772, 69.44666586295111, 63.66299709729302, 56.89267988307464, 49.12039752071212, 48.32973155606342, 47.15601722704877, 46.61588336834383, 43.115310131277454, 42.075130990919284, 41.21553758406059, 40.64391172905748, 38.05194121396044, 35.42108340151532, 33.13993612936226, 33.10582552054495, 32.489734586370794, 30.64406868369259, 25.552308115548627, 23.869944390533558, 23.274487960649466, 23.186332151453975, 21.44191409402332, 21.07814915450052, 21.06821836176843, 20.3214481850245, 19.66615162646051, 19.542279418449272], \"Category\": [\"Default\", \"Default\", \"Default\", \"Default\", \"Default\", \"Default\", \"Default\", \"Default\", \"Default\", \"Default\", \"Default\", \"Default\", \"Default\", \"Default\", \"Default\", \"Default\", \"Default\", \"Default\", \"Default\", \"Default\", \"Default\", \"Default\", \"Default\", \"Default\", \"Default\", \"Default\", \"Default\", \"Default\", \"Default\", \"Default\", \"Topic1\", \"Topic1\", \"Topic1\", \"Topic1\", \"Topic1\", \"Topic1\", \"Topic1\", \"Topic1\", \"Topic1\", \"Topic1\", \"Topic1\", \"Topic1\", \"Topic1\", \"Topic1\", \"Topic1\", \"Topic1\", \"Topic1\", \"Topic1\", \"Topic1\", \"Topic1\", \"Topic1\", \"Topic1\", \"Topic1\", \"Topic1\", \"Topic1\", \"Topic1\", \"Topic1\", \"Topic1\", \"Topic1\", \"Topic1\", \"Topic2\", \"Topic2\", \"Topic2\", \"Topic2\", \"Topic2\", \"Topic2\", \"Topic2\", \"Topic2\", \"Topic2\", \"Topic2\", \"Topic2\", \"Topic2\", \"Topic2\", \"Topic2\", \"Topic2\", \"Topic2\", \"Topic2\", \"Topic2\", \"Topic2\", \"Topic2\", \"Topic2\", \"Topic2\", \"Topic2\", \"Topic2\", \"Topic2\", \"Topic2\", \"Topic2\", \"Topic2\", \"Topic2\", \"Topic2\", \"Topic3\", \"Topic3\", \"Topic3\", \"Topic3\", \"Topic3\", \"Topic3\", \"Topic3\", \"Topic3\", \"Topic3\", \"Topic3\", \"Topic3\", \"Topic3\", \"Topic3\", \"Topic3\", \"Topic3\", \"Topic3\", \"Topic3\", \"Topic3\", \"Topic3\", \"Topic3\", \"Topic3\", \"Topic3\", \"Topic3\", \"Topic3\", \"Topic3\", \"Topic3\", \"Topic3\", \"Topic3\", \"Topic3\", \"Topic3\", \"Topic4\", \"Topic4\", \"Topic4\", \"Topic4\", \"Topic4\", \"Topic4\", \"Topic4\", \"Topic4\", \"Topic4\", \"Topic4\", \"Topic4\", \"Topic4\", \"Topic4\", \"Topic4\", \"Topic4\", \"Topic4\", \"Topic4\", \"Topic4\", \"Topic4\", \"Topic4\", \"Topic4\", \"Topic4\", \"Topic4\", \"Topic4\", \"Topic4\", \"Topic4\", \"Topic4\", \"Topic4\", \"Topic4\", \"Topic4\", \"Topic5\", \"Topic5\", \"Topic5\", \"Topic5\", \"Topic5\", \"Topic5\", \"Topic5\", \"Topic5\", \"Topic5\", \"Topic5\", \"Topic5\", \"Topic5\", \"Topic5\", \"Topic5\", \"Topic5\", \"Topic5\", \"Topic5\", \"Topic5\", \"Topic5\", \"Topic5\", \"Topic5\", \"Topic5\", \"Topic5\", \"Topic5\", \"Topic5\", \"Topic5\", \"Topic5\", \"Topic5\", \"Topic5\", \"Topic5\", \"Topic6\", \"Topic6\", \"Topic6\", \"Topic6\", \"Topic6\", \"Topic6\", \"Topic6\", \"Topic6\", \"Topic6\", \"Topic6\", \"Topic6\", \"Topic6\", \"Topic6\", \"Topic6\", \"Topic6\", \"Topic6\", \"Topic6\", \"Topic6\", \"Topic6\", \"Topic6\", \"Topic6\", \"Topic6\", \"Topic6\", \"Topic6\", \"Topic6\", \"Topic6\", \"Topic6\", \"Topic6\", \"Topic6\", \"Topic6\", \"Topic7\", \"Topic7\", \"Topic7\", \"Topic7\", \"Topic7\", \"Topic7\", \"Topic7\", \"Topic7\", \"Topic7\", \"Topic7\", \"Topic7\", \"Topic7\", \"Topic7\", \"Topic7\", \"Topic7\", \"Topic7\", \"Topic7\", \"Topic7\", \"Topic7\", \"Topic7\", \"Topic7\", \"Topic7\", \"Topic7\", \"Topic7\", \"Topic7\", \"Topic7\", \"Topic7\", \"Topic7\", \"Topic7\", \"Topic7\", \"Topic8\", \"Topic8\", \"Topic8\", \"Topic8\", \"Topic8\", \"Topic8\", \"Topic8\", \"Topic8\", \"Topic8\", \"Topic8\", \"Topic8\", \"Topic8\", \"Topic8\", \"Topic8\", \"Topic8\", \"Topic8\", \"Topic8\", \"Topic8\", \"Topic8\", \"Topic8\", \"Topic8\", \"Topic8\", \"Topic8\", \"Topic8\", \"Topic8\", \"Topic8\", \"Topic8\", \"Topic8\", \"Topic8\", \"Topic8\", \"Topic9\", \"Topic9\", \"Topic9\", \"Topic9\", \"Topic9\", \"Topic9\", \"Topic9\", \"Topic9\", \"Topic9\", \"Topic9\", \"Topic9\", \"Topic9\", \"Topic9\", \"Topic9\", \"Topic9\", \"Topic9\", \"Topic9\", \"Topic9\", \"Topic9\", \"Topic9\", \"Topic9\", \"Topic9\", \"Topic9\", \"Topic9\", \"Topic9\", \"Topic9\", \"Topic9\", \"Topic9\", \"Topic9\", \"Topic9\", \"Topic10\", \"Topic10\", \"Topic10\", \"Topic10\", \"Topic10\", \"Topic10\", \"Topic10\", \"Topic10\", \"Topic10\", \"Topic10\", \"Topic10\", \"Topic10\", \"Topic10\", \"Topic10\", \"Topic10\", \"Topic10\", \"Topic10\", \"Topic10\", \"Topic10\", \"Topic10\", \"Topic10\", \"Topic10\", \"Topic10\", \"Topic10\", \"Topic10\", \"Topic10\", \"Topic10\", \"Topic10\", \"Topic10\", \"Topic10\"], \"logprob\": [30.0, 29.0, 28.0, 27.0, 26.0, 25.0, 24.0, 23.0, 22.0, 21.0, 20.0, 19.0, 18.0, 17.0, 16.0, 15.0, 14.0, 13.0, 12.0, 11.0, 10.0, 9.0, 8.0, 7.0, 6.0, 5.0, 4.0, 3.0, 2.0, 1.0, -2.3247, -2.9653, -3.1083, -3.1612, -3.3096, -3.3837, -3.4001, -3.6454, -3.6825, -3.7423, -3.8085, -3.812, -3.8271, -3.8328, -3.8366, -3.8439, -3.8837, -3.8898, -3.9451, -3.9715, -4.0383, -4.0503, -4.0783, -4.1087, -4.1214, -4.1306, -4.1499, -4.168, -4.2614, -4.2655, -2.1617, -2.3634, -2.9741, -2.9855, -3.1271, -3.1322, -3.1744, -3.3506, -3.4449, -3.4731, -3.4984, -3.5827, -3.6001, -3.6198, -3.8662, -4.0221, -4.0736, -4.0935, -4.1191, -4.1362, -4.1655, -4.1709, -4.1842, -4.2368, -4.3038, -4.3604, -4.3833, -4.3906, -4.3993, -4.4184, -1.4585, -2.6419, -3.2572, -3.3754, -3.4722, -3.5227, -3.5475, -3.609, -3.7973, -3.8045, -3.8547, -3.8699, -3.9429, -3.943, -4.0693, -4.0804, -4.0851, -4.087, -4.1051, -4.1466, -4.1616, -4.1767, -4.1873, -4.1976, -4.2241, -4.245, -4.2782, -4.2803, -4.2943, -4.3429, -1.6317, -1.8502, -2.7009, -2.7654, -2.766, -3.0316, -3.0762, -3.5398, -3.7275, -3.82, -3.9836, -4.0522, -4.0773, -4.2425, -4.2523, -4.2753, -4.2819, -4.3116, -4.3447, -4.3449, -4.3686, -4.4048, -4.4273, -4.4595, -4.4888, -4.5287, -4.5372, -4.5917, -4.6143, -4.6693, -2.5692, -2.9937, -3.085, -3.2097, -3.4177, -3.449, -3.4895, -3.5039, -3.5991, -3.6419, -3.7048, -3.7098, -3.7239, -3.7623, -3.7678, -3.8422, -3.8451, -3.8725, -3.9072, -3.9124, -3.919, -4.0829, -4.0873, -4.1172, -4.1373, -4.1395, -4.1833, -4.1854, -4.2242, -4.2453, -2.4385, -2.6247, -3.0673, -3.0686, -3.3425, -3.3784, -3.3869, -3.3957, -3.4433, -3.5474, -3.724, -3.8169, -3.8215, -3.8526, -3.8801, -3.8864, -3.928, -3.9378, -3.9475, -3.9616, -3.9696, -3.9982, -4.028, -4.0608, -4.1061, -4.1133, -4.1307, -4.1401, -4.1721, -4.21, -2.0369, -2.2883, -2.7195, -2.9661, -3.1202, -3.437, -3.4982, -3.6996, -3.7168, -3.7213, -3.7731, -3.7837, -3.7943, -3.9081, -3.919, -3.9232, -4.0198, -4.0458, -4.0491, -4.0542, -4.1314, -4.1465, -4.2424, -4.2472, -4.2479, -4.2502, -4.2502, -4.263, -4.2876, -4.3209, -2.8447, -2.8847, -3.2701, -3.2803, -3.285, -3.5174, -3.5279, -3.7473, -3.7815, -3.8293, -3.8587, -3.8826, -3.9144, -3.9251, -3.9265, -3.9438, -3.9667, -4.0436, -4.063, -4.0633, -4.1144, -4.1474, -4.1482, -4.1734, -4.1783, -4.1907, -4.1986, -4.2141, -4.2361, -4.2414, -1.7179, -2.5218, -2.9136, -3.2166, -3.222, -3.3917, -3.4599, -3.4739, -3.4824, -3.5989, -3.6049, -3.6213, -3.8406, -3.8526, -3.8542, -3.8755, -3.9238, -3.9653, -4.109, -4.1316, -4.1412, -4.2022, -4.2155, -4.2297, -4.2384, -4.2952, -4.3209, -4.3237, -4.3572, -4.3671, -2.3944, -2.7429, -2.9716, -3.0166, -3.1047, -3.2188, -3.3681, -3.3846, -3.4097, -3.4214, -3.501, -3.526, -3.547, -3.5613, -3.6287, -3.7021, -3.7704, -3.7714, -3.7907, -3.8509, -4.0384, -4.109, -4.1352, -4.1392, -4.2206, -4.2384, -4.2389, -4.2766, -4.3109, -4.3175], \"loglift\": [30.0, 29.0, 28.0, 27.0, 26.0, 25.0, 24.0, 23.0, 22.0, 21.0, 20.0, 19.0, 18.0, 17.0, 16.0, 15.0, 14.0, 13.0, 12.0, 11.0, 10.0, 9.0, 8.0, 7.0, 6.0, 5.0, 4.0, 3.0, 2.0, 1.0, 2.2161, 2.211, 2.2094, 2.2087, 2.2066, 2.2054, 2.2052, 2.2006, 2.1998, 2.1985, 2.1969, 2.1968, 2.1964, 2.1963, 2.1962, 2.196, 2.195, 2.1948, 2.1933, 2.1925, 2.1905, 2.1902, 2.1893, 2.1883, 2.1879, 2.1876, 2.1869, 2.1863, 2.1829, 2.1827, 2.2813, 2.2802, 2.2749, 2.2748, 2.273, 2.273, 2.2724, 2.2697, 2.2681, 2.2675, 2.267, 2.2654, 2.265, 2.2646, 2.2585, 2.2539, 2.2522, 2.2515, 2.2506, 2.25, 2.2489, 2.2488, 2.2483, 2.2462, 2.2435, 2.2411, 2.24, 2.2397, 2.2393, 2.2384, 2.289, 2.2832, 2.2762, 2.2743, 2.2726, 2.2716, 2.2711, 2.2698, 2.2653, 2.2652, 2.2638, 2.2634, 2.2613, 2.2613, 2.2573, 2.2569, 2.2567, 2.2567, 2.256, 2.2546, 2.254, 2.2535, 2.2531, 2.2527, 2.2516, 2.2508, 2.2495, 2.2494, 2.2488, 2.2467, 2.2954, 2.2946, 2.2895, 2.2889, 2.2889, 2.2861, 2.2855, 2.278, 2.2738, 2.2715, 2.2667, 2.2645, 2.2637, 2.2576, 2.2572, 2.2562, 2.256, 2.2547, 2.2533, 2.2533, 2.2522, 2.2505, 2.2495, 2.2479, 2.2464, 2.2444, 2.2439, 2.241, 2.2397, 2.2365, 2.3019, 2.2978, 2.2966, 2.2949, 2.2915, 2.2909, 2.2901, 2.2898, 2.2879, 2.2869, 2.2855, 2.2853, 2.285, 2.284, 2.2839, 2.2819, 2.2818, 2.2811, 2.2801, 2.2799, 2.2797, 2.2745, 2.2743, 2.2733, 2.2725, 2.2724, 2.2708, 2.2707, 2.2692, 2.2684, 2.3067, 2.3053, 2.3007, 2.3006, 2.2966, 2.296, 2.2958, 2.2957, 2.2948, 2.2927, 2.2888, 2.2864, 2.2862, 2.2854, 2.2846, 2.2844, 2.2832, 2.2829, 2.2826, 2.2822, 2.2819, 2.281, 2.2801, 2.279, 2.2774, 2.2771, 2.2765, 2.2762, 2.275, 2.2735, 2.3107, 2.3094, 2.3062, 2.3036, 2.3016, 2.2966, 2.2954, 2.291, 2.2906, 2.2905, 2.2892, 2.2889, 2.2886, 2.2854, 2.2851, 2.285, 2.2819, 2.2811, 2.281, 2.2808, 2.2781, 2.2775, 2.2738, 2.2736, 2.2736, 2.2735, 2.2735, 2.2729, 2.2719, 2.2705, 2.3133, 2.3129, 2.3077, 2.3076, 2.3075, 2.3033, 2.3031, 2.2981, 2.2972, 2.2959, 2.2951, 2.2944, 2.2934, 2.2931, 2.2931, 2.2926, 2.2918, 2.2893, 2.2887, 2.2887, 2.2869, 2.2856, 2.2856, 2.2846, 2.2845, 2.284, 2.2837, 2.2831, 2.2822, 2.282, 2.3285, 2.3242, 2.3206, 2.3166, 2.3165, 2.3137, 2.3124, 2.3122, 2.312, 2.3095, 2.3094, 2.309, 2.3035, 2.3032, 2.3031, 2.3025, 2.3011, 2.2998, 2.2949, 2.2941, 2.2937, 2.2914, 2.2909, 2.2903, 2.2899, 2.2875, 2.2864, 2.2863, 2.2847, 2.2843, 2.3312, 2.3284, 2.3259, 2.3254, 2.3242, 2.3226, 2.3201, 2.3198, 2.3194, 2.3192, 2.3176, 2.3171, 2.3167, 2.3164, 2.3149, 2.3131, 2.3114, 2.3114, 2.3109, 2.3092, 2.3034, 2.3009, 2.2999, 2.2998, 2.2966, 2.2959, 2.2958, 2.2943, 2.2928, 2.2925]}, \"token.table\": {\"Topic\": [7, 1, 4, 1, 3, 2, 4, 5, 6, 9, 4, 7, 5, 4, 9, 7, 8, 3, 4, 5, 3, 10, 6, 6, 1, 1, 2, 5, 6, 5, 7, 3, 7, 6, 1, 7, 4, 5, 8, 5, 3, 8, 7, 6, 4, 4, 8, 8, 2, 7, 7, 6, 7, 6, 2, 5, 6, 1, 1, 7, 5, 3, 3, 7, 9, 9, 1, 9, 8, 10, 4, 8, 9, 8, 1, 5, 1, 7, 6, 4, 3, 5, 6, 8, 2, 5, 10, 5, 10, 4, 9, 8, 3, 1, 8, 2, 8, 5, 2, 6, 3, 1, 2, 10, 6, 1, 9, 9, 10, 10, 7, 3, 9, 5, 3, 7, 5, 2, 4, 6, 3, 7, 8, 2, 6, 8, 9, 9, 4, 10, 9, 7, 8, 5, 10, 6, 2, 3, 9, 5, 10, 4, 10, 2, 8, 4, 1, 7, 10, 6, 2, 8, 2, 10, 3, 10, 10, 6, 9, 9, 3, 10, 10, 7, 9, 6, 9, 6, 4, 7, 1, 3, 1, 5, 2, 5, 2, 9, 6, 5, 6, 8, 8, 1, 2, 8, 3, 5, 8, 7, 8, 1, 1, 3, 8, 10, 2, 2, 8, 2, 8, 7, 1, 2, 1, 2, 7, 9, 9, 1, 2, 10, 10, 3, 10, 8, 7, 8, 1, 10, 4, 4, 3, 8, 2, 10, 3, 6, 10, 4, 7, 1, 5, 3, 6, 4, 7, 3, 3, 9, 3, 6, 6, 2, 1, 5, 2, 4, 4, 2, 9, 2, 5, 4, 10, 1, 9, 5, 9, 6, 8, 6, 3, 9, 10, 9, 4, 10, 8, 6, 5, 4, 5, 3, 4, 10, 9, 7, 5, 7, 10, 2, 4, 3, 10, 1, 4, 1, 7, 5, 3, 1, 9, 6, 4, 1, 4, 9, 2, 7], \"Freq\": [0.9667175502081239, 0.988751075027739, 0.9744194346538627, 0.95800014365199, 0.9832267058888579, 0.971855591287897, 0.9299876038140268, 0.9726509139584739, 0.9910088635051764, 0.9509898494792766, 0.9716316165247514, 0.9387998129587799, 0.983990000366957, 0.9643056680824541, 0.9854796851118803, 0.9367872211171479, 0.9697484424066811, 0.9968947747166346, 0.9941918676618943, 0.963780846164806, 0.9636063955993501, 0.9741319237207953, 0.9469894226740173, 0.9792772229252454, 0.9626074795013394, 0.9849943323557471, 0.9890953551140481, 0.9684843285042654, 0.9834875651405639, 0.9449636745842401, 0.9631144257213332, 0.9426020337826055, 0.9726933093131095, 0.9837649436221838, 0.9678426464261677, 0.9640507919545385, 0.9638227617025624, 0.9773774020607207, 0.9488433843065762, 0.9652531207081642, 0.9784394237902151, 0.972860253916273, 0.9803872491421881, 0.9580555587895511, 0.9280181395810292, 0.9637924838867874, 0.9861232582904461, 0.9485711952326794, 0.9729734304247092, 0.9798510673667309, 0.967005706601706, 0.9764423893643103, 0.977565758790435, 0.9800369353522317, 0.984142803028877, 0.9655134509799793, 0.9600430137869737, 0.9554940296854869, 0.9743306165476159, 0.9865247800219411, 0.9786206319377085, 0.9765139622475608, 0.9837206123994742, 0.9919414322728508, 0.9762876250838647, 0.9895868309464889, 0.968286977265668, 0.9815326236940733, 0.943192101017733, 0.9656023438031834, 0.9935990205587166, 0.9833103445464622, 0.9600839911013878, 0.972226188719434, 0.9729714279062209, 0.9634554251164176, 0.9920452632879341, 0.9638917397563715, 0.9609289177045582, 0.9590683301371273, 0.9849065224585005, 0.9758428072996019, 0.9716255408097855, 0.9845678546853148, 0.9426660475758102, 0.9724554102823554, 0.9881120688279877, 0.9633183051997621, 0.97548526582551, 0.983800665594922, 0.9762529294933623, 0.9761503564004792, 0.990949261081038, 0.9769769772411502, 0.976892942239992, 0.9628882939552849, 0.9385350582971544, 0.9759121123084399, 0.9819594143538386, 0.965464156596729, 0.9740974030914344, 0.9548477288946293, 0.9792768589589279, 0.9789822725454425, 0.9884504051682488, 0.9576178046107697, 0.9461382180924077, 0.9688796695838415, 0.9488499134056884, 0.9886186958755063, 0.936078970195162, 0.9704495978121163, 0.956523692482378, 0.95396225265934, 0.9870579196670283, 0.9717525876060148, 0.9580249752609158, 0.9640142105392531, 0.9589647891545454, 0.9696678166223093, 0.955178367613001, 0.977283111732396, 0.9626164379193177, 0.9955855065766751, 0.984354556649022, 0.9862183642271111, 0.9742959700545506, 0.9577776683408081, 0.9750323523418195, 0.9724862623223779, 0.9696420011146275, 0.9503971322337879, 0.9457754157325177, 0.9857184610782163, 0.9793901751454877, 0.9901942082214013, 0.9652499933775994, 0.9739444751269799, 0.9734548157319922, 0.9564045680567427, 0.9349727355554159, 0.9928569986754388, 0.9635548212303936, 0.9679925382568751, 0.9439964964074211, 0.9541604855424456, 0.951001032062886, 0.9764948655226282, 0.9935682173161117, 0.9565806267960307, 0.992034770884769, 0.9804881341135979, 0.9896852944463927, 0.9917490911356209, 0.9768813810862658, 0.9661269963176622, 0.9783851966307284, 0.9920141271186446, 0.9450015617688049, 0.963464128194552, 0.9548895665119529, 0.9492971667833632, 0.9722509638288498, 0.996237055045501, 0.9722853037332009, 0.9708577857956595, 0.9972127781483152, 0.9837895591226288, 0.9629725906877016, 0.9866388235587795, 0.9882970040204592, 0.9549824969699985, 0.9810365836723624, 0.9826655676803902, 0.9400218346434766, 0.9861124009883951, 0.9963323919536166, 0.9734266319027679, 0.9449454133918767, 0.9818607772705199, 0.9565133051248917, 0.955257996445969, 0.9716752841246755, 0.9838408248353745, 0.9335146581404529, 0.9697986288097127, 0.9575584528772882, 0.9728060824292315, 0.9600165817791323, 0.9730352339348959, 0.967145917109905, 0.9696308351863566, 0.9828136522466938, 0.9396248016669975, 0.9601972599048308, 0.986788121905203, 0.9818678357926891, 0.9914725305593228, 0.9844055989612239, 0.9658384002039614, 0.962485041482194, 0.9847065251826105, 0.9735293091842309, 0.9660036562524322, 0.9817846574820429, 0.9807172311699933, 0.9784502143734939, 0.9698630481531162, 0.9821358461138859, 0.9538464146129307, 0.9764556032489998, 0.9488348504754952, 0.9771907888115179, 0.9501162630038843, 0.9843094070290015, 0.9758981876369327, 0.9543671323447585, 0.9583968091243562, 0.9772148457189571, 0.9951272093430578, 0.9311770896052212, 0.9776047316289989, 0.9527273282754541, 0.9804287331453206, 0.9815395440024005, 0.9895858327832132, 0.9802204955693931, 0.9802359507196465, 0.9723551235390192, 0.9718361386413629, 0.9826274594254362, 0.9837608096074697, 0.9685030446128905, 0.9572306911950265, 0.9857299627273254, 0.9144464219169298, 0.9387847025465003, 0.9587062534044545, 0.9793645595203685, 0.943249358214689, 0.9733427482895456, 0.9866226122051825, 0.9616718250185143, 0.9612735800669862, 0.9768873690536324, 0.9611395374104329, 0.9868196609615394, 0.9960578965872583, 0.9608861120269401, 0.9465100140206557, 0.9788835139015106, 0.9478896314200441, 0.9814538124138773, 0.984036142781716, 0.9665972528049878, 0.9783889897646141, 0.990907797478777, 0.9770794116370656, 0.9634331100439241, 0.991891552428616, 0.968453268467666, 0.9575479239762203, 0.9690914890174382, 0.9786570769112587, 0.9849264823918804, 0.9877552571665424, 0.9606884561618207, 0.9841572402442472, 0.9943252121766986, 0.9914650867712789, 0.9891783166782363, 0.9522018968754739, 0.9662236286167324, 0.9852510677168823, 0.9732582966585193, 0.9744473524954368, 0.9747893596999847, 0.9913242887179394, 0.9888452948307325, 0.9548624671828247, 0.9705077828578249, 0.9817372652091437, 0.9627812290411548, 0.9445306568041241, 0.9452409882097401, 0.9732252996530063, 0.997029693799497, 0.977340787121363, 0.9785608920950882, 0.983596249671252, 0.9595963370892604, 0.9952766407472267, 0.9825075536940531, 0.9557970217339664, 0.9462058873630078, 0.9787522677515464, 0.9797231048194106, 0.9748713725187708, 0.952713501695443, 0.9587151423025032], \"Term\": [\"actually\", \"add\", \"added\", \"adding\", \"admin\", \"agree\", \"al\", \"already\", \"also\", \"although\", \"always\", \"american\", \"another\", \"anyone\", \"anything\", \"appropriate\", \"around\", \"article\", \"articles\", \"ask\", \"attacks\", \"back\", \"background\", \"based\", \"believe\", \"best\", \"better\", \"block\", \"blocked\", \"book\", \"books\", \"border\", \"bush\", \"called\", \"case\", \"change\", \"changes\", \"check\", \"claim\", \"claims\", \"clearly\", \"come\", \"comment\", \"comments\", \"common\", \"completely\", \"consensus\", \"consider\", \"considered\", \"content\", \"continue\", \"contributions\", \"copyright\", \"correct\", \"could\", \"criteria\", \"day\", \"delete\", \"deleted\", \"deletion\", \"different\", \"discussion\", \"done\", \"edit\", \"editing\", \"editor\", \"editors\", \"edits\", \"either\", \"etc\", \"even\", \"ever\", \"every\", \"evidence\", \"example\", \"explain\", \"fact\", \"facts\", \"fair\", \"faith\", \"far\", \"feel\", \"find\", \"first\", \"following\", \"found\", \"free\", \"full\", \"george\", \"get\", \"give\", \"go\", \"going\", \"good\", \"great\", \"guidelines\", \"happy\", \"hello\", \"help\", \"hi\", \"history\", \"hope\", \"however\", \"http\", \"image\", \"images\", \"important\", \"included\", \"info\", \"information\", \"interest\", \"issue\", \"issues\", \"keep\", \"know\", \"knowledge\", \"last\", \"later\", \"law\", \"least\", \"left\", \"less\", \"life\", \"like\", \"link\", \"links\", \"list\", \"little\", \"long\", \"look\", \"looking\", \"looks\", \"macedonian\", \"made\", \"main\", \"make\", \"makes\", \"making\", \"many\", \"material\", \"matter\", \"may\", \"maybe\", \"mean\", \"mention\", \"mentioned\", \"message\", \"might\", \"much\", \"must\", \"name\", \"need\", \"never\", \"new\", \"non\", \"notability\", \"notable\", \"note\", \"nothing\", \"notice\", \"number\", \"oh\", \"ok\", \"one\", \"opinion\", \"original\", \"page\", \"pages\", \"paragraph\", \"part\", \"people\", \"perhaps\", \"person\", \"personal\", \"philosophy\", \"place\", \"please\", \"point\", \"policies\", \"policy\", \"political\", \"position\", \"possible\", \"post\", \"present\", \"pro\", \"probably\", \"problem\", \"propaganda\", \"published\", \"put\", \"question\", \"questions\", \"quite\", \"rather\", \"read\", \"real\", \"really\", \"reason\", \"redirect\", \"reference\", \"references\", \"regarding\", \"reliable\", \"remove\", \"removed\", \"report\", \"request\", \"research\", \"revert\", \"reverted\", \"review\", \"right\", \"rules\", \"said\", \"say\", \"saying\", \"says\", \"section\", \"see\", \"seems\", \"several\", \"show\", \"side\", \"simply\", \"since\", \"site\", \"someone\", \"something\", \"sort\", \"source\", \"sources\", \"speedy\", \"started\", \"state\", \"stated\", \"statement\", \"states\", \"still\", \"stop\", \"style\", \"subject\", \"summary\", \"support\", \"sure\", \"tag\", \"take\", \"talk\", \"tell\", \"term\", \"text\", \"th\", \"thank\", \"thanks\", \"thing\", \"things\", \"think\", \"though\", \"thought\", \"time\", \"title\", \"top\", \"topic\", \"try\", \"trying\", \"two\", \"understand\", \"us\", \"use\", \"used\", \"user\", \"username\", \"users\", \"using\", \"utc\", \"vandalism\", \"view\", \"want\", \"way\", \"website\", \"welcome\", \"well\", \"whether\", \"whole\", \"width\", \"wiki\", \"wikipedia\", \"without\", \"word\", \"work\", \"world\", \"would\", \"wp\", \"write\", \"written\", \"wrong\", \"www\", \"years\", \"yes\", \"yet\"]}, \"R\": 30, \"lambda.step\": 0.01, \"plot.opts\": {\"xlab\": \"PC1\", \"ylab\": \"PC2\"}, \"topic.order\": [3, 8, 10, 7, 2, 4, 1, 5, 6, 9]};\n",
       "\n",
       "function LDAvis_load_lib(url, callback){\n",
       "  var s = document.createElement('script');\n",
       "  s.src = url;\n",
       "  s.async = true;\n",
       "  s.onreadystatechange = s.onload = callback;\n",
       "  s.onerror = function(){console.warn(\"failed to load library \" + url);};\n",
       "  document.getElementsByTagName(\"head\")[0].appendChild(s);\n",
       "}\n",
       "\n",
       "if(typeof(LDAvis) !== \"undefined\"){\n",
       "   // already loaded: just create the visualization\n",
       "   !function(LDAvis){\n",
       "       new LDAvis(\"#\" + \"ldavis_el1599219080246291683898245678\", ldavis_el1599219080246291683898245678_data);\n",
       "   }(LDAvis);\n",
       "}else if(typeof define === \"function\" && define.amd){\n",
       "   // require.js is available: use it to load d3/LDAvis\n",
       "   require.config({paths: {d3: \"https://d3js.org/d3.v5\"}});\n",
       "   require([\"d3\"], function(d3){\n",
       "      window.d3 = d3;\n",
       "      LDAvis_load_lib(\"https://cdn.jsdelivr.net/gh/bmabey/pyLDAvis@3.3.1/pyLDAvis/js/ldavis.v3.0.0.js\", function(){\n",
       "        new LDAvis(\"#\" + \"ldavis_el1599219080246291683898245678\", ldavis_el1599219080246291683898245678_data);\n",
       "      });\n",
       "    });\n",
       "}else{\n",
       "    // require.js not available: dynamically load d3 & LDAvis\n",
       "    LDAvis_load_lib(\"https://d3js.org/d3.v5.js\", function(){\n",
       "         LDAvis_load_lib(\"https://cdn.jsdelivr.net/gh/bmabey/pyLDAvis@3.3.1/pyLDAvis/js/ldavis.v3.0.0.js\", function(){\n",
       "                 new LDAvis(\"#\" + \"ldavis_el1599219080246291683898245678\", ldavis_el1599219080246291683898245678_data);\n",
       "            })\n",
       "         });\n",
       "}\n",
       "</script>"
      ],
      "text/plain": [
       "PreparedData(topic_coordinates=               x          y  topics  cluster       Freq\n",
       "topic                                                  \n",
       "2      32.420952   8.115230       1        1  10.841202\n",
       "7       0.648955  71.707100       2        1  10.162313\n",
       "9      71.019684   9.971006       3        1  10.110621\n",
       "6       3.785981  33.185135       4        1  10.041698\n",
       "1     -42.666500  -9.222070       5        1   9.927976\n",
       "3      -3.621689 -43.526516       6        1   9.890068\n",
       "0      -3.632402  -4.171708       7        1   9.872838\n",
       "4     -36.584400  35.804413       8        1   9.790130\n",
       "5      44.391380  50.615383       9        1   9.710869\n",
       "8      40.235809 -31.591665      10        1   9.652285, topic_info=           Term        Freq       Total Category  logprob  loglift\n",
       "23      article  342.000000  342.000000  Default  30.0000  30.0000\n",
       "392   wikipedia  285.000000  285.000000  Default  29.0000  29.0000\n",
       "236        page  253.000000  253.000000  Default  28.0000  28.0000\n",
       "342        talk  229.000000  229.000000  Default  27.0000  27.0000\n",
       "231         one  187.000000  187.000000  Default  26.0000  26.0000\n",
       "..          ...         ...         ...      ...      ...      ...\n",
       "156        info   20.208994   21.078149  Topic10  -4.2384   2.2959\n",
       "228          oh   20.199063   21.068218  Topic10  -4.2389   2.2958\n",
       "200      matter   19.452293   20.321448  Topic10  -4.2766   2.2943\n",
       "221  notability   18.796996   19.666152  Topic10  -4.3109   2.2928\n",
       "229          ok   18.673124   19.542279  Topic10  -4.3175   2.2925\n",
       "\n",
       "[330 rows x 6 columns], token_table=      Topic      Freq      Term\n",
       "term                           \n",
       "2         7  0.966718  actually\n",
       "3         1  0.988751       add\n",
       "4         4  0.974419     added\n",
       "5         1  0.958000    adding\n",
       "6         3  0.983227     admin\n",
       "...     ...       ...       ...\n",
       "405       1  0.978752     wrong\n",
       "406       4  0.979723       www\n",
       "408       9  0.974871     years\n",
       "409       2  0.952714       yes\n",
       "410       7  0.958715       yet\n",
       "\n",
       "[300 rows x 3 columns], R=30, lambda_step=0.01, plot_opts={'xlab': 'PC1', 'ylab': 'PC2'}, topic_order=[3, 8, 10, 7, 2, 4, 1, 5, 6, 9])"
      ]
     },
     "execution_count": 10,
     "metadata": {},
     "output_type": "execute_result"
    }
   ],
   "source": [
    "# Посмотрим на встречаемость слов в разных темах нетоксичных комментариях\n",
    "topics(corpus_nontoxic)"
   ]
  },
  {
   "cell_type": "markdown",
   "metadata": {
    "id": "evjag2i2g18s"
   },
   "source": [
    "* lda_model модель хорошо описывает представленность слов для 10 тем нетоксичных текстов. "
   ]
  },
  {
   "cell_type": "code",
   "execution_count": 11,
   "metadata": {
    "id": "ceQyiOKJg18s",
    "outputId": "fa088f68-2256-4165-f2c2-1b654671a2ce"
   },
   "outputs": [
    {
     "data": {
      "text/html": [
       "\n",
       "<link rel=\"stylesheet\" type=\"text/css\" href=\"https://cdn.jsdelivr.net/gh/bmabey/pyLDAvis@3.3.1/pyLDAvis/js/ldavis.v1.0.0.css\">\n",
       "\n",
       "\n",
       "<div id=\"ldavis_el1599219080486328489199906841\"></div>\n",
       "<script type=\"text/javascript\">\n",
       "\n",
       "var ldavis_el1599219080486328489199906841_data = {\"mdsDat\": {\"x\": [32.42095184326172, 0.648955225944519, 71.01968383789062, 3.7859814167022705, -42.666500091552734, -3.6216893196105957, -3.632401704788208, -36.58440017700195, 44.391380310058594, 40.235809326171875], \"y\": [8.115229606628418, 71.70709991455078, 9.971006393432617, 33.18513488769531, -9.22206974029541, -43.52651596069336, -4.171707630157471, 35.804412841796875, 50.61538314819336, -31.591665267944336], \"topics\": [1, 2, 3, 4, 5, 6, 7, 8, 9, 10], \"cluster\": [1, 1, 1, 1, 1, 1, 1, 1, 1, 1], \"Freq\": [15.869565098598395, 13.423912951789237, 11.249999969413851, 10.706521711618368, 9.89130432594927, 9.891304325507841, 9.619565197196318, 9.347826067736367, 5.000000176172014, 5.000000176018336]}, \"tinfo\": {\"Term\": [\"wikipedia\", \"fuck\", \"page\", \"get\", \"go\", \"fucking\", \"like\", \"one\", \"know\", \"people\", \"like\", \"people\", \"know\", \"one\", \"fucking\", \"go\", \"get\", \"page\", \"fuck\", \"wikipedia\", \"one\", \"know\", \"people\", \"like\", \"fucking\", \"go\", \"page\", \"get\", \"fuck\", \"wikipedia\", \"wikipedia\", \"know\", \"one\", \"people\", \"like\", \"fucking\", \"go\", \"get\", \"page\", \"fuck\", \"fuck\", \"know\", \"one\", \"people\", \"like\", \"fucking\", \"go\", \"get\", \"page\", \"wikipedia\", \"get\", \"know\", \"one\", \"people\", \"like\", \"fucking\", \"go\", \"page\", \"fuck\", \"wikipedia\", \"page\", \"know\", \"one\", \"people\", \"like\", \"fucking\", \"go\", \"get\", \"fuck\", \"wikipedia\", \"go\", \"know\", \"one\", \"people\", \"like\", \"fucking\", \"get\", \"page\", \"fuck\", \"wikipedia\", \"fucking\", \"know\", \"one\", \"people\", \"like\", \"go\", \"get\", \"page\", \"fuck\", \"wikipedia\", \"know\", \"one\", \"people\", \"like\", \"fucking\", \"go\", \"page\", \"get\", \"fuck\", \"wikipedia\", \"know\", \"one\", \"people\", \"like\", \"fucking\", \"go\", \"get\", \"page\", \"fuck\", \"wikipedia\"], \"Freq\": [22.0, 21.0, 19.0, 19.0, 19.0, 18.0, 17.0, 14.0, 14.0, 16.0, 15.106724795441265, 13.500407850684722, 0.07410672398543947, 0.07411016811377161, 0.07410769718194246, 0.07410927466240667, 0.07410849155831642, 0.07410599801545655, 0.07411002515411305, 0.07410875662362121, 12.03438012599299, 12.007430873210309, 0.08225840125885, 0.08225714740596858, 0.08225998048593033, 0.08226208200304932, 0.08237610657665144, 0.08225485498270654, 0.08226423531440814, 0.0822560240613367, 19.896350291446133, 0.08929468203753554, 0.08929404299465654, 0.08929383231968897, 0.08929552674262341, 0.08929547715976643, 0.0892952039153089, 0.08929237131032344, 0.08929029608724359, 0.08929821970820874, 18.925310245122347, 0.08607656554157946, 0.0860739851725583, 0.08607563819384689, 0.08607673678685053, 0.08608095959203313, 0.08607442988552307, 0.0860752875714332, 0.08607729956216485, 0.08607880194946138, 17.24997574972291, 0.10555678948192626, 0.10555950909052715, 0.10555848666078606, 0.10555838284636286, 0.10555834905828299, 0.10555420156179342, 0.10555749135356146, 0.10556285910874195, 0.10555814086176196, 17.261086829155843, 0.10432251230110613, 0.10432022322073625, 0.10432718664135093, 0.10431996071205928, 0.10432623585624846, 0.10432383637164253, 0.10432303700054517, 0.10432483034733725, 0.10432530732755815, 16.71163479699925, 0.10981822051944964, 0.10981499703362099, 0.10981696057651297, 0.10981645254382423, 0.10982224108330986, 0.10981832464989946, 0.10981716020757212, 0.1098156958028169, 0.10982511342497038, 16.384265770636784, 0.09062190366728488, 0.0906246072158916, 0.09062398839567226, 0.09062537596834923, 0.09074831409868543, 0.09062156773523433, 0.09062076854028102, 0.09062241215909275, 0.09062525621763805, 0.9197660789807588, 0.9197137346647358, 0.9197197670790561, 0.9197494148241692, 0.9197635615958522, 0.9197009509893441, 0.9224413426809465, 0.9197143777851422, 0.9197088179187232, 0.919722277637778, 0.9198752851810102, 0.9198391308867572, 0.9198610828764267, 0.9198829965780123, 0.9199056863665358, 0.9211433853427908, 0.919881277261226, 0.9198984700245976, 0.919860952564368, 0.9198520567920135], \"Total\": [22.0, 21.0, 19.0, 19.0, 19.0, 18.0, 17.0, 14.0, 14.0, 16.0, 17.614306789849483, 16.007943194686913, 14.506869634906403, 14.533730524386245, 18.875385959016686, 19.184846475829794, 19.726065339577733, 19.74127176220432, 21.420878293200154, 22.388702026342273, 14.533730524386245, 14.506869634906403, 16.007943194686913, 17.614306789849483, 18.875385959016686, 19.184846475829794, 19.74127176220432, 19.726065339577733, 21.420878293200154, 22.388702026342273, 22.388702026342273, 14.506869634906403, 14.533730524386245, 16.007943194686913, 17.614306789849483, 18.875385959016686, 19.184846475829794, 19.726065339577733, 19.74127176220432, 21.420878293200154, 21.420878293200154, 14.506869634906403, 14.533730524386245, 16.007943194686913, 17.614306789849483, 18.875385959016686, 19.184846475829794, 19.726065339577733, 19.74127176220432, 22.388702026342273, 19.726065339577733, 14.506869634906403, 14.533730524386245, 16.007943194686913, 17.614306789849483, 18.875385959016686, 19.184846475829794, 19.74127176220432, 21.420878293200154, 22.388702026342273, 19.74127176220432, 14.506869634906403, 14.533730524386245, 16.007943194686913, 17.614306789849483, 18.875385959016686, 19.184846475829794, 19.726065339577733, 21.420878293200154, 22.388702026342273, 19.184846475829794, 14.506869634906403, 14.533730524386245, 16.007943194686913, 17.614306789849483, 18.875385959016686, 19.726065339577733, 19.74127176220432, 21.420878293200154, 22.388702026342273, 18.875385959016686, 14.506869634906403, 14.533730524386245, 16.007943194686913, 17.614306789849483, 19.184846475829794, 19.726065339577733, 19.74127176220432, 21.420878293200154, 22.388702026342273, 14.506869634906403, 14.533730524386245, 16.007943194686913, 17.614306789849483, 18.875385959016686, 19.184846475829794, 19.74127176220432, 19.726065339577733, 21.420878293200154, 22.388702026342273, 14.506869634906403, 14.533730524386245, 16.007943194686913, 17.614306789849483, 18.875385959016686, 19.184846475829794, 19.726065339577733, 19.74127176220432, 21.420878293200154, 22.388702026342273], \"Category\": [\"Default\", \"Default\", \"Default\", \"Default\", \"Default\", \"Default\", \"Default\", \"Default\", \"Default\", \"Default\", \"Topic1\", \"Topic1\", \"Topic1\", \"Topic1\", \"Topic1\", \"Topic1\", \"Topic1\", \"Topic1\", \"Topic1\", \"Topic1\", \"Topic2\", \"Topic2\", \"Topic2\", \"Topic2\", \"Topic2\", \"Topic2\", \"Topic2\", \"Topic2\", \"Topic2\", \"Topic2\", \"Topic3\", \"Topic3\", \"Topic3\", \"Topic3\", \"Topic3\", \"Topic3\", \"Topic3\", \"Topic3\", \"Topic3\", \"Topic3\", \"Topic4\", \"Topic4\", \"Topic4\", \"Topic4\", \"Topic4\", \"Topic4\", \"Topic4\", \"Topic4\", \"Topic4\", \"Topic4\", \"Topic5\", \"Topic5\", \"Topic5\", \"Topic5\", \"Topic5\", \"Topic5\", \"Topic5\", \"Topic5\", \"Topic5\", \"Topic5\", \"Topic6\", \"Topic6\", \"Topic6\", \"Topic6\", \"Topic6\", \"Topic6\", \"Topic6\", \"Topic6\", \"Topic6\", \"Topic6\", \"Topic7\", \"Topic7\", \"Topic7\", \"Topic7\", \"Topic7\", \"Topic7\", \"Topic7\", \"Topic7\", \"Topic7\", \"Topic7\", \"Topic8\", \"Topic8\", \"Topic8\", \"Topic8\", \"Topic8\", \"Topic8\", \"Topic8\", \"Topic8\", \"Topic8\", \"Topic8\", \"Topic9\", \"Topic9\", \"Topic9\", \"Topic9\", \"Topic9\", \"Topic9\", \"Topic9\", \"Topic9\", \"Topic9\", \"Topic9\", \"Topic10\", \"Topic10\", \"Topic10\", \"Topic10\", \"Topic10\", \"Topic10\", \"Topic10\", \"Topic10\", \"Topic10\", \"Topic10\"], \"logprob\": [10.0, 9.0, 8.0, 7.0, 6.0, 5.0, 4.0, 3.0, 2.0, 1.0, -0.659, -0.7714, -5.9764, -5.9764, -5.9764, -5.9764, -5.9764, -5.9764, -5.9764, -5.9764, -0.719, -0.7213, -5.7047, -5.7047, -5.7047, -5.7046, -5.7033, -5.7047, -5.7046, -5.7047, -0.0396, -5.4459, -5.446, -5.446, -5.4459, -5.4459, -5.4459, -5.446, -5.446, -5.4459, -0.0401, -5.4331, -5.4332, -5.4331, -5.4331, -5.4331, -5.4332, -5.4332, -5.4331, -5.4331, -0.0536, -5.1499, -5.1499, -5.1499, -5.1499, -5.1499, -5.15, -5.1499, -5.1499, -5.1499, -0.053, -5.1617, -5.1617, -5.1616, -5.1617, -5.1617, -5.1617, -5.1617, -5.1617, -5.1617, -0.0575, -5.0825, -5.0825, -5.0825, -5.0825, -5.0825, -5.0825, -5.0825, -5.0825, -5.0824, -0.0486, -5.246, -5.2459, -5.2459, -5.2459, -5.2446, -5.246, -5.246, -5.246, -5.2459, -2.3028, -2.3029, -2.3029, -2.3029, -2.3028, -2.3029, -2.2999, -2.3029, -2.3029, -2.3029, -2.3027, -2.3028, -2.3027, -2.3027, -2.3027, -2.3013, -2.3027, -2.3027, -2.3027, -2.3027], \"loglift\": [10.0, 9.0, 8.0, 7.0, 6.0, 5.0, 4.0, 3.0, 2.0, 1.0, 1.6872, 1.6704, -3.4361, -3.4379, -3.6993, -3.7156, -3.7434, -3.7442, -3.8258, -3.87, 1.8194, 1.819, -3.2628, -3.3585, -3.4276, -3.4438, -3.471, -3.4717, -3.5541, -3.5983, 2.0668, -2.9056, -2.9075, -3.0041, -3.0997, -3.1689, -3.1851, -3.213, -3.2138, -3.2953, 2.1105, -2.8928, -2.8947, -2.9913, -3.0869, -3.156, -3.1723, -3.2002, -3.2009, -3.3267, 2.1794, -2.6096, -2.6114, -2.7081, -2.8037, -2.8728, -2.8891, -2.9177, -2.9993, -3.0435, 2.1793, -2.6214, -2.6232, -2.7198, -2.8155, -2.8846, -2.9009, -2.9287, -3.0111, -3.0553, 2.2034, -2.5422, -2.5441, -2.6407, -2.7363, -2.8054, -2.8495, -2.8503, -2.9319, -2.9761, 2.2285, -2.7057, -2.7075, -2.8041, -2.8997, -2.9838, -3.013, -3.0138, -3.0954, -3.1396, 0.2375, 0.2356, 0.139, 0.0434, -0.0258, -0.0421, -0.0677, -0.0699, -0.1523, -0.1965, 0.2376, 0.2357, 0.1391, 0.0435, -0.0256, -0.0405, -0.0697, -0.0705, -0.1522, -0.1964]}, \"token.table\": {\"Topic\": [4, 9, 10, 8, 9, 10, 5, 9, 10, 7, 9, 10, 2, 9, 10, 1, 9, 10, 2, 9, 10, 6, 9, 10, 1, 9, 10, 3, 9, 10], \"Freq\": [0.8869851058362701, 0.046683426622961585, 0.046683426622961585, 0.847664786020276, 0.05297904912626725, 0.05297904912626725, 0.8618038979061757, 0.05069434693565739, 0.05069434693565739, 0.8861160302438493, 0.052124472367285256, 0.052124472367285256, 0.8271943087656638, 0.06893285906380532, 0.06893285906380532, 0.851580489596331, 0.0567720326397554, 0.0567720326397554, 0.8256655082372085, 0.06880545901976738, 0.06880545901976738, 0.8611400625438618, 0.05065529779669775, 0.05065529779669775, 0.8745658220880397, 0.062468987292002835, 0.062468987292002835, 0.8933077038797624, 0.04466538519398812, 0.04466538519398812], \"Term\": [\"fuck\", \"fuck\", \"fuck\", \"fucking\", \"fucking\", \"fucking\", \"get\", \"get\", \"get\", \"go\", \"go\", \"go\", \"know\", \"know\", \"know\", \"like\", \"like\", \"like\", \"one\", \"one\", \"one\", \"page\", \"page\", \"page\", \"people\", \"people\", \"people\", \"wikipedia\", \"wikipedia\", \"wikipedia\"]}, \"R\": 10, \"lambda.step\": 0.01, \"plot.opts\": {\"xlab\": \"PC1\", \"ylab\": \"PC2\"}, \"topic.order\": [5, 2, 7, 3, 1, 4, 9, 8, 10, 6]};\n",
       "\n",
       "function LDAvis_load_lib(url, callback){\n",
       "  var s = document.createElement('script');\n",
       "  s.src = url;\n",
       "  s.async = true;\n",
       "  s.onreadystatechange = s.onload = callback;\n",
       "  s.onerror = function(){console.warn(\"failed to load library \" + url);};\n",
       "  document.getElementsByTagName(\"head\")[0].appendChild(s);\n",
       "}\n",
       "\n",
       "if(typeof(LDAvis) !== \"undefined\"){\n",
       "   // already loaded: just create the visualization\n",
       "   !function(LDAvis){\n",
       "       new LDAvis(\"#\" + \"ldavis_el1599219080486328489199906841\", ldavis_el1599219080486328489199906841_data);\n",
       "   }(LDAvis);\n",
       "}else if(typeof define === \"function\" && define.amd){\n",
       "   // require.js is available: use it to load d3/LDAvis\n",
       "   require.config({paths: {d3: \"https://d3js.org/d3.v5\"}});\n",
       "   require([\"d3\"], function(d3){\n",
       "      window.d3 = d3;\n",
       "      LDAvis_load_lib(\"https://cdn.jsdelivr.net/gh/bmabey/pyLDAvis@3.3.1/pyLDAvis/js/ldavis.v3.0.0.js\", function(){\n",
       "        new LDAvis(\"#\" + \"ldavis_el1599219080486328489199906841\", ldavis_el1599219080486328489199906841_data);\n",
       "      });\n",
       "    });\n",
       "}else{\n",
       "    // require.js not available: dynamically load d3 & LDAvis\n",
       "    LDAvis_load_lib(\"https://d3js.org/d3.v5.js\", function(){\n",
       "         LDAvis_load_lib(\"https://cdn.jsdelivr.net/gh/bmabey/pyLDAvis@3.3.1/pyLDAvis/js/ldavis.v3.0.0.js\", function(){\n",
       "                 new LDAvis(\"#\" + \"ldavis_el1599219080486328489199906841\", ldavis_el1599219080486328489199906841_data);\n",
       "            })\n",
       "         });\n",
       "}\n",
       "</script>"
      ],
      "text/plain": [
       "PreparedData(topic_coordinates=               x          y  topics  cluster       Freq\n",
       "topic                                                  \n",
       "4      32.420952   8.115230       1        1  15.869565\n",
       "1       0.648955  71.707100       2        1  13.423913\n",
       "6      71.019684   9.971006       3        1  11.250000\n",
       "2       3.785981  33.185135       4        1  10.706522\n",
       "0     -42.666500  -9.222070       5        1   9.891304\n",
       "3      -3.621689 -43.526516       6        1   9.891304\n",
       "8      -3.632402  -4.171708       7        1   9.619565\n",
       "7     -36.584400  35.804413       8        1   9.347826\n",
       "9      44.391380  50.615383       9        1   5.000000\n",
       "5      40.235809 -31.591665      10        1   5.000000, topic_info=         Term       Freq      Total Category  logprob  loglift\n",
       "9   wikipedia  22.000000  22.000000  Default  10.0000  10.0000\n",
       "0        fuck  21.000000  21.000000  Default   9.0000   9.0000\n",
       "7        page  19.000000  19.000000  Default   8.0000   8.0000\n",
       "2         get  19.000000  19.000000  Default   7.0000   7.0000\n",
       "3          go  19.000000  19.000000  Default   6.0000   6.0000\n",
       "..        ...        ...        ...      ...      ...      ...\n",
       "3          go   0.921143  19.184846  Topic10  -2.3013  -0.0405\n",
       "2         get   0.919881  19.726065  Topic10  -2.3027  -0.0697\n",
       "7        page   0.919898  19.741272  Topic10  -2.3027  -0.0705\n",
       "0        fuck   0.919861  21.420878  Topic10  -2.3027  -0.1522\n",
       "9   wikipedia   0.919852  22.388702  Topic10  -2.3027  -0.1964\n",
       "\n",
       "[110 rows x 6 columns], token_table=      Topic      Freq       Term\n",
       "term                            \n",
       "0         4  0.886985       fuck\n",
       "0         9  0.046683       fuck\n",
       "0        10  0.046683       fuck\n",
       "1         8  0.847665    fucking\n",
       "1         9  0.052979    fucking\n",
       "1        10  0.052979    fucking\n",
       "2         5  0.861804        get\n",
       "2         9  0.050694        get\n",
       "2        10  0.050694        get\n",
       "3         7  0.886116         go\n",
       "3         9  0.052124         go\n",
       "3        10  0.052124         go\n",
       "4         2  0.827194       know\n",
       "4         9  0.068933       know\n",
       "4        10  0.068933       know\n",
       "5         1  0.851580       like\n",
       "5         9  0.056772       like\n",
       "5        10  0.056772       like\n",
       "6         2  0.825666        one\n",
       "6         9  0.068805        one\n",
       "6        10  0.068805        one\n",
       "7         6  0.861140       page\n",
       "7         9  0.050655       page\n",
       "7        10  0.050655       page\n",
       "8         1  0.874566     people\n",
       "8         9  0.062469     people\n",
       "8        10  0.062469     people\n",
       "9         3  0.893308  wikipedia\n",
       "9         9  0.044665  wikipedia\n",
       "9        10  0.044665  wikipedia, R=10, lambda_step=0.01, plot_opts={'xlab': 'PC1', 'ylab': 'PC2'}, topic_order=[5, 2, 7, 3, 1, 4, 9, 8, 10, 6])"
      ]
     },
     "execution_count": 11,
     "metadata": {},
     "output_type": "execute_result"
    }
   ],
   "source": [
    "# Посмотрим на встречаемость слов в разных темах nоксичных комментариях\n",
    "topics(corpus_toxic)"
   ]
  },
  {
   "cell_type": "markdown",
   "metadata": {
    "id": "DGZZbPSeg18t"
   },
   "source": [
    "* lda_model модель плохо описывает представленность слов для 10 тем токсичных текстов. \n",
    "* Однако снова заметно, что количество слов гораздо меньше и встречается нецензурная лексика.\n",
    "* Далее проведем токенизацию текстов."
   ]
  },
  {
   "cell_type": "markdown",
   "metadata": {
    "id": "2If574nmg18t"
   },
   "source": [
    "### Подготовка данных к обучению модели"
   ]
  },
  {
   "cell_type": "code",
   "execution_count": null,
   "metadata": {
    "id": "8kubYczcg18t",
    "outputId": "0c8ee88c-9a66-4ba4-bd45-92bda31c13b2"
   },
   "outputs": [
    {
     "name": "stdout",
     "output_type": "stream",
     "text": [
      "CPU times: user 1.17 s, sys: 7 ms, total: 1.18 s\n",
      "Wall time: 1.19 s\n"
     ]
    }
   ],
   "source": [
    "%%time\n",
    "tokenized = comments_1['text'].apply(\n",
    "    lambda x: tokenizer.encode(x, add_special_tokens=True,truncation=True))"
   ]
  },
  {
   "cell_type": "code",
   "execution_count": null,
   "metadata": {
    "id": "xfYceE23g18t",
    "outputId": "626b1b6d-564a-4782-a455-9c2b56cb3b1a"
   },
   "outputs": [
    {
     "data": {
      "text/plain": [
       "(1000,)"
      ]
     },
     "execution_count": 23,
     "metadata": {},
     "output_type": "execute_result"
    }
   ],
   "source": [
    "# Проверим длину строк\n",
    "tokenized.shape"
   ]
  },
  {
   "cell_type": "code",
   "execution_count": null,
   "metadata": {
    "id": "s3I80E7Sg18t",
    "outputId": "24c9e783-4c69-4b7d-d551-1d8b3d8f5830"
   },
   "outputs": [
    {
     "data": {
      "image/png": "[encoded data removed]",
      "text/plain": [
       "<Figure size 720x576 with 1 Axes>"
      ]
     },
     "metadata": {
      "needs_background": "light"
     },
     "output_type": "display_data"
    }
   ],
   "source": [
    "# Посмотрим на длину токенов\n",
    "tokenized.str.len().hist(grid=False, figsize=(10,8))\n",
    "\n",
    "plt.show()"
   ]
  },
  {
   "cell_type": "markdown",
   "metadata": {
    "id": "i2hgYusmg18u"
   },
   "source": [
    "* Как и ожидалось, обрезка прошла по 512, что значит, что 75% данных комментариев в обеих группах входит в эту выборку токенов.\n",
    "* Применим `padding` с самой длиной длиной строки."
   ]
  },
  {
   "cell_type": "code",
   "execution_count": null,
   "metadata": {
    "id": "Y1OXv7dyg18u",
    "outputId": "1a62afe7-4e94-49fa-8ab0-16db7789b734"
   },
   "outputs": [
    {
     "name": "stdout",
     "output_type": "stream",
     "text": [
      "CPU times: total: 46.9 ms\n",
      "Wall time: 33.9 ms\n"
     ]
    }
   ],
   "source": [
    "%%time\n",
    "max_len =max([len(arr) for arr in tokenized.values])\n",
    "\n",
    "# применим padding к векторам, чтобы длины текстов в корпусе были равны\n",
    "\n",
    "padded = np.array([i + [0]*(max_len - len(i)) for i in tokenized.values])"
   ]
  },
  {
   "cell_type": "code",
   "execution_count": null,
   "metadata": {
    "id": "miYG74xYg18v"
   },
   "outputs": [],
   "source": [
    "# применим маску, чтобы оставить только важные токены \n",
    "attention_mask = np.where(padded != 0, 1, 0)"
   ]
  },
  {
   "cell_type": "code",
   "execution_count": null,
   "metadata": {
    "id": "Esf0566xg18w",
    "outputId": "83569360-dabc-4e16-ec24-0c3c6b57c6e0"
   },
   "outputs": [
    {
     "name": "stdout",
     "output_type": "stream",
     "text": [
      "(1000,)\n",
      "(1000, 512)\n",
      "(1000, 512)\n"
     ]
    }
   ],
   "source": [
    "# Проверим длины\n",
    "print(tokenized.shape)\n",
    "print(padded.shape)\n",
    "print(attention_mask.shape)\n"
   ]
  },
  {
   "cell_type": "markdown",
   "metadata": {
    "id": "woJeuBWBg18w"
   },
   "source": [
    "* Получили 512 переменных.\n",
    "* Получим контекстуальные эмбеддинги, используя предобученный словарь."
   ]
  },
  {
   "cell_type": "code",
   "execution_count": null,
   "metadata": {
    "id": "3-pqnoUXg18w",
    "outputId": "c03880cb-1928-4a80-ecbe-a2f57bc10b77",
    "scrolled": true
   },
   "outputs": [
    {
     "data": {
      "application/vnd.jupyter.widget-view+json": {
       "model_id": "dbe2c5ece35943b79d9d1faf183f800d",
       "version_major": 2,
       "version_minor": 0
      },
      "text/plain": [
       "  0%|          | 0/10 [00:00<?, ?it/s]"
      ]
     },
     "metadata": {},
     "output_type": "display_data"
    },
    {
     "name": "stdout",
     "output_type": "stream",
     "text": [
      "CPU times: total: 1h 4min 54s\n",
      "Wall time: 12min 34s\n"
     ]
    }
   ],
   "source": [
    "%%time\n",
    "batch_size = 100\n",
    "embeddings = []\n",
    "for i in notebook.tqdm(range(padded.shape[0] // batch_size)):\n",
    "# Переводим в тензоры токены одинаковой длины.\n",
    "\n",
    "        batch = torch.LongTensor(padded[batch_size*i:batch_size*(i+1)]) \n",
    "# Переводим в векторы-тензоры маски с 1 и 0.\n",
    "\n",
    "        attention_mask_batch = torch.LongTensor(attention_mask[batch_size*i:batch_size*(i+1)])\n",
    "\n",
    "\n",
    "# Применяем обученную модель, которая переведет в эмбединги маски и padded.       \n",
    "        with torch.no_grad():\n",
    "            batch_embeddings = model(batch, attention_mask=attention_mask_batch)\n",
    "        \n",
    "        embeddings.append(batch_embeddings[0][:,0,:].numpy())\n"
   ]
  },
  {
   "cell_type": "markdown",
   "metadata": {
    "id": "FJR6iCJug18w"
   },
   "source": [
    "* Сохраним полученные эмбеддинги в признаки для предсказания модели."
   ]
  },
  {
   "cell_type": "code",
   "execution_count": null,
   "metadata": {
    "id": "ElPGPRCpg18w",
    "outputId": "683212da-1ad8-4474-c0b5-190cfc8b9bc7"
   },
   "outputs": [
    {
     "data": {
      "text/plain": [
       "(1000, 768)"
      ]
     },
     "execution_count": 60,
     "metadata": {},
     "output_type": "execute_result"
    }
   ],
   "source": [
    "features = np.concatenate(embeddings)\n",
    "features.shape"
   ]
  },
  {
   "cell_type": "markdown",
   "metadata": {
    "id": "r1KcB0Veg18x"
   },
   "source": [
    "### Вывод\n",
    "* Таблица `comments` содержит два типа текстов, токсичные и нетоксичные. Токсичных комментариев меньше и они короче.\n",
    "* Из таблицы выбрано первые 1000 строк для отработки метода получения эмбеддингов через `BERT`.\n",
    "\n",
    "* Извлечены контекстуальные эмбеддинги с помощью предобученного словаря `unitary/toxic-bert`.\n",
    "* Данные готовы для обучения моделей классификации."
   ]
  },
  {
   "cell_type": "markdown",
   "metadata": {
    "id": "UIxb0R8Kg18x"
   },
   "source": [
    "## Обучение"
   ]
  },
  {
   "cell_type": "code",
   "execution_count": null,
   "metadata": {
    "id": "weMhYMtWg18x",
    "outputId": "f4e60996-237a-4eb3-c8d7-dfcd3f5a8724"
   },
   "outputs": [
    {
     "data": {
      "text/plain": [
       "(1000,)"
      ]
     },
     "execution_count": 24,
     "metadata": {},
     "output_type": "execute_result"
    }
   ],
   "source": [
    "# Извлечем целевой признак\n",
    "target = comments_1['toxic']\n",
    "target.shape"
   ]
  },
  {
   "cell_type": "code",
   "execution_count": null,
   "metadata": {
    "id": "c9XvZVLyg18x"
   },
   "outputs": [],
   "source": [
    "# Разделим выборку попалам с учётом дисбалансов классов\n",
    "X_train, X_test, y_train, y_test = train_test_split(features, \n",
    "                                                    target, \n",
    "                                                    test_size = 0.5, \n",
    "                                                    random_state=12345, \n",
    "                                                    stratify=target)"
   ]
  },
  {
   "cell_type": "code",
   "execution_count": null,
   "metadata": {
    "id": "gT8u-tI2g18y",
    "outputId": "95168991-41b2-4262-9f5c-6314b167d121"
   },
   "outputs": [
    {
     "name": "stdout",
     "output_type": "stream",
     "text": [
      "Количество комментариев из разных классов в тренировочной выборке 0    446\n",
      "1     54\n",
      "Name: toxic, dtype: int64\n",
      "\n",
      "Количество комментариев из разных классов в тестовой выборке 0    446\n",
      "1     54\n",
      "Name: toxic, dtype: int64\n"
     ]
    }
   ],
   "source": [
    "# Проверим сколько в выборке осталось токсичных классов\n",
    "print('Количество комментариев из разных классов в тренировочной выборке', y_train.value_counts())\n",
    "print()\n",
    "print('Количество комментариев из разных классов в тестовой выборке', y_train.value_counts())"
   ]
  },
  {
   "cell_type": "markdown",
   "metadata": {
    "id": "GUCMfSxUg18y"
   },
   "source": [
    "* Количество комментариев разных классов представлено одинаковое количество.\n"
   ]
  },
  {
   "cell_type": "markdown",
   "metadata": {
    "id": "KZjviH7fg18y"
   },
   "source": [
    "### Logistic Regression"
   ]
  },
  {
   "cell_type": "markdown",
   "metadata": {
    "id": "TAEillEMg18y"
   },
   "source": [
    "* Проверим предсказание токсичности комментариев на Логистической регрессии.\n",
    "* В связи с дисбалансом классов будем использовать метрику `precision`."
   ]
  },
  {
   "cell_type": "code",
   "execution_count": null,
   "metadata": {
    "id": "rUo4LA7jg18y",
    "outputId": "a38ebf10-cf8f-4d4a-b969-91211d733374"
   },
   "outputs": [
    {
     "name": "stdout",
     "output_type": "stream",
     "text": [
      "F1 Лоистической регрессии 0.925\n",
      "CPU times: total: 188 ms\n",
      "Wall time: 196 ms\n"
     ]
    }
   ],
   "source": [
    "%%time\n",
    "model_lr = LogisticRegression(solver='liblinear', class_weight='balanced')\n",
    "f1_lr = cross_val_score(model_lr, X_train, y_train, cv=4, scoring='f1').mean()\n",
    "print(f'F1 Лоистической регрессии {round(f1_lr, 3)}')"
   ]
  },
  {
   "cell_type": "markdown",
   "metadata": {
    "id": "65_TI2_5g18z"
   },
   "source": [
    "* Логистическая регрессия быстро обучается и даёт точность метрики `F1` 0,935, что выше ожидаемой 0,75. "
   ]
  },
  {
   "cell_type": "markdown",
   "metadata": {
    "id": "ma50iGRQg18z"
   },
   "source": [
    "### Random Forest"
   ]
  },
  {
   "cell_type": "code",
   "execution_count": null,
   "metadata": {
    "id": "WVKhvYeMg18z",
    "outputId": "9c88547d-cdd0-470f-89d0-1e04b31bdfc8"
   },
   "outputs": [
    {
     "name": "stdout",
     "output_type": "stream",
     "text": [
      "Fitting 3 folds for each of 10 candidates, totalling 30 fits\n",
      "CPU times: total: 250 ms\n",
      "Wall time: 9.48 s\n"
     ]
    }
   ],
   "source": [
    "%%time\n",
    "# Параметры\n",
    "param_grid = {'n_estimators': [10, 33, 100, 1000],\n",
    "               'max_depth': [2, 10, 20]\n",
    "             }\n",
    "\n",
    "\n",
    "\n",
    "rf = RandomForestClassifier(random_state=12345, class_weight='balanced')\n",
    "\n",
    "rf_RandomGrid = RandomizedSearchCV(estimator=rf, param_distributions = param_grid,\n",
    "                               cv = 3, scoring='f1', verbose=10, n_jobs=2).fit(X_train, y_train)\n",
    "             \n",
    "\n"
   ]
  },
  {
   "cell_type": "code",
   "execution_count": null,
   "metadata": {
    "id": "TTcyI2lHg18z",
    "outputId": "a949d5f9-11dd-48f7-d2d5-d8e5cffe31a3"
   },
   "outputs": [
    {
     "name": "stdout",
     "output_type": "stream",
     "text": [
      "{'n_estimators': 100, 'max_depth': 2}\n",
      "F1 Случайного леса 0.963\n",
      "RandomForestClassifier(class_weight='balanced', max_depth=2, random_state=12345)\n"
     ]
    }
   ],
   "source": [
    "print(rf_RandomGrid.best_params_)\n",
    "print(f'F1 Случайного леса {round(rf_RandomGrid.best_score_, 3)}')\n",
    "print(rf_RandomGrid.best_estimator_)\n",
    "\n"
   ]
  },
  {
   "cell_type": "markdown",
   "metadata": {
    "id": "2NgtRtgig18z"
   },
   "source": [
    "* Случайный Лес обучается дольше, чем Логистическая регрессия и даёт точность метрики `F1` 0,963, что выше ожидаемой 0,75 и выше Логистической регрессии. "
   ]
  },
  {
   "cell_type": "markdown",
   "metadata": {
    "id": "Gw_hjG1Vg18z"
   },
   "source": [
    "### CatBoost"
   ]
  },
  {
   "cell_type": "code",
   "execution_count": null,
   "metadata": {
    "id": "cGDtaC1og180"
   },
   "outputs": [],
   "source": [
    "# Разобъем выборку на три части.\n",
    "# Сначала получим тренировочную и вторую часть, которую позже разобъем на валидационную и тестовую.\n",
    "X_train, X_v_t, y_train, y_v_t = train_test_split(features, target, \n",
    "                                                  test_size=0.5, \n",
    "                                                  stratify=target,\n",
    "                                                  random_state=12345)"
   ]
  },
  {
   "cell_type": "code",
   "execution_count": null,
   "metadata": {
    "id": "SZRbvdH1g180"
   },
   "outputs": [],
   "source": [
    "# Получим тестовую и валидационные выборки\n",
    "X_valid, X_test, y_valid, y_test = train_test_split(X_v_t, y_v_t, \n",
    "                                                  test_size=0.5, \n",
    "                                                  stratify=y_v_t,\n",
    "                                                  random_state=12345)"
   ]
  },
  {
   "cell_type": "code",
   "execution_count": null,
   "metadata": {
    "id": "dgDURspyg180"
   },
   "outputs": [],
   "source": [
    "# Создадим пулы данных для выборок\n",
    "train_pool = Pool(X_train, y_train, cat_features=None)\n",
    "valid_pool = Pool(X_valid, y_valid, cat_features=None)\n",
    "test_pool = Pool(X_test, y_test, cat_features=None)"
   ]
  },
  {
   "cell_type": "code",
   "execution_count": null,
   "metadata": {
    "id": "duMMjq-4g180",
    "outputId": "501f56e9-0c7d-40f2-f0c4-70b1fb0a6e3c",
    "scrolled": true
   },
   "outputs": [
    {
     "data": {
      "application/vnd.jupyter.widget-view+json": {
       "model_id": "f51fe93559a84c8f99247192b1b2d7bf",
       "version_major": 2,
       "version_minor": 0
      },
      "text/plain": [
       "MetricVisualizer(layout=Layout(align_self='stretch', height='500px'))"
      ]
     },
     "metadata": {},
     "output_type": "display_data"
    },
    {
     "name": "stdout",
     "output_type": "stream",
     "text": [
      "0:\tlearn: 0.9776414\ttest: 0.9674620\tbest: 0.9674620 (0)\ttotal: 55.8ms\tremaining: 27.9s\n",
      "300:\tlearn: 1.0000000\ttest: 0.9867257\tbest: 0.9867257 (30)\ttotal: 14.6s\tremaining: 9.66s\n",
      "499:\tlearn: 1.0000000\ttest: 0.9867257\tbest: 0.9867257 (30)\ttotal: 24.3s\tremaining: 0us\n",
      "\n",
      "bestTest = 0.9867256637\n",
      "bestIteration = 30\n",
      "\n",
      "0:\tloss: 0.9867257\tbest: 0.9867257 (0)\ttotal: 24.4s\tremaining: 0us\n",
      "Estimating final quality...\n",
      "Training on fold [0/3]\n",
      "0:\tlearn: 0.9753695\ttest: 0.9279438\tbest: 0.9279438 (0)\ttotal: 53.5ms\tremaining: 26.7s\n",
      "300:\tlearn: 1.0000000\ttest: 0.9714286\tbest: 0.9714286 (28)\ttotal: 15s\tremaining: 9.89s\n",
      "499:\tlearn: 1.0000000\ttest: 0.9714286\tbest: 0.9714286 (28)\ttotal: 24.7s\tremaining: 0us\n",
      "\n",
      "bestTest = 0.9714285714\n",
      "bestIteration = 28\n",
      "\n",
      "Training on fold [1/3]\n",
      "0:\tlearn: 0.9721768\ttest: 0.9834437\tbest: 0.9834437 (0)\ttotal: 54.2ms\tremaining: 27.1s\n",
      "300:\tlearn: 1.0000000\ttest: 0.9966443\tbest: 0.9966443 (44)\ttotal: 14.9s\tremaining: 9.85s\n",
      "499:\tlearn: 1.0000000\ttest: 0.9966443\tbest: 0.9966443 (44)\ttotal: 24.8s\tremaining: 0us\n",
      "\n",
      "bestTest = 0.9966442953\n",
      "bestIteration = 44\n",
      "\n",
      "Training on fold [2/3]\n",
      "0:\tlearn: 0.9801980\ttest: 0.8831401\tbest: 0.8831401 (0)\ttotal: 59.7ms\tremaining: 29.8s\n",
      "300:\tlearn: 1.0000000\ttest: 0.9548936\tbest: 0.9801980 (2)\ttotal: 15.1s\tremaining: 9.98s\n",
      "499:\tlearn: 1.0000000\ttest: 0.9548936\tbest: 0.9801980 (2)\ttotal: 25.4s\tremaining: 0us\n",
      "\n",
      "bestTest = 0.9801980198\n",
      "bestIteration = 2\n",
      "\n",
      "CPU times: total: 4min 9s\n",
      "Wall time: 2min 6s\n"
     ]
    }
   ],
   "source": [
    "%%time\n",
    "\n",
    "# Проверим разные гиперпараметры\n",
    "model_cb = CatBoostClassifier(auto_class_weights = 'Balanced', loss_function='Logloss', eval_metric='F1' , thread_count=2, verbose=300)\n",
    "\n",
    "params = {'learning_rate': [0.1],\n",
    "        'depth': [4, 8],\n",
    "          'iterations':[100, 500],\n",
    "          \n",
    "          \n",
    "          \n",
    "        \n",
    "         }\n",
    "\n",
    "\n",
    "randomized_search_result = model_cb.randomized_search(params,\n",
    "                                                   train_pool,\n",
    "                                                   plot=True,\n",
    "                                                   cv=3, \n",
    "                                                n_iter=1)"
   ]
  },
  {
   "cell_type": "markdown",
   "metadata": {
    "id": "s-RAWX29g181"
   },
   "source": [
    "### Вывод\n",
    "* `CatBoost` демонстрируем самую высокую оценку `F1`, равную 0,973, что выше, чем предыдущие модели."
   ]
  },
  {
   "cell_type": "markdown",
   "metadata": {
    "id": "XhLSIETbg181"
   },
   "source": [
    "### Тестирование модели"
   ]
  },
  {
   "cell_type": "markdown",
   "metadata": {
    "id": "7-r_0VOPg182"
   },
   "source": [
    "* Проведем тестирование лучшей модели."
   ]
  },
  {
   "cell_type": "code",
   "execution_count": null,
   "metadata": {
    "id": "S1VVMOw-g182",
    "outputId": "bb27aa4a-797d-41bc-f304-995c282423ff"
   },
   "outputs": [
    {
     "data": {
      "text/plain": [
       "{'loss_function': 'Logloss',\n",
       " 'thread_count': 2,\n",
       " 'verbose': 300,\n",
       " 'auto_class_weights': 'Balanced',\n",
       " 'eval_metric': 'F1',\n",
       " 'depth': 4,\n",
       " 'iterations': 500,\n",
       " 'learning_rate': 0.1}"
      ]
     },
     "execution_count": 13,
     "metadata": {},
     "output_type": "execute_result"
    }
   ],
   "source": [
    "model_cb.get_params()"
   ]
  },
  {
   "cell_type": "code",
   "execution_count": null,
   "metadata": {
    "colab": {
     "referenced_widgets": [
      "a98d8aa99f294c3486e014f7bb9ff06d"
     ]
    },
    "id": "NWdKSysdg182",
    "outputId": "cf69d48a-e20c-4fc7-e4b1-2e3c9d21716c",
    "scrolled": true
   },
   "outputs": [
    {
     "data": {
      "application/vnd.jupyter.widget-view+json": {
       "model_id": "a98d8aa99f294c3486e014f7bb9ff06d",
       "version_major": 2,
       "version_minor": 0
      },
      "text/plain": [
       "MetricVisualizer(layout=Layout(align_self='stretch', height='500px'))"
      ]
     },
     "metadata": {},
     "output_type": "display_data"
    },
    {
     "name": "stdout",
     "output_type": "stream",
     "text": [
      "0:\tlearn: 0.9769989\ttest: 0.9461179\tbest: 0.9461179 (0)\ttotal: 56.8ms\tremaining: 28.3s\n",
      "Stopped by overfitting detector  (100 iterations wait)\n",
      "\n",
      "bestTest = 0.9744537815\n",
      "bestIteration = 40\n",
      "\n",
      "Shrink model to first 41 iterations.\n",
      "CPU times: total: 13.8 s\n",
      "Wall time: 6.94 s\n"
     ]
    },
    {
     "data": {
      "text/plain": [
       "<catboost.core.CatBoostClassifier at 0x2cd350e98e0>"
      ]
     },
     "execution_count": 10,
     "metadata": {},
     "output_type": "execute_result"
    }
   ],
   "source": [
    "%%time\n",
    "# Обучим модель\n",
    "\n",
    "model_cb = CatBoostClassifier(**model_cb.get_params(), od_type='Iter',  od_wait=100)\n",
    "\n",
    "\n",
    "model_cb.fit(\n",
    "    train_pool, eval_set=valid_pool,\n",
    "    plot=True,\n",
    "    use_best_model=True,\n",
    "\n",
    ")"
   ]
  },
  {
   "cell_type": "code",
   "execution_count": null,
   "metadata": {
    "id": "-A7UTHTbg183",
    "outputId": "f18a5508-a23a-40df-b2a3-38004f3b8d22"
   },
   "outputs": [
    {
     "name": "stdout",
     "output_type": "stream",
     "text": [
      "                         precision    recall  f1-score   support\n",
      "\n",
      "Нетоксичные комментарии       1.00      0.98      0.99       223\n",
      "  Токсичные комментарии       0.84      0.96      0.90        27\n",
      "\n",
      "               accuracy                           0.98       250\n",
      "              macro avg       0.92      0.97      0.94       250\n",
      "           weighted avg       0.98      0.98      0.98       250\n",
      "\n"
     ]
    }
   ],
   "source": [
    "# Получим предсказание\n",
    "target_names = ['Нетоксичные комментарии', 'Токсичные комментарии']\n",
    "prediction_cb = model_cb.predict(X_test)\n",
    "print(classification_report(y_test, prediction_cb, target_names=target_names))\n",
    "\n"
   ]
  },
  {
   "cell_type": "markdown",
   "metadata": {
    "id": "KWRgZ8SAg183"
   },
   "source": [
    "* На тестовой выборке лучшая модель демонстриует оценку `F1` 0,90."
   ]
  },
  {
   "cell_type": "code",
   "execution_count": null,
   "metadata": {
    "id": "os7RPUZdg183",
    "outputId": "e1a5715d-1a31-451c-d02a-2c1f9960dfe6"
   },
   "outputs": [
    {
     "data": {
      "text/plain": [
       "<sklearn.metrics._plot.confusion_matrix.ConfusionMatrixDisplay at 0x2cd350e9b20>"
      ]
     },
     "execution_count": 12,
     "metadata": {},
     "output_type": "execute_result"
    },
    {
     "data": {
      "image/png": "[encoded data removed]",
      "text/plain": [
       "<Figure size 432x288 with 2 Axes>"
      ]
     },
     "metadata": {
      "needs_background": "light"
     },
     "output_type": "display_data"
    }
   ],
   "source": [
    "# Посмотрим матрицу ошибок\n",
    "cm = confusion_matrix(y_test, prediction_cb, labels=model_cb.classes_)\n",
    "disp = ConfusionMatrixDisplay(confusion_matrix=cm,\n",
    "                           display_labels=model_cb.classes_)\n",
    "disp.plot()"
   ]
  },
  {
   "cell_type": "markdown",
   "metadata": {
    "id": "82vPgxA5g183"
   },
   "source": [
    "* Из таблицы видно, что большая часть данных модель предсказывает верно, однако есть несколько ошибок."
   ]
  },
  {
   "cell_type": "code",
   "execution_count": null,
   "metadata": {
    "id": "dB4ZiRsxg183",
    "outputId": "8a8b4a99-f10a-4d2f-e7d9-05dd45b71c95"
   },
   "outputs": [
    {
     "data": {
      "image/png": "[encoded data removed]",
      "text/plain": [
       "<Figure size 1152x576 with 1 Axes>"
      ]
     },
     "metadata": {
      "needs_background": "light"
     },
     "output_type": "display_data"
    },
    {
     "data": {
      "text/plain": [
       "0.9950174389636273"
      ]
     },
     "execution_count": 13,
     "metadata": {},
     "output_type": "execute_result"
    }
   ],
   "source": [
    "# Посмотрим график ROC кривой\n",
    "catboost_pool = Pool(X_test, prediction_cb, cat_features=None)\n",
    "\n",
    "(fpr, tpr, thresholds) = get_roc_curve(model_cb, catboost_pool, plot=True)\n",
    "\n",
    "# Посмотрим на площадь по кривой\n",
    "predictions_cb_proba = model_cb.predict_proba(X_test)\n",
    "roc_auc_score(y_test, predictions_cb_proba[:,1])\n"
   ]
  },
  {
   "cell_type": "markdown",
   "metadata": {
    "id": "8n6V4Mr6g184"
   },
   "source": [
    "* Площадь под кривой 0,995."
   ]
  },
  {
   "cell_type": "markdown",
   "metadata": {
    "id": "KO6jj7G6g184"
   },
   "source": [
    "## Выводы"
   ]
  },
  {
   "cell_type": "markdown",
   "metadata": {
    "id": "DMKvSso6g184"
   },
   "source": [
    "* Проведена классификация текстов на небольшой выборке в 1000 строк.\n",
    "* Выборка имеет дисбаланс классов, поэтому при обучении моделей была соблюдена разница в весах классов.\n",
    "* Получены контекстуальные эмбеддинги с помощью предобученного словаря `unitary/toxic-bert` на токсичных комментариях от `BERT`.\n",
    "* Проведен поиск лучшей модели классификации токсичности текстов.\n",
    "* Выбрана лучшая модель `CatBoost`, точность предсказания которой по `F1` метрики составила 0.91.\n",
    "* Таким образом, с 91% уверенностью можно определять класс текста."
   ]
  }
 ],
 "metadata": {
  "ExecuteTimeLog": [
   {
    "duration": 403,
    "start_time": "2022-06-09T22:47:54.530Z"
   },
   {
    "duration": 2282,
    "start_time": "2022-06-09T22:48:22.124Z"
   },
   {
    "duration": 378,
    "start_time": "2022-06-09T22:49:00.773Z"
   },
   {
    "duration": 120,
    "start_time": "2022-06-09T22:49:03.642Z"
   },
   {
    "duration": 4,
    "start_time": "2022-06-09T22:49:33.493Z"
   },
   {
    "duration": 52,
    "start_time": "2022-06-09T22:49:42.260Z"
   },
   {
    "duration": 226,
    "start_time": "2022-06-09T22:49:57.519Z"
   },
   {
    "duration": 2752,
    "start_time": "2022-06-09T22:58:42.633Z"
   },
   {
    "duration": 37,
    "start_time": "2022-06-10T17:57:08.219Z"
   },
   {
    "duration": 4,
    "start_time": "2022-06-10T17:57:13.810Z"
   },
   {
    "duration": 56,
    "start_time": "2022-06-10T17:57:21.214Z"
   },
   {
    "duration": 11,
    "start_time": "2022-06-10T17:57:24.472Z"
   },
   {
    "duration": 4057,
    "start_time": "2022-06-10T17:57:26.631Z"
   },
   {
    "duration": 3488,
    "start_time": "2022-06-10T17:57:33.124Z"
   },
   {
    "duration": 5,
    "start_time": "2022-06-10T17:57:38.434Z"
   },
   {
    "duration": 307,
    "start_time": "2022-06-10T17:57:39.513Z"
   },
   {
    "duration": 4,
    "start_time": "2022-06-10T17:57:50.353Z"
   },
   {
    "duration": 272,
    "start_time": "2022-06-10T17:57:51.496Z"
   },
   {
    "duration": 5,
    "start_time": "2022-06-10T17:58:21.903Z"
   },
   {
    "duration": 248,
    "start_time": "2022-06-10T17:58:22.357Z"
   },
   {
    "duration": 130,
    "start_time": "2022-06-10T17:58:29.607Z"
   },
   {
    "duration": 571,
    "start_time": "2022-06-10T18:31:30.721Z"
   },
   {
    "duration": 11123,
    "start_time": "2022-06-10T18:31:59.685Z"
   },
   {
    "duration": 43,
    "start_time": "2022-06-14T08:41:34.462Z"
   },
   {
    "duration": 4016,
    "start_time": "2022-06-14T08:44:35.948Z"
   },
   {
    "duration": 570298,
    "start_time": "2022-06-14T08:44:39.966Z"
   },
   {
    "duration": 2431,
    "start_time": "2022-06-14T08:54:10.265Z"
   },
   {
    "duration": 3,
    "start_time": "2022-06-14T08:54:12.698Z"
   },
   {
    "duration": 25,
    "start_time": "2022-06-14T08:54:12.704Z"
   },
   {
    "duration": 324,
    "start_time": "2022-06-14T08:54:12.737Z"
   },
   {
    "duration": 3,
    "start_time": "2022-06-14T08:54:13.063Z"
   },
   {
    "duration": 189,
    "start_time": "2022-06-14T08:54:13.069Z"
   },
   {
    "duration": 704,
    "start_time": "2022-06-14T08:54:13.261Z"
   },
   {
    "duration": 1437,
    "start_time": "2022-06-14T08:54:13.968Z"
   },
   {
    "duration": 4,
    "start_time": "2022-06-14T08:54:15.407Z"
   },
   {
    "duration": 151,
    "start_time": "2022-06-14T08:54:15.413Z"
   },
   {
    "duration": 44,
    "start_time": "2022-06-14T08:54:15.566Z"
   },
   {
    "duration": 72,
    "start_time": "2022-06-14T09:03:24.772Z"
   },
   {
    "duration": 8,
    "start_time": "2022-06-14T09:03:39.623Z"
   },
   {
    "duration": 4,
    "start_time": "2022-06-14T09:03:44.163Z"
   },
   {
    "duration": 338,
    "start_time": "2022-06-14T09:04:09.448Z"
   },
   {
    "duration": 5,
    "start_time": "2022-06-14T09:04:20.239Z"
   },
   {
    "duration": 74,
    "start_time": "2022-06-14T09:04:23.436Z"
   },
   {
    "duration": 6,
    "start_time": "2022-06-14T09:04:27.549Z"
   },
   {
    "duration": 5,
    "start_time": "2022-06-14T09:04:30.585Z"
   },
   {
    "duration": 68,
    "start_time": "2022-06-14T09:04:36.013Z"
   },
   {
    "duration": 29,
    "start_time": "2022-06-14T09:05:33.436Z"
   },
   {
    "duration": 6,
    "start_time": "2022-06-14T09:05:48.358Z"
   },
   {
    "duration": 8,
    "start_time": "2022-06-14T09:06:12.995Z"
   },
   {
    "duration": 5,
    "start_time": "2022-06-14T09:06:19.659Z"
   },
   {
    "duration": 1963,
    "start_time": "2022-06-16T16:28:53.701Z"
   },
   {
    "duration": 17615,
    "start_time": "2022-06-16T16:29:00.915Z"
   },
   {
    "duration": 2523,
    "start_time": "2022-06-16T16:29:21.428Z"
   },
   {
    "duration": 3,
    "start_time": "2022-06-16T16:29:23.953Z"
   },
   {
    "duration": 2129,
    "start_time": "2022-06-16T16:29:29.598Z"
   },
   {
    "duration": 206,
    "start_time": "2022-06-16T16:30:12.658Z"
   },
   {
    "duration": 4,
    "start_time": "2022-06-16T16:30:30.424Z"
   },
   {
    "duration": 10,
    "start_time": "2022-06-16T16:30:46.710Z"
   },
   {
    "duration": 6,
    "start_time": "2022-06-16T16:31:35.959Z"
   },
   {
    "duration": 19,
    "start_time": "2022-06-16T16:31:51.293Z"
   },
   {
    "duration": 3,
    "start_time": "2022-06-16T16:31:55.414Z"
   },
   {
    "duration": 11,
    "start_time": "2022-06-16T16:32:07.063Z"
   },
   {
    "duration": 6,
    "start_time": "2022-06-16T16:32:19.661Z"
   },
   {
    "duration": 30,
    "start_time": "2022-06-16T16:35:16.350Z"
   },
   {
    "duration": 7,
    "start_time": "2022-06-16T16:35:20.998Z"
   },
   {
    "duration": 6,
    "start_time": "2022-06-16T16:36:10.933Z"
   },
   {
    "duration": 7,
    "start_time": "2022-06-16T16:36:54.896Z"
   },
   {
    "duration": 8,
    "start_time": "2022-06-16T16:37:26.727Z"
   },
   {
    "duration": 32,
    "start_time": "2022-06-16T16:37:49.824Z"
   },
   {
    "duration": 8,
    "start_time": "2022-06-16T16:38:00.545Z"
   },
   {
    "duration": 31,
    "start_time": "2022-06-16T16:39:12.456Z"
   },
   {
    "duration": 32,
    "start_time": "2022-06-16T16:40:03.299Z"
   },
   {
    "duration": 7,
    "start_time": "2022-06-16T16:41:06.764Z"
   },
   {
    "duration": 6,
    "start_time": "2022-06-16T16:41:30.606Z"
   },
   {
    "duration": 6,
    "start_time": "2022-06-16T16:41:31.202Z"
   },
   {
    "duration": 24,
    "start_time": "2022-06-16T16:41:46.702Z"
   },
   {
    "duration": 9,
    "start_time": "2022-06-16T16:42:02.670Z"
   },
   {
    "duration": 8,
    "start_time": "2022-06-16T16:42:19.092Z"
   },
   {
    "duration": 31,
    "start_time": "2022-06-16T16:45:58.201Z"
   },
   {
    "duration": 55,
    "start_time": "2022-06-16T16:46:19.669Z"
   },
   {
    "duration": 61624,
    "start_time": "2022-06-16T16:48:11.808Z"
   },
   {
    "duration": 43,
    "start_time": "2022-06-16T16:49:43.077Z"
   },
   {
    "duration": 74,
    "start_time": "2022-06-16T16:50:01.393Z"
   },
   {
    "duration": 61512,
    "start_time": "2022-06-16T16:50:08.365Z"
   },
   {
    "duration": 4,
    "start_time": "2022-06-16T16:51:09.879Z"
   },
   {
    "duration": 46,
    "start_time": "2022-06-16T16:52:38.022Z"
   },
   {
    "duration": 312,
    "start_time": "2022-06-16T16:53:05.109Z"
   },
   {
    "duration": 288,
    "start_time": "2022-06-16T16:53:40.514Z"
   },
   {
    "duration": 605,
    "start_time": "2022-06-16T16:54:15.002Z"
   },
   {
    "duration": 67,
    "start_time": "2022-06-16T16:54:50.009Z"
   },
   {
    "duration": 36,
    "start_time": "2022-06-16T16:55:01.612Z"
   },
   {
    "duration": 368,
    "start_time": "2022-06-16T16:55:21.937Z"
   },
   {
    "duration": 302,
    "start_time": "2022-06-16T16:55:37.687Z"
   },
   {
    "duration": 302,
    "start_time": "2022-06-16T16:56:12.723Z"
   },
   {
    "duration": 8,
    "start_time": "2022-06-16T17:12:51.548Z"
   },
   {
    "duration": 5,
    "start_time": "2022-06-16T17:13:04.996Z"
   },
   {
    "duration": 22,
    "start_time": "2022-06-16T17:13:07.399Z"
   },
   {
    "duration": 7,
    "start_time": "2022-06-16T17:13:16.546Z"
   },
   {
    "duration": 23,
    "start_time": "2022-06-16T17:13:22.721Z"
   },
   {
    "duration": 6,
    "start_time": "2022-06-16T17:13:42.428Z"
   },
   {
    "duration": 6,
    "start_time": "2022-06-16T17:13:43.048Z"
   },
   {
    "duration": 7,
    "start_time": "2022-06-16T17:13:45.506Z"
   },
   {
    "duration": 7,
    "start_time": "2022-06-16T17:13:46.651Z"
   },
   {
    "duration": 26,
    "start_time": "2022-06-16T17:19:36.649Z"
   },
   {
    "duration": 4,
    "start_time": "2022-06-16T17:19:41.313Z"
   },
   {
    "duration": 8,
    "start_time": "2022-06-16T17:20:41.289Z"
   },
   {
    "duration": 6,
    "start_time": "2022-06-16T17:21:12.012Z"
   },
   {
    "duration": 30,
    "start_time": "2022-06-16T17:21:28.901Z"
   },
   {
    "duration": 19,
    "start_time": "2022-06-16T17:22:06.813Z"
   },
   {
    "duration": 28,
    "start_time": "2022-06-16T17:23:37.797Z"
   },
   {
    "duration": 5,
    "start_time": "2022-06-16T17:25:19.493Z"
   },
   {
    "duration": 17,
    "start_time": "2022-06-16T17:25:24.442Z"
   },
   {
    "duration": 7,
    "start_time": "2022-06-16T17:29:56.356Z"
   },
   {
    "duration": 6,
    "start_time": "2022-06-16T17:29:57.371Z"
   },
   {
    "duration": 9,
    "start_time": "2022-06-16T17:29:58.455Z"
   },
   {
    "duration": 22,
    "start_time": "2022-06-16T17:30:08.536Z"
   },
   {
    "duration": 8,
    "start_time": "2022-06-16T17:30:20.640Z"
   },
   {
    "duration": 487,
    "start_time": "2022-06-16T17:31:00.157Z"
   },
   {
    "duration": 266,
    "start_time": "2022-06-16T17:31:14.305Z"
   },
   {
    "duration": 10,
    "start_time": "2022-06-16T17:47:57.601Z"
   },
   {
    "duration": 7,
    "start_time": "2022-06-16T17:47:58.286Z"
   },
   {
    "duration": 5,
    "start_time": "2022-06-16T17:48:21.707Z"
   },
   {
    "duration": 4,
    "start_time": "2022-06-16T17:48:29.180Z"
   },
   {
    "duration": 4,
    "start_time": "2022-06-16T17:48:42.001Z"
   },
   {
    "duration": 23,
    "start_time": "2022-06-16T17:48:50.051Z"
   },
   {
    "duration": 4,
    "start_time": "2022-06-16T17:50:51.854Z"
   },
   {
    "duration": 22,
    "start_time": "2022-06-16T17:51:02.820Z"
   },
   {
    "duration": 10,
    "start_time": "2022-06-16T17:52:55.181Z"
   },
   {
    "duration": 23,
    "start_time": "2022-06-16T17:53:16.804Z"
   },
   {
    "duration": 3,
    "start_time": "2022-06-16T17:57:21.849Z"
   },
   {
    "duration": 22,
    "start_time": "2022-06-16T17:57:23.110Z"
   },
   {
    "duration": 12,
    "start_time": "2022-06-16T17:57:30.046Z"
   },
   {
    "duration": 13,
    "start_time": "2022-06-16T17:57:40.098Z"
   },
   {
    "duration": 26,
    "start_time": "2022-06-16T17:57:47.947Z"
   },
   {
    "duration": 7,
    "start_time": "2022-06-16T18:02:59.403Z"
   },
   {
    "duration": 6,
    "start_time": "2022-06-16T18:03:02.694Z"
   },
   {
    "duration": 11818,
    "start_time": "2022-06-16T18:04:07.048Z"
   },
   {
    "duration": 296,
    "start_time": "2022-06-16T18:05:00.215Z"
   },
   {
    "duration": 61681,
    "start_time": "2022-06-16T18:06:24.849Z"
   },
   {
    "duration": 5,
    "start_time": "2022-06-16T18:10:16.628Z"
   },
   {
    "duration": 45,
    "start_time": "2022-06-16T18:11:20.829Z"
   },
   {
    "duration": 1820,
    "start_time": "2022-06-17T08:26:03.508Z"
   },
   {
    "duration": 16930,
    "start_time": "2022-06-17T08:26:09.249Z"
   },
   {
    "duration": 2305,
    "start_time": "2022-06-17T08:26:26.181Z"
   },
   {
    "duration": 2,
    "start_time": "2022-06-17T08:26:28.488Z"
   },
   {
    "duration": 23162,
    "start_time": "2022-06-17T08:26:28.492Z"
   },
   {
    "duration": 2923,
    "start_time": "2022-06-17T08:26:51.656Z"
   },
   {
    "duration": 4,
    "start_time": "2022-06-17T08:26:54.581Z"
   },
   {
    "duration": 239,
    "start_time": "2022-06-17T08:26:54.586Z"
   },
   {
    "duration": 2,
    "start_time": "2022-06-17T08:26:54.827Z"
   },
   {
    "duration": 131,
    "start_time": "2022-06-17T08:26:54.831Z"
   },
   {
    "duration": 445,
    "start_time": "2022-06-17T08:26:54.965Z"
   },
   {
    "duration": 440,
    "start_time": "2022-06-17T08:26:55.412Z"
   },
   {
    "duration": 3,
    "start_time": "2022-06-17T08:26:55.854Z"
   },
   {
    "duration": 1438,
    "start_time": "2022-06-17T08:26:55.858Z"
   },
   {
    "duration": 4845,
    "start_time": "2022-06-17T08:26:57.298Z"
   },
   {
    "duration": 4,
    "start_time": "2022-06-17T08:27:02.145Z"
   },
   {
    "duration": 250,
    "start_time": "2022-06-17T08:27:02.151Z"
   },
   {
    "duration": 217,
    "start_time": "2022-06-17T08:27:02.403Z"
   },
   {
    "duration": 5,
    "start_time": "2022-06-17T08:27:02.625Z"
   },
   {
    "duration": 14491,
    "start_time": "2022-06-17T08:27:02.631Z"
   },
   {
    "duration": 1750,
    "start_time": "2022-06-17T08:27:17.124Z"
   },
   {
    "duration": 1191,
    "start_time": "2022-06-17T08:27:18.875Z"
   },
   {
    "duration": 189,
    "start_time": "2022-06-17T08:27:20.068Z"
   },
   {
    "duration": 0,
    "start_time": "2022-06-17T08:27:20.258Z"
   },
   {
    "duration": 3,
    "start_time": "2022-06-17T08:27:45.712Z"
   },
   {
    "duration": 5,
    "start_time": "2022-06-17T08:27:58.660Z"
   },
   {
    "duration": 5,
    "start_time": "2022-06-17T08:28:00.428Z"
   },
   {
    "duration": 3,
    "start_time": "2022-06-17T08:28:02.657Z"
   },
   {
    "duration": 3,
    "start_time": "2022-06-17T08:28:03.229Z"
   },
   {
    "duration": 19,
    "start_time": "2022-06-17T08:28:05.028Z"
   },
   {
    "duration": 18,
    "start_time": "2022-06-17T08:28:17.392Z"
   },
   {
    "duration": 19,
    "start_time": "2022-06-17T08:28:24.128Z"
   },
   {
    "duration": 5,
    "start_time": "2022-06-17T08:29:49.649Z"
   },
   {
    "duration": 21,
    "start_time": "2022-06-17T08:29:59.839Z"
   },
   {
    "duration": 5,
    "start_time": "2022-06-17T08:30:15.804Z"
   },
   {
    "duration": 25,
    "start_time": "2022-06-17T08:30:19.299Z"
   },
   {
    "duration": 4,
    "start_time": "2022-06-17T08:30:28.236Z"
   },
   {
    "duration": 5,
    "start_time": "2022-06-17T08:30:30.767Z"
   },
   {
    "duration": 9,
    "start_time": "2022-06-17T08:30:43.682Z"
   },
   {
    "duration": 18,
    "start_time": "2022-06-17T08:30:49.971Z"
   },
   {
    "duration": 713,
    "start_time": "2022-06-17T08:31:01.309Z"
   },
   {
    "duration": 22,
    "start_time": "2022-06-17T08:31:14.088Z"
   },
   {
    "duration": 5,
    "start_time": "2022-06-17T08:31:20.209Z"
   },
   {
    "duration": 5,
    "start_time": "2022-06-17T08:31:35.410Z"
   },
   {
    "duration": 5,
    "start_time": "2022-06-17T08:31:40.328Z"
   },
   {
    "duration": 6,
    "start_time": "2022-06-17T08:31:47.442Z"
   },
   {
    "duration": 5,
    "start_time": "2022-06-17T08:31:48.030Z"
   },
   {
    "duration": 9,
    "start_time": "2022-06-17T08:31:48.295Z"
   },
   {
    "duration": 5,
    "start_time": "2022-06-17T08:31:48.583Z"
   },
   {
    "duration": 63,
    "start_time": "2022-06-17T08:32:18.073Z"
   },
   {
    "duration": 56013,
    "start_time": "2022-06-17T08:32:29.310Z"
   },
   {
    "duration": 4,
    "start_time": "2022-06-17T08:34:19.188Z"
   },
   {
    "duration": 527,
    "start_time": "2022-06-17T08:34:20.634Z"
   },
   {
    "duration": 4520,
    "start_time": "2022-06-17T08:35:12.810Z"
   },
   {
    "duration": 4315,
    "start_time": "2022-06-17T08:35:23.061Z"
   }
  ],
  "colab": {
   "collapsed_sections": [
    "IQi1bENqg18n",
    "7OK1d7j-g18o",
    "jslF8fpXg18r",
    "2If574nmg18t",
    "r1KcB0Veg18x",
    "KZjviH7fg18y",
    "ma50iGRQg18z",
    "Gw_hjG1Vg18z",
    "s-RAWX29g181",
    "fiSmPB3Ag185"
   ],
   "name": "Yandex Module 3 NLP классификация токсичных сообщений сдано.ipynb",
   "provenance": []
  },
  "kernelspec": {
   "display_name": "Python 3 (ipykernel)",
   "language": "python",
   "name": "python3"
  },
  "language_info": {
   "codemirror_mode": {
    "name": "ipython",
    "version": 3
   },
   "file_extension": ".py",
   "mimetype": "text/x-python",
   "name": "python",
   "nbconvert_exporter": "python",
   "pygments_lexer": "ipython3",
   "version": "3.9.10"
  },
  "toc": {
   "base_numbering": 1,
   "nav_menu": {},
   "number_sections": true,
   "sideBar": true,
   "skip_h1_title": true,
   "title_cell": "Содержание",
   "title_sidebar": "Contents",
   "toc_cell": true,
   "toc_position": {
    "height": "calc(100% - 180px)",
    "left": "10px",
    "top": "150px",
    "width": "165px"
   },
   "toc_section_display": true,
   "toc_window_display": true
  }
 },
 "nbformat": 4,
 "nbformat_minor": 1
}
