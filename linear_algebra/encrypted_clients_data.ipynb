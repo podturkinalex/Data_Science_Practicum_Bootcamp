{
 "cells": [
  {
   "cell_type": "markdown",
   "metadata": {
    "toc": true
   },
   "source": [
    "<h1>Содержание<span class=\"tocSkip\"></span></h1>\n",
    "<div class=\"toc\"><ul class=\"toc-item\"><li><span><a href=\"#Загрузка-данных\" data-toc-modified-id=\"Загрузка-данных-1\"><span class=\"toc-item-num\">1&nbsp;&nbsp;</span>Загрузка данных</a></span></li><li><span><a href=\"#Предобработка-данных\" data-toc-modified-id=\"Предобработка-данных-2\"><span class=\"toc-item-num\">2&nbsp;&nbsp;</span>Предобработка данных</a></span><ul class=\"toc-item\"><li><span><a href=\"#Вывод\" data-toc-modified-id=\"Вывод-2.1\"><span class=\"toc-item-num\">2.1&nbsp;&nbsp;</span>Вывод</a></span></li></ul></li><li><span><a href=\"#Умножение-матриц\" data-toc-modified-id=\"Умножение-матриц-3\"><span class=\"toc-item-num\">3&nbsp;&nbsp;</span>Умножение матриц</a></span></li><li><span><a href=\"#Алгоритм-преобразования\" data-toc-modified-id=\"Алгоритм-преобразования-4\"><span class=\"toc-item-num\">4&nbsp;&nbsp;</span>Алгоритм преобразования</a></span></li><li><span><a href=\"#Проверка-алгоритма\" data-toc-modified-id=\"Проверка-алгоритма-5\"><span class=\"toc-item-num\">5&nbsp;&nbsp;</span>Проверка алгоритма</a></span></li><li><span><a href=\"#Вывод\" data-toc-modified-id=\"Вывод-6\"><span class=\"toc-item-num\">6&nbsp;&nbsp;</span>Вывод</a></span></li></ul></div>"
   ]
  },
  {
   "attachments": {
    "encrypted%20.png": {
     "image/png": "[encoded data removed]"
    }
   },
   "cell_type": "markdown",
   "metadata": {},
   "source": [
    "![encrypted%20.png](attachment:encrypted%20.png)"
   ]
  },
  {
   "cell_type": "markdown",
   "metadata": {},
   "source": [
    "# Защита персональных данных клиентов"
   ]
  },
  {
   "cell_type": "markdown",
   "metadata": {},
   "source": [
    "**Цель**\n",
    "* Защитить данные клиентов страховой компании.\n",
    "\n",
    "**Задача**\n",
    "* Разработать и протестировать метод преобразования данных, чтобы по ним было сложно восстановить персональную информации.\n",
    "* Проверить, что качество предсказания модели машинного обучения не ухудшится после преобразования данных.\n"
   ]
  },
  {
   "cell_type": "markdown",
   "metadata": {},
   "source": [
    "**Описание данных**\n",
    "\n",
    "*Признаки:*\n",
    "* пол, возраст и зарплата застрахованного, количество членов его семьи.\n",
    "\n",
    "*Целевой признак:*\n",
    "* количество страховых выплат клиенту за последние 5 лет.\n",
    "\n",
    "**Регрессия**\n",
    "* В качестве метода машинного обучения была выбрана линейная регрессия."
   ]
  },
  {
   "cell_type": "markdown",
   "metadata": {
    "toc": true
   },
   "source": [
    "<h1>Содержание<span class=\"tocSkip\"></span></h1>\n",
    "<div class=\"toc\"><ul class=\"toc-item\"><li><span><a href=\"#Загрузка-данных\" data-toc-modified-id=\"Загрузка-данных-1\"><span class=\"toc-item-num\">1&nbsp;&nbsp;</span>Загрузка данных</a></span></li><li><span><a href=\"#Предобработка-данных\" data-toc-modified-id=\"Предобработка-данных-2\"><span class=\"toc-item-num\">2&nbsp;&nbsp;</span>Предобработка данных</a></span><ul class=\"toc-item\"><li><span><a href=\"#Вывод\" data-toc-modified-id=\"Вывод-2.1\"><span class=\"toc-item-num\">2.1&nbsp;&nbsp;</span>Вывод</a></span></li></ul></li><li><span><a href=\"#Умножение-матриц\" data-toc-modified-id=\"Умножение-матриц-3\"><span class=\"toc-item-num\">3&nbsp;&nbsp;</span>Умножение матриц</a></span></li><li><span><a href=\"#Алгоритм-преобразования\" data-toc-modified-id=\"Алгоритм-преобразования-4\"><span class=\"toc-item-num\">4&nbsp;&nbsp;</span>Алгоритм преобразования</a></span></li><li><span><a href=\"#Проверка-алгоритма\" data-toc-modified-id=\"Проверка-алгоритма-5\"><span class=\"toc-item-num\">5&nbsp;&nbsp;</span>Проверка алгоритма</a></span></li><li><span><a href=\"#Вывод\" data-toc-modified-id=\"Вывод-6\"><span class=\"toc-item-num\">6&nbsp;&nbsp;</span>Вывод</a></span></li></ul></div>"
   ]
  },
  {
   "cell_type": "markdown",
   "metadata": {},
   "source": [
    "## Загрузка данных"
   ]
  },
  {
   "cell_type": "code",
   "execution_count": 1,
   "metadata": {},
   "outputs": [],
   "source": [
    "import pandas as pd\n",
    "import numpy as np\n",
    "import matplotlib.pyplot as plt\n",
    "import seaborn as sns\n",
    "\n",
    "from sklearn.model_selection import train_test_split\n",
    "from sklearn.preprocessing import StandardScaler\n",
    "pd.options.mode.chained_assignment = None\n",
    "\n",
    "from sklearn.metrics import r2_score\n",
    "\n",
    "#Установка формата отображения данных в таблицах\n",
    "pd.options.display.float_format = '{:,.2f}'.format\n"
   ]
  },
  {
   "cell_type": "code",
   "execution_count": 2,
   "metadata": {},
   "outputs": [],
   "source": [
    "insurance = pd.read_csv('/datasets/insurance.csv') # Откроем таблицу"
   ]
  },
  {
   "cell_type": "code",
   "execution_count": 3,
   "metadata": {},
   "outputs": [],
   "source": [
    "#Функция получения информации о таблице\n",
    "def df_info(df):\n",
    "    display(df.head())\n",
    "    print()\n",
    "    print('Объем таблицы', df.shape)\n",
    "    print()\n",
    "    print('Информация о таблице', df.info())\n",
    "    print()\n",
    "    \n",
    "    print()\n",
    "    print('Дубликаты', df.duplicated().sum())\n",
    "    print()\n",
    "    display(df.describe())"
   ]
  },
  {
   "cell_type": "code",
   "execution_count": 4,
   "metadata": {},
   "outputs": [
    {
     "data": {
      "text/html": [
       "<div>\n",
       "<style scoped>\n",
       "    .dataframe tbody tr th:only-of-type {\n",
       "        vertical-align: middle;\n",
       "    }\n",
       "\n",
       "    .dataframe tbody tr th {\n",
       "        vertical-align: top;\n",
       "    }\n",
       "\n",
       "    .dataframe thead th {\n",
       "        text-align: right;\n",
       "    }\n",
       "</style>\n",
       "<table border=\"1\" class=\"dataframe\">\n",
       "  <thead>\n",
       "    <tr style=\"text-align: right;\">\n",
       "      <th></th>\n",
       "      <th>Пол</th>\n",
       "      <th>Возраст</th>\n",
       "      <th>Зарплата</th>\n",
       "      <th>Члены семьи</th>\n",
       "      <th>Страховые выплаты</th>\n",
       "    </tr>\n",
       "  </thead>\n",
       "  <tbody>\n",
       "    <tr>\n",
       "      <th>0</th>\n",
       "      <td>1</td>\n",
       "      <td>41.00</td>\n",
       "      <td>49,600.00</td>\n",
       "      <td>1</td>\n",
       "      <td>0</td>\n",
       "    </tr>\n",
       "    <tr>\n",
       "      <th>1</th>\n",
       "      <td>0</td>\n",
       "      <td>46.00</td>\n",
       "      <td>38,000.00</td>\n",
       "      <td>1</td>\n",
       "      <td>1</td>\n",
       "    </tr>\n",
       "    <tr>\n",
       "      <th>2</th>\n",
       "      <td>0</td>\n",
       "      <td>29.00</td>\n",
       "      <td>21,000.00</td>\n",
       "      <td>0</td>\n",
       "      <td>0</td>\n",
       "    </tr>\n",
       "    <tr>\n",
       "      <th>3</th>\n",
       "      <td>0</td>\n",
       "      <td>21.00</td>\n",
       "      <td>41,700.00</td>\n",
       "      <td>2</td>\n",
       "      <td>0</td>\n",
       "    </tr>\n",
       "    <tr>\n",
       "      <th>4</th>\n",
       "      <td>1</td>\n",
       "      <td>28.00</td>\n",
       "      <td>26,100.00</td>\n",
       "      <td>0</td>\n",
       "      <td>0</td>\n",
       "    </tr>\n",
       "  </tbody>\n",
       "</table>\n",
       "</div>"
      ],
      "text/plain": [
       "   Пол  Возраст  Зарплата  Члены семьи  Страховые выплаты\n",
       "0    1    41.00 49,600.00            1                  0\n",
       "1    0    46.00 38,000.00            1                  1\n",
       "2    0    29.00 21,000.00            0                  0\n",
       "3    0    21.00 41,700.00            2                  0\n",
       "4    1    28.00 26,100.00            0                  0"
      ]
     },
     "metadata": {},
     "output_type": "display_data"
    },
    {
     "name": "stdout",
     "output_type": "stream",
     "text": [
      "\n",
      "Объем таблицы (5000, 5)\n",
      "\n",
      "<class 'pandas.core.frame.DataFrame'>\n",
      "RangeIndex: 5000 entries, 0 to 4999\n",
      "Data columns (total 5 columns):\n",
      " #   Column             Non-Null Count  Dtype  \n",
      "---  ------             --------------  -----  \n",
      " 0   Пол                5000 non-null   int64  \n",
      " 1   Возраст            5000 non-null   float64\n",
      " 2   Зарплата           5000 non-null   float64\n",
      " 3   Члены семьи        5000 non-null   int64  \n",
      " 4   Страховые выплаты  5000 non-null   int64  \n",
      "dtypes: float64(2), int64(3)\n",
      "memory usage: 195.4 KB\n",
      "Информация о таблице None\n",
      "\n",
      "\n",
      "Дубликаты 153\n",
      "\n"
     ]
    },
    {
     "data": {
      "text/html": [
       "<div>\n",
       "<style scoped>\n",
       "    .dataframe tbody tr th:only-of-type {\n",
       "        vertical-align: middle;\n",
       "    }\n",
       "\n",
       "    .dataframe tbody tr th {\n",
       "        vertical-align: top;\n",
       "    }\n",
       "\n",
       "    .dataframe thead th {\n",
       "        text-align: right;\n",
       "    }\n",
       "</style>\n",
       "<table border=\"1\" class=\"dataframe\">\n",
       "  <thead>\n",
       "    <tr style=\"text-align: right;\">\n",
       "      <th></th>\n",
       "      <th>Пол</th>\n",
       "      <th>Возраст</th>\n",
       "      <th>Зарплата</th>\n",
       "      <th>Члены семьи</th>\n",
       "      <th>Страховые выплаты</th>\n",
       "    </tr>\n",
       "  </thead>\n",
       "  <tbody>\n",
       "    <tr>\n",
       "      <th>count</th>\n",
       "      <td>5,000.00</td>\n",
       "      <td>5,000.00</td>\n",
       "      <td>5,000.00</td>\n",
       "      <td>5,000.00</td>\n",
       "      <td>5,000.00</td>\n",
       "    </tr>\n",
       "    <tr>\n",
       "      <th>mean</th>\n",
       "      <td>0.50</td>\n",
       "      <td>30.95</td>\n",
       "      <td>39,916.36</td>\n",
       "      <td>1.19</td>\n",
       "      <td>0.15</td>\n",
       "    </tr>\n",
       "    <tr>\n",
       "      <th>std</th>\n",
       "      <td>0.50</td>\n",
       "      <td>8.44</td>\n",
       "      <td>9,900.08</td>\n",
       "      <td>1.09</td>\n",
       "      <td>0.46</td>\n",
       "    </tr>\n",
       "    <tr>\n",
       "      <th>min</th>\n",
       "      <td>0.00</td>\n",
       "      <td>18.00</td>\n",
       "      <td>5,300.00</td>\n",
       "      <td>0.00</td>\n",
       "      <td>0.00</td>\n",
       "    </tr>\n",
       "    <tr>\n",
       "      <th>25%</th>\n",
       "      <td>0.00</td>\n",
       "      <td>24.00</td>\n",
       "      <td>33,300.00</td>\n",
       "      <td>0.00</td>\n",
       "      <td>0.00</td>\n",
       "    </tr>\n",
       "    <tr>\n",
       "      <th>50%</th>\n",
       "      <td>0.00</td>\n",
       "      <td>30.00</td>\n",
       "      <td>40,200.00</td>\n",
       "      <td>1.00</td>\n",
       "      <td>0.00</td>\n",
       "    </tr>\n",
       "    <tr>\n",
       "      <th>75%</th>\n",
       "      <td>1.00</td>\n",
       "      <td>37.00</td>\n",
       "      <td>46,600.00</td>\n",
       "      <td>2.00</td>\n",
       "      <td>0.00</td>\n",
       "    </tr>\n",
       "    <tr>\n",
       "      <th>max</th>\n",
       "      <td>1.00</td>\n",
       "      <td>65.00</td>\n",
       "      <td>79,000.00</td>\n",
       "      <td>6.00</td>\n",
       "      <td>5.00</td>\n",
       "    </tr>\n",
       "  </tbody>\n",
       "</table>\n",
       "</div>"
      ],
      "text/plain": [
       "           Пол  Возраст  Зарплата  Члены семьи  Страховые выплаты\n",
       "count 5,000.00 5,000.00  5,000.00     5,000.00           5,000.00\n",
       "mean      0.50    30.95 39,916.36         1.19               0.15\n",
       "std       0.50     8.44  9,900.08         1.09               0.46\n",
       "min       0.00    18.00  5,300.00         0.00               0.00\n",
       "25%       0.00    24.00 33,300.00         0.00               0.00\n",
       "50%       0.00    30.00 40,200.00         1.00               0.00\n",
       "75%       1.00    37.00 46,600.00         2.00               0.00\n",
       "max       1.00    65.00 79,000.00         6.00               5.00"
      ]
     },
     "metadata": {},
     "output_type": "display_data"
    }
   ],
   "source": [
    "# Получим информацию о таблице\n",
    "df_info(insurance)"
   ]
  },
  {
   "cell_type": "code",
   "execution_count": 5,
   "metadata": {},
   "outputs": [
    {
     "data": {
      "text/plain": [
       "3.06"
      ]
     },
     "execution_count": 5,
     "metadata": {},
     "output_type": "execute_result"
    }
   ],
   "source": [
    "# Проверим процент дубликатов\n",
    "insurance.duplicated().sum()/len(insurance)*100"
   ]
  },
  {
   "cell_type": "markdown",
   "metadata": {},
   "source": [
    "* Более 3% дубликатов.  "
   ]
  },
  {
   "cell_type": "markdown",
   "metadata": {},
   "source": [
    "* Посмотрим на распределения признаков."
   ]
  },
  {
   "cell_type": "code",
   "execution_count": 6,
   "metadata": {},
   "outputs": [
    {
     "data": {
      "text/plain": [
       "Text(0.5, 1.0, 'Члены семьи')"
      ]
     },
     "execution_count": 6,
     "metadata": {},
     "output_type": "execute_result"
    },
    {
     "data": {
      "image/png": "[encoded data removed]",
      "text/plain": [
       "<Figure size 1152x648 with 4 Axes>"
      ]
     },
     "metadata": {
      "needs_background": "light"
     },
     "output_type": "display_data"
    }
   ],
   "source": [
    "hist1 = insurance['Пол']\n",
    "hist2 = insurance['Возраст']\n",
    "hist3 = insurance['Зарплата']\n",
    "hist4 = insurance['Члены семьи']\n",
    "fig, axs = plt.subplots(2,2, figsize=(16,9), tight_layout=True)\n",
    "axs[0,0].hist(hist1)\n",
    "axs[0,0].set_title('Пол')\n",
    "axs[0,1].hist(hist2, bins = 100)\n",
    "axs[0,1].set_title('Возраст')\n",
    "axs[1,0].hist(hist3, bins = 50)\n",
    "axs[1,0].set_title('Зарплата')\n",
    "axs[1,1].hist(hist4, bins=20)\n",
    "axs[1,1].set_title('Члены семьи')"
   ]
  },
  {
   "cell_type": "markdown",
   "metadata": {},
   "source": [
    "* Таблица `insurance` содержит 500 строк и 5 столбцов, что означает, что матрица не квадратная и применить преобразование через умножение на обратную матрицу не получится.\n",
    "* Все признаки и целевой признак имеет верный формат хранения данных.\n",
    "* Пропусков в таблице нет.\n",
    "* Однако таблица содержит более 3% дубликатов, которые необходимо удалить.\n",
    "* В таблице есть числовые и категориальные признаки. Значит перед обучением модели нужно создать дамми переменные для переменной `Члены семьи`, т.к. пол уже является дамми переменной.\n",
    "* В таблице мужчины и женщины представлены в равной степени.\n",
    "* Возраст клиентов в основном в диапазоне от 20 до 35. Затем количество клиентов снижается.\n",
    "* Зарплата имеет нормальное распределение.\n",
    "* Члены семьи в основном содержат категории 0-2, остальные категории представлены реже."
   ]
  },
  {
   "cell_type": "markdown",
   "metadata": {},
   "source": [
    "## Предобработка данных"
   ]
  },
  {
   "cell_type": "markdown",
   "metadata": {},
   "source": [
    "* Удалим дубликаты из таблицы, т.к. их наличе может негативно сказаться на предсказании модели и преобразовании матриц."
   ]
  },
  {
   "cell_type": "code",
   "execution_count": 7,
   "metadata": {},
   "outputs": [
    {
     "data": {
      "text/plain": [
       "(4847, 5)"
      ]
     },
     "execution_count": 7,
     "metadata": {},
     "output_type": "execute_result"
    }
   ],
   "source": [
    "insurance.drop_duplicates(inplace=True)\n",
    "insurance.shape"
   ]
  },
  {
   "cell_type": "code",
   "execution_count": 8,
   "metadata": {},
   "outputs": [
    {
     "data": {
      "text/html": [
       "<div>\n",
       "<style scoped>\n",
       "    .dataframe tbody tr th:only-of-type {\n",
       "        vertical-align: middle;\n",
       "    }\n",
       "\n",
       "    .dataframe tbody tr th {\n",
       "        vertical-align: top;\n",
       "    }\n",
       "\n",
       "    .dataframe thead th {\n",
       "        text-align: right;\n",
       "    }\n",
       "</style>\n",
       "<table border=\"1\" class=\"dataframe\">\n",
       "  <thead>\n",
       "    <tr style=\"text-align: right;\">\n",
       "      <th></th>\n",
       "      <th>Пол</th>\n",
       "      <th>Возраст</th>\n",
       "      <th>Зарплата</th>\n",
       "      <th>Страховые выплаты</th>\n",
       "      <th>Члены семьи_1</th>\n",
       "      <th>Члены семьи_2</th>\n",
       "      <th>Члены семьи_3</th>\n",
       "      <th>Члены семьи_4</th>\n",
       "      <th>Члены семьи_5</th>\n",
       "      <th>Члены семьи_6</th>\n",
       "    </tr>\n",
       "  </thead>\n",
       "  <tbody>\n",
       "    <tr>\n",
       "      <th>0</th>\n",
       "      <td>1</td>\n",
       "      <td>41.00</td>\n",
       "      <td>49,600.00</td>\n",
       "      <td>0</td>\n",
       "      <td>1</td>\n",
       "      <td>0</td>\n",
       "      <td>0</td>\n",
       "      <td>0</td>\n",
       "      <td>0</td>\n",
       "      <td>0</td>\n",
       "    </tr>\n",
       "    <tr>\n",
       "      <th>1</th>\n",
       "      <td>0</td>\n",
       "      <td>46.00</td>\n",
       "      <td>38,000.00</td>\n",
       "      <td>1</td>\n",
       "      <td>1</td>\n",
       "      <td>0</td>\n",
       "      <td>0</td>\n",
       "      <td>0</td>\n",
       "      <td>0</td>\n",
       "      <td>0</td>\n",
       "    </tr>\n",
       "    <tr>\n",
       "      <th>2</th>\n",
       "      <td>0</td>\n",
       "      <td>29.00</td>\n",
       "      <td>21,000.00</td>\n",
       "      <td>0</td>\n",
       "      <td>0</td>\n",
       "      <td>0</td>\n",
       "      <td>0</td>\n",
       "      <td>0</td>\n",
       "      <td>0</td>\n",
       "      <td>0</td>\n",
       "    </tr>\n",
       "    <tr>\n",
       "      <th>3</th>\n",
       "      <td>0</td>\n",
       "      <td>21.00</td>\n",
       "      <td>41,700.00</td>\n",
       "      <td>0</td>\n",
       "      <td>0</td>\n",
       "      <td>1</td>\n",
       "      <td>0</td>\n",
       "      <td>0</td>\n",
       "      <td>0</td>\n",
       "      <td>0</td>\n",
       "    </tr>\n",
       "    <tr>\n",
       "      <th>4</th>\n",
       "      <td>1</td>\n",
       "      <td>28.00</td>\n",
       "      <td>26,100.00</td>\n",
       "      <td>0</td>\n",
       "      <td>0</td>\n",
       "      <td>0</td>\n",
       "      <td>0</td>\n",
       "      <td>0</td>\n",
       "      <td>0</td>\n",
       "      <td>0</td>\n",
       "    </tr>\n",
       "  </tbody>\n",
       "</table>\n",
       "</div>"
      ],
      "text/plain": [
       "   Пол  Возраст  Зарплата  Страховые выплаты  Члены семьи_1  Члены семьи_2  \\\n",
       "0    1    41.00 49,600.00                  0              1              0   \n",
       "1    0    46.00 38,000.00                  1              1              0   \n",
       "2    0    29.00 21,000.00                  0              0              0   \n",
       "3    0    21.00 41,700.00                  0              0              1   \n",
       "4    1    28.00 26,100.00                  0              0              0   \n",
       "\n",
       "   Члены семьи_3  Члены семьи_4  Члены семьи_5  Члены семьи_6  \n",
       "0              0              0              0              0  \n",
       "1              0              0              0              0  \n",
       "2              0              0              0              0  \n",
       "3              0              0              0              0  \n",
       "4              0              0              0              0  "
      ]
     },
     "execution_count": 8,
     "metadata": {},
     "output_type": "execute_result"
    }
   ],
   "source": [
    "# Создадим дамми переменные для колонки Члены семьи.\n",
    "insurance_ones = pd.get_dummies(insurance, columns = ['Члены семьи'], prefix = ['Члены семьи'], drop_first=True)\n",
    "insurance_ones.head()"
   ]
  },
  {
   "cell_type": "markdown",
   "metadata": {},
   "source": [
    "* Масштабы между признаками различаются, значит нужно превести стандартизацию. \n",
    "* Перед этим выделим целевой и предсказательные признаки.\n",
    "* Разделим выборку на тестовую и обучающую."
   ]
  },
  {
   "cell_type": "code",
   "execution_count": 9,
   "metadata": {},
   "outputs": [],
   "source": [
    "target = insurance_ones['Страховые выплаты'] # Целевой признак\n",
    "features = insurance_ones.drop('Страховые выплаты', axis=1) # Матрица признаков"
   ]
  },
  {
   "cell_type": "code",
   "execution_count": 10,
   "metadata": {},
   "outputs": [
    {
     "name": "stdout",
     "output_type": "stream",
     "text": [
      "(4847,)\n",
      "(4847, 9)\n"
     ]
    }
   ],
   "source": [
    "# Проверим объемы таблиц\n",
    "print(target.shape)\n",
    "print(features.shape)"
   ]
  },
  {
   "cell_type": "markdown",
   "metadata": {},
   "source": [
    "* Таблица `features` с признаками теперь содержит 9 столбцов.\n",
    "* Длина матриц совпадает.\n",
    "* Разделим выборки."
   ]
  },
  {
   "cell_type": "code",
   "execution_count": 11,
   "metadata": {},
   "outputs": [],
   "source": [
    "features_train, features_test, target_train, target_test = train_test_split(features, target,\n",
    "                                                   test_size = 0.3, random_state = 12345)"
   ]
  },
  {
   "cell_type": "code",
   "execution_count": 12,
   "metadata": {},
   "outputs": [
    {
     "data": {
      "text/html": [
       "<style  type=\"text/css\" >\n",
       "    #T_83422_  {\n",
       "          text-align: right;\n",
       "          font-size: 120%;\n",
       "          color: brown;\n",
       "    }</style><table id=\"T_83422_\" ><thead>    <tr>        <th class=\"blank level0\" ></th>        <th class=\"col_heading level0 col0\" >Строки</th>        <th class=\"col_heading level0 col1\" >Столбцы</th>    </tr></thead><tbody>\n",
       "                <tr>\n",
       "                        <th id=\"T_83422_level0_row0\" class=\"row_heading level0 row0\" >features_train</th>\n",
       "                        <td id=\"T_83422_row0_col0\" class=\"data row0 col0\" >3392</td>\n",
       "                        <td id=\"T_83422_row0_col1\" class=\"data row0 col1\" >9.000000</td>\n",
       "            </tr>\n",
       "            <tr>\n",
       "                        <th id=\"T_83422_level0_row1\" class=\"row_heading level0 row1\" >features_test</th>\n",
       "                        <td id=\"T_83422_row1_col0\" class=\"data row1 col0\" >1455</td>\n",
       "                        <td id=\"T_83422_row1_col1\" class=\"data row1 col1\" >9.000000</td>\n",
       "            </tr>\n",
       "            <tr>\n",
       "                        <th id=\"T_83422_level0_row2\" class=\"row_heading level0 row2\" >target_train</th>\n",
       "                        <td id=\"T_83422_row2_col0\" class=\"data row2 col0\" >3392</td>\n",
       "                        <td id=\"T_83422_row2_col1\" class=\"data row2 col1\" >0.000000</td>\n",
       "            </tr>\n",
       "            <tr>\n",
       "                        <th id=\"T_83422_level0_row3\" class=\"row_heading level0 row3\" >target_test</th>\n",
       "                        <td id=\"T_83422_row3_col0\" class=\"data row3 col0\" >1455</td>\n",
       "                        <td id=\"T_83422_row3_col1\" class=\"data row3 col1\" >0.000000</td>\n",
       "            </tr>\n",
       "    </tbody></table>"
      ],
      "text/plain": [
       "<pandas.io.formats.style.Styler at 0x7fc1cc049220>"
      ]
     },
     "execution_count": 12,
     "metadata": {},
     "output_type": "execute_result"
    }
   ],
   "source": [
    "data = [features_train.shape, features_test.shape, target_train.shape, target_test.shape]\n",
    "index = [\"features_train\", \"features_test\", \"target_train\", \"target_test\"]\n",
    "columns = [\"Строки\", \"Столбцы\"]\n",
    "styles = [dict(props=[(\"text-align\", \"right\"),\n",
    "                   (\"font-size\", \"120%\"),\n",
    "                   (\"color\", 'brown')])]\n",
    "\n",
    "pd.DataFrame(data, columns = columns, index=index).fillna(0).style.set_table_styles(styles)"
   ]
  },
  {
   "cell_type": "markdown",
   "metadata": {},
   "source": [
    "* Выборки разделены адекватно."
   ]
  },
  {
   "cell_type": "code",
   "execution_count": 13,
   "metadata": {},
   "outputs": [
    {
     "data": {
      "text/html": [
       "<div>\n",
       "<style scoped>\n",
       "    .dataframe tbody tr th:only-of-type {\n",
       "        vertical-align: middle;\n",
       "    }\n",
       "\n",
       "    .dataframe tbody tr th {\n",
       "        vertical-align: top;\n",
       "    }\n",
       "\n",
       "    .dataframe thead th {\n",
       "        text-align: right;\n",
       "    }\n",
       "</style>\n",
       "<table border=\"1\" class=\"dataframe\">\n",
       "  <thead>\n",
       "    <tr style=\"text-align: right;\">\n",
       "      <th></th>\n",
       "      <th>Пол</th>\n",
       "      <th>Возраст</th>\n",
       "      <th>Зарплата</th>\n",
       "      <th>Члены семьи_1</th>\n",
       "      <th>Члены семьи_2</th>\n",
       "      <th>Члены семьи_3</th>\n",
       "      <th>Члены семьи_4</th>\n",
       "      <th>Члены семьи_5</th>\n",
       "      <th>Члены семьи_6</th>\n",
       "    </tr>\n",
       "  </thead>\n",
       "  <tbody>\n",
       "    <tr>\n",
       "      <th>2403</th>\n",
       "      <td>1</td>\n",
       "      <td>-1.06</td>\n",
       "      <td>-0.28</td>\n",
       "      <td>1</td>\n",
       "      <td>0</td>\n",
       "      <td>0</td>\n",
       "      <td>0</td>\n",
       "      <td>0</td>\n",
       "      <td>0</td>\n",
       "    </tr>\n",
       "    <tr>\n",
       "      <th>1647</th>\n",
       "      <td>0</td>\n",
       "      <td>1.77</td>\n",
       "      <td>0.22</td>\n",
       "      <td>0</td>\n",
       "      <td>1</td>\n",
       "      <td>0</td>\n",
       "      <td>0</td>\n",
       "      <td>0</td>\n",
       "      <td>0</td>\n",
       "    </tr>\n",
       "  </tbody>\n",
       "</table>\n",
       "</div>"
      ],
      "text/plain": [
       "      Пол  Возраст  Зарплата  Члены семьи_1  Члены семьи_2  Члены семьи_3  \\\n",
       "2403    1    -1.06     -0.28              1              0              0   \n",
       "1647    0     1.77      0.22              0              1              0   \n",
       "\n",
       "      Члены семьи_4  Члены семьи_5  Члены семьи_6  \n",
       "2403              0              0              0  \n",
       "1647              0              0              0  "
      ]
     },
     "metadata": {},
     "output_type": "display_data"
    },
    {
     "name": "stdout",
     "output_type": "stream",
     "text": [
      "\n"
     ]
    },
    {
     "data": {
      "text/html": [
       "<div>\n",
       "<style scoped>\n",
       "    .dataframe tbody tr th:only-of-type {\n",
       "        vertical-align: middle;\n",
       "    }\n",
       "\n",
       "    .dataframe tbody tr th {\n",
       "        vertical-align: top;\n",
       "    }\n",
       "\n",
       "    .dataframe thead th {\n",
       "        text-align: right;\n",
       "    }\n",
       "</style>\n",
       "<table border=\"1\" class=\"dataframe\">\n",
       "  <thead>\n",
       "    <tr style=\"text-align: right;\">\n",
       "      <th></th>\n",
       "      <th>Пол</th>\n",
       "      <th>Возраст</th>\n",
       "      <th>Зарплата</th>\n",
       "      <th>Члены семьи_1</th>\n",
       "      <th>Члены семьи_2</th>\n",
       "      <th>Члены семьи_3</th>\n",
       "      <th>Члены семьи_4</th>\n",
       "      <th>Члены семьи_5</th>\n",
       "      <th>Члены семьи_6</th>\n",
       "    </tr>\n",
       "  </thead>\n",
       "  <tbody>\n",
       "    <tr>\n",
       "      <th>1335</th>\n",
       "      <td>1</td>\n",
       "      <td>-0.95</td>\n",
       "      <td>0.72</td>\n",
       "      <td>0</td>\n",
       "      <td>0</td>\n",
       "      <td>0</td>\n",
       "      <td>0</td>\n",
       "      <td>0</td>\n",
       "      <td>0</td>\n",
       "    </tr>\n",
       "    <tr>\n",
       "      <th>3875</th>\n",
       "      <td>1</td>\n",
       "      <td>0.12</td>\n",
       "      <td>2.59</td>\n",
       "      <td>0</td>\n",
       "      <td>0</td>\n",
       "      <td>0</td>\n",
       "      <td>0</td>\n",
       "      <td>0</td>\n",
       "      <td>0</td>\n",
       "    </tr>\n",
       "  </tbody>\n",
       "</table>\n",
       "</div>"
      ],
      "text/plain": [
       "      Пол  Возраст  Зарплата  Члены семьи_1  Члены семьи_2  Члены семьи_3  \\\n",
       "1335    1    -0.95      0.72              0              0              0   \n",
       "3875    1     0.12      2.59              0              0              0   \n",
       "\n",
       "      Члены семьи_4  Члены семьи_5  Члены семьи_6  \n",
       "1335              0              0              0  \n",
       "3875              0              0              0  "
      ]
     },
     "metadata": {},
     "output_type": "display_data"
    }
   ],
   "source": [
    "# Стадартизируем признаки.\n",
    "numeric = ['Возраст', 'Зарплата']\n",
    "scaler = StandardScaler()\n",
    "scaler.fit(features_train[numeric])\n",
    "features_train[numeric] = scaler.transform(features_train[numeric])\n",
    "features_test[numeric] = scaler.transform(features_test[numeric])\n",
    "\n",
    "\n",
    "display(features_train.head(2))\n",
    "print()\n",
    "display(features_test.head(2))\n"
   ]
  },
  {
   "cell_type": "markdown",
   "metadata": {},
   "source": [
    "* Стандартизация прошла успешно.\n",
    "* Проверим корреляцию между признаками."
   ]
  },
  {
   "cell_type": "code",
   "execution_count": 14,
   "metadata": {},
   "outputs": [
    {
     "data": {
      "text/plain": [
       "<AxesSubplot:>"
      ]
     },
     "execution_count": 14,
     "metadata": {},
     "output_type": "execute_result"
    },
    {
     "data": {
      "image/png": "[encoded data removed]",
      "text/plain": [
       "<Figure size 842.4x595.44 with 2 Axes>"
      ]
     },
     "metadata": {},
     "output_type": "display_data"
    }
   ],
   "source": [
    "# Матрица корреляций\n",
    "sns.set(rc={'figure.figsize':(11.7,8.27)})\n",
    "sns.heatmap(features_train.corr(), annot=True)\n"
   ]
  },
  {
   "cell_type": "markdown",
   "metadata": {},
   "source": [
    "* Между признаками не обнаружено сильной (>0.8) корреляции, которая бы указывала на мультиколлиниарность признаков. Поэтому все признаки оставляем в нашей таблице.\n",
    "* Извлечем векторы целевого признака из таблиц `target_train` и `target_train`\n",
    "* Извлечем матрицы признаков из таблиц `features_train` и `features_test`."
   ]
  },
  {
   "cell_type": "markdown",
   "metadata": {},
   "source": [
    "### Вывод\n",
    "* Созданы дамми переменные, признаки стандартизированы.\n",
    "* Таблицы `features_train`, `features_test`, `target_train`, `target_test` подготовлены для преобразования матриц."
   ]
  },
  {
   "cell_type": "markdown",
   "metadata": {},
   "source": [
    "## Умножение матриц"
   ]
  },
  {
   "cell_type": "markdown",
   "metadata": {},
   "source": [
    "Обозначения:\n",
    "\n",
    "- $X$ — матрица признаков (нулевой столбец состоит из единиц)\n",
    "\n",
    "- $y$ — вектор целевого признака\n",
    "\n",
    "- $P$ — матрица, на которую умножаются признаки\n",
    "\n",
    "- $w$ — вектор весов линейной регрессии (нулевой элемент равен сдвигу)"
   ]
  },
  {
   "cell_type": "markdown",
   "metadata": {},
   "source": [
    "Классическое предсказание:\n",
    "\n",
    "$$\n",
    "a = Xw\n",
    "$$\n",
    "\n",
    "\n",
    "Предсказание с новой матрицей P:\n",
    "\n",
    "$$\n",
    "a = XPw\n",
    "$$\n",
    "\n",
    "\n",
    "Классическая задача обучения:\n",
    "\n",
    "$$\n",
    "w = \\arg\\min_w MSE(Xw, y)\n",
    "$$\n",
    "\n",
    "\n",
    "\n",
    "Задача обучения с новой матрицей P:\n",
    "\n",
    "$$\n",
    "w = \\arg\\min_w MSE(XPw, y)\n",
    "$$\n",
    "\n",
    "\n",
    "\n",
    "Классическая формула обучения:\n",
    "\n",
    "$$\n",
    "w = (X^T X)^{-1} X^T y\n",
    "$$\n",
    "\n",
    "* В качестве метода преобразования будет протестирован шифр Хилла.\n",
    "\n",
    "\n",
    "\n",
    "* Формула обучения с новой матрицей P:\n",
    "\n",
    "$$\n",
    "w = ((XP)^T XP)^{-1} (XP)^T y\n",
    "$$"
   ]
  },
  {
   "cell_type": "markdown",
   "metadata": {},
   "source": [
    "**Ответ:** \n",
    "* Создается случайная квадратная матрица P, равная по размерам: $$(X^T X)$$. \n",
    "\n",
    "**Обоснование:** \n",
    "* Все признаки в тренировочной и тестовой выборках будут умножены на одну и ту же случайную матрицу, которая видоизменит сырые значения матрицы признаков.\n",
    "* Будет проведено сравнение вывода оценки качества линейной регрессии по $r^2$ для сырых и видоизменнных данных. В случае, если значение $r^2$ будут близкими, то метод умножения признаков на обратную матрицу будет признан удачным."
   ]
  },
  {
   "cell_type": "code",
   "execution_count": 15,
   "metadata": {},
   "outputs": [
    {
     "data": {
      "text/plain": [
       "(9, 9)"
      ]
     },
     "execution_count": 15,
     "metadata": {},
     "output_type": "execute_result"
    }
   ],
   "source": [
    "# Проверим размер обратной матрицы в формуле линейной регрессии\n",
    "(features_train.T @ features_train).shape"
   ]
  },
  {
   "cell_type": "markdown",
   "metadata": {},
   "source": [
    "* Размер матрицы составил 9 на 9, значит можно создать случайную матрицу P этого размера.\n",
    "* Для проверки элемента случайности, создадим несколько случайных матриц P1 и P2."
   ]
  },
  {
   "cell_type": "code",
   "execution_count": 16,
   "metadata": {},
   "outputs": [
    {
     "data": {
      "text/html": [
       "<div>\n",
       "<style scoped>\n",
       "    .dataframe tbody tr th:only-of-type {\n",
       "        vertical-align: middle;\n",
       "    }\n",
       "\n",
       "    .dataframe tbody tr th {\n",
       "        vertical-align: top;\n",
       "    }\n",
       "\n",
       "    .dataframe thead th {\n",
       "        text-align: right;\n",
       "    }\n",
       "</style>\n",
       "<table border=\"1\" class=\"dataframe\">\n",
       "  <thead>\n",
       "    <tr style=\"text-align: right;\">\n",
       "      <th></th>\n",
       "      <th>0</th>\n",
       "      <th>1</th>\n",
       "      <th>2</th>\n",
       "      <th>3</th>\n",
       "      <th>4</th>\n",
       "      <th>5</th>\n",
       "      <th>6</th>\n",
       "      <th>7</th>\n",
       "      <th>8</th>\n",
       "    </tr>\n",
       "  </thead>\n",
       "  <tbody>\n",
       "    <tr>\n",
       "      <th>0</th>\n",
       "      <td>0.53</td>\n",
       "      <td>0.37</td>\n",
       "      <td>0.08</td>\n",
       "      <td>0.65</td>\n",
       "      <td>0.90</td>\n",
       "      <td>0.79</td>\n",
       "      <td>0.88</td>\n",
       "      <td>0.96</td>\n",
       "      <td>0.47</td>\n",
       "    </tr>\n",
       "    <tr>\n",
       "      <th>1</th>\n",
       "      <td>0.82</td>\n",
       "      <td>0.50</td>\n",
       "      <td>0.29</td>\n",
       "      <td>0.71</td>\n",
       "      <td>0.58</td>\n",
       "      <td>0.34</td>\n",
       "      <td>0.48</td>\n",
       "      <td>0.69</td>\n",
       "      <td>0.93</td>\n",
       "    </tr>\n",
       "    <tr>\n",
       "      <th>2</th>\n",
       "      <td>0.19</td>\n",
       "      <td>0.37</td>\n",
       "      <td>0.34</td>\n",
       "      <td>0.47</td>\n",
       "      <td>0.09</td>\n",
       "      <td>0.09</td>\n",
       "      <td>0.90</td>\n",
       "      <td>0.71</td>\n",
       "      <td>0.82</td>\n",
       "    </tr>\n",
       "    <tr>\n",
       "      <th>3</th>\n",
       "      <td>0.75</td>\n",
       "      <td>0.89</td>\n",
       "      <td>0.51</td>\n",
       "      <td>0.06</td>\n",
       "      <td>1.00</td>\n",
       "      <td>0.52</td>\n",
       "      <td>0.07</td>\n",
       "      <td>0.55</td>\n",
       "      <td>0.54</td>\n",
       "    </tr>\n",
       "    <tr>\n",
       "      <th>4</th>\n",
       "      <td>0.44</td>\n",
       "      <td>0.94</td>\n",
       "      <td>0.17</td>\n",
       "      <td>0.54</td>\n",
       "      <td>0.44</td>\n",
       "      <td>0.03</td>\n",
       "      <td>0.98</td>\n",
       "      <td>0.41</td>\n",
       "      <td>0.54</td>\n",
       "    </tr>\n",
       "    <tr>\n",
       "      <th>5</th>\n",
       "      <td>0.43</td>\n",
       "      <td>0.33</td>\n",
       "      <td>0.12</td>\n",
       "      <td>0.50</td>\n",
       "      <td>0.01</td>\n",
       "      <td>0.47</td>\n",
       "      <td>0.83</td>\n",
       "      <td>0.29</td>\n",
       "      <td>0.30</td>\n",
       "    </tr>\n",
       "    <tr>\n",
       "      <th>6</th>\n",
       "      <td>0.10</td>\n",
       "      <td>0.93</td>\n",
       "      <td>0.51</td>\n",
       "      <td>0.09</td>\n",
       "      <td>0.70</td>\n",
       "      <td>0.59</td>\n",
       "      <td>0.35</td>\n",
       "      <td>0.80</td>\n",
       "      <td>0.56</td>\n",
       "    </tr>\n",
       "    <tr>\n",
       "      <th>7</th>\n",
       "      <td>0.99</td>\n",
       "      <td>0.79</td>\n",
       "      <td>0.91</td>\n",
       "      <td>0.46</td>\n",
       "      <td>0.84</td>\n",
       "      <td>0.97</td>\n",
       "      <td>0.77</td>\n",
       "      <td>0.08</td>\n",
       "      <td>0.56</td>\n",
       "    </tr>\n",
       "    <tr>\n",
       "      <th>8</th>\n",
       "      <td>0.04</td>\n",
       "      <td>0.57</td>\n",
       "      <td>0.47</td>\n",
       "      <td>0.94</td>\n",
       "      <td>0.85</td>\n",
       "      <td>0.92</td>\n",
       "      <td>0.83</td>\n",
       "      <td>0.64</td>\n",
       "      <td>0.13</td>\n",
       "    </tr>\n",
       "  </tbody>\n",
       "</table>\n",
       "</div>"
      ],
      "text/plain": [
       "     0    1    2    3    4    5    6    7    8\n",
       "0 0.53 0.37 0.08 0.65 0.90 0.79 0.88 0.96 0.47\n",
       "1 0.82 0.50 0.29 0.71 0.58 0.34 0.48 0.69 0.93\n",
       "2 0.19 0.37 0.34 0.47 0.09 0.09 0.90 0.71 0.82\n",
       "3 0.75 0.89 0.51 0.06 1.00 0.52 0.07 0.55 0.54\n",
       "4 0.44 0.94 0.17 0.54 0.44 0.03 0.98 0.41 0.54\n",
       "5 0.43 0.33 0.12 0.50 0.01 0.47 0.83 0.29 0.30\n",
       "6 0.10 0.93 0.51 0.09 0.70 0.59 0.35 0.80 0.56\n",
       "7 0.99 0.79 0.91 0.46 0.84 0.97 0.77 0.08 0.56\n",
       "8 0.04 0.57 0.47 0.94 0.85 0.92 0.83 0.64 0.13"
      ]
     },
     "metadata": {},
     "output_type": "display_data"
    },
    {
     "name": "stdout",
     "output_type": "stream",
     "text": [
      "\n"
     ]
    },
    {
     "data": {
      "text/html": [
       "<div>\n",
       "<style scoped>\n",
       "    .dataframe tbody tr th:only-of-type {\n",
       "        vertical-align: middle;\n",
       "    }\n",
       "\n",
       "    .dataframe tbody tr th {\n",
       "        vertical-align: top;\n",
       "    }\n",
       "\n",
       "    .dataframe thead th {\n",
       "        text-align: right;\n",
       "    }\n",
       "</style>\n",
       "<table border=\"1\" class=\"dataframe\">\n",
       "  <thead>\n",
       "    <tr style=\"text-align: right;\">\n",
       "      <th></th>\n",
       "      <th>0</th>\n",
       "      <th>1</th>\n",
       "      <th>2</th>\n",
       "      <th>3</th>\n",
       "      <th>4</th>\n",
       "      <th>5</th>\n",
       "      <th>6</th>\n",
       "      <th>7</th>\n",
       "      <th>8</th>\n",
       "    </tr>\n",
       "  </thead>\n",
       "  <tbody>\n",
       "    <tr>\n",
       "      <th>0</th>\n",
       "      <td>0.10</td>\n",
       "      <td>0.84</td>\n",
       "      <td>0.38</td>\n",
       "      <td>0.44</td>\n",
       "      <td>0.04</td>\n",
       "      <td>0.99</td>\n",
       "      <td>0.33</td>\n",
       "      <td>0.57</td>\n",
       "      <td>0.58</td>\n",
       "    </tr>\n",
       "    <tr>\n",
       "      <th>1</th>\n",
       "      <td>0.73</td>\n",
       "      <td>0.23</td>\n",
       "      <td>0.97</td>\n",
       "      <td>0.62</td>\n",
       "      <td>0.28</td>\n",
       "      <td>0.33</td>\n",
       "      <td>0.17</td>\n",
       "      <td>0.63</td>\n",
       "      <td>0.44</td>\n",
       "    </tr>\n",
       "    <tr>\n",
       "      <th>2</th>\n",
       "      <td>0.23</td>\n",
       "      <td>0.18</td>\n",
       "      <td>0.10</td>\n",
       "      <td>0.36</td>\n",
       "      <td>0.87</td>\n",
       "      <td>0.12</td>\n",
       "      <td>0.61</td>\n",
       "      <td>0.88</td>\n",
       "      <td>0.09</td>\n",
       "    </tr>\n",
       "    <tr>\n",
       "      <th>3</th>\n",
       "      <td>0.56</td>\n",
       "      <td>0.58</td>\n",
       "      <td>0.27</td>\n",
       "      <td>0.15</td>\n",
       "      <td>0.48</td>\n",
       "      <td>0.83</td>\n",
       "      <td>0.35</td>\n",
       "      <td>0.16</td>\n",
       "      <td>0.10</td>\n",
       "    </tr>\n",
       "    <tr>\n",
       "      <th>4</th>\n",
       "      <td>0.27</td>\n",
       "      <td>0.71</td>\n",
       "      <td>0.40</td>\n",
       "      <td>0.64</td>\n",
       "      <td>0.40</td>\n",
       "      <td>0.52</td>\n",
       "      <td>0.34</td>\n",
       "      <td>0.27</td>\n",
       "      <td>0.21</td>\n",
       "    </tr>\n",
       "    <tr>\n",
       "      <th>5</th>\n",
       "      <td>0.98</td>\n",
       "      <td>0.85</td>\n",
       "      <td>0.29</td>\n",
       "      <td>0.41</td>\n",
       "      <td>0.70</td>\n",
       "      <td>0.34</td>\n",
       "      <td>0.81</td>\n",
       "      <td>0.82</td>\n",
       "      <td>0.42</td>\n",
       "    </tr>\n",
       "    <tr>\n",
       "      <th>6</th>\n",
       "      <td>0.82</td>\n",
       "      <td>0.34</td>\n",
       "      <td>0.64</td>\n",
       "      <td>0.47</td>\n",
       "      <td>0.39</td>\n",
       "      <td>0.28</td>\n",
       "      <td>0.55</td>\n",
       "      <td>0.09</td>\n",
       "      <td>0.70</td>\n",
       "    </tr>\n",
       "    <tr>\n",
       "      <th>7</th>\n",
       "      <td>0.81</td>\n",
       "      <td>0.82</td>\n",
       "      <td>0.84</td>\n",
       "      <td>0.68</td>\n",
       "      <td>0.60</td>\n",
       "      <td>0.52</td>\n",
       "      <td>0.81</td>\n",
       "      <td>0.95</td>\n",
       "      <td>0.42</td>\n",
       "    </tr>\n",
       "    <tr>\n",
       "      <th>8</th>\n",
       "      <td>0.89</td>\n",
       "      <td>0.49</td>\n",
       "      <td>0.13</td>\n",
       "      <td>0.76</td>\n",
       "      <td>0.83</td>\n",
       "      <td>0.28</td>\n",
       "      <td>0.89</td>\n",
       "      <td>0.64</td>\n",
       "      <td>0.23</td>\n",
       "    </tr>\n",
       "  </tbody>\n",
       "</table>\n",
       "</div>"
      ],
      "text/plain": [
       "     0    1    2    3    4    5    6    7    8\n",
       "0 0.10 0.84 0.38 0.44 0.04 0.99 0.33 0.57 0.58\n",
       "1 0.73 0.23 0.97 0.62 0.28 0.33 0.17 0.63 0.44\n",
       "2 0.23 0.18 0.10 0.36 0.87 0.12 0.61 0.88 0.09\n",
       "3 0.56 0.58 0.27 0.15 0.48 0.83 0.35 0.16 0.10\n",
       "4 0.27 0.71 0.40 0.64 0.40 0.52 0.34 0.27 0.21\n",
       "5 0.98 0.85 0.29 0.41 0.70 0.34 0.81 0.82 0.42\n",
       "6 0.82 0.34 0.64 0.47 0.39 0.28 0.55 0.09 0.70\n",
       "7 0.81 0.82 0.84 0.68 0.60 0.52 0.81 0.95 0.42\n",
       "8 0.89 0.49 0.13 0.76 0.83 0.28 0.89 0.64 0.23"
      ]
     },
     "metadata": {},
     "output_type": "display_data"
    }
   ],
   "source": [
    "# Создадим случайные квадратные матрицы по размерам количества признаков и заполним нулевую колонку единицами\n",
    "P1 = np.random.rand(features_train.shape[1], features_train.shape[1])\n",
    "P2 = np.random.rand(features_train.shape[1], features_train.shape[1])\n",
    "display(pd.DataFrame(P1))\n",
    "print()\n",
    "display(pd.DataFrame(P2))"
   ]
  },
  {
   "cell_type": "markdown",
   "metadata": {},
   "source": [
    "* Матрицы P1 и P2 имеют заданный размер, но различаются друг от друга содержимым ячеек.\n",
    "* Проверим обратимость новых матриц.\n"
   ]
  },
  {
   "cell_type": "code",
   "execution_count": 17,
   "metadata": {},
   "outputs": [
    {
     "name": "stdout",
     "output_type": "stream",
     "text": [
      "[-0.86507776  0.29234405 -1.01506462  0.07607941  0.69756932  1.00537759\n",
      "  0.88935184 -0.48212306  0.09516624]\n",
      "[-0.40911819 -0.3756564  -0.33938198 -0.41120448  1.62337682  1.57329855\n",
      " -0.28362819 -0.14519518 -1.13375609]\n"
     ]
    }
   ],
   "source": [
    "print(np.linalg.inv(P1)[1])\n",
    "print(np.linalg.inv(P2)[1])"
   ]
  },
  {
   "cell_type": "markdown",
   "metadata": {},
   "source": [
    "* Обе случайные матрицы обратимы.\n",
    "* Умножим тренировочную и тестовую матрицы на случайные матрицы."
   ]
  },
  {
   "cell_type": "code",
   "execution_count": 18,
   "metadata": {},
   "outputs": [],
   "source": [
    "# Умножение тренировочной и тестовой выборок на случайную матрицу P1\n",
    "features_train_P1 = features_train @ P1\n",
    "features_test_P1 = features_test @ P1\n",
    "\n",
    "# Умножение тренировочной и тестовой выборок на случайную матрицу P2\n",
    "features_train_P2 = features_train @ P2\n",
    "features_test_P2 = features_test @ P2"
   ]
  },
  {
   "cell_type": "markdown",
   "metadata": {},
   "source": [
    "* Проверим можно ли вернуть сырые данные из измененных таблиц признаков через умножение на обратимую матрицу."
   ]
  },
  {
   "cell_type": "code",
   "execution_count": 19,
   "metadata": {},
   "outputs": [
    {
     "data": {
      "text/html": [
       "<div>\n",
       "<style scoped>\n",
       "    .dataframe tbody tr th:only-of-type {\n",
       "        vertical-align: middle;\n",
       "    }\n",
       "\n",
       "    .dataframe tbody tr th {\n",
       "        vertical-align: top;\n",
       "    }\n",
       "\n",
       "    .dataframe thead th {\n",
       "        text-align: right;\n",
       "    }\n",
       "</style>\n",
       "<table border=\"1\" class=\"dataframe\">\n",
       "  <thead>\n",
       "    <tr style=\"text-align: right;\">\n",
       "      <th></th>\n",
       "      <th>Пол</th>\n",
       "      <th>Возраст</th>\n",
       "      <th>Зарплата</th>\n",
       "      <th>Члены семьи_1</th>\n",
       "      <th>Члены семьи_2</th>\n",
       "      <th>Члены семьи_3</th>\n",
       "      <th>Члены семьи_4</th>\n",
       "      <th>Члены семьи_5</th>\n",
       "      <th>Члены семьи_6</th>\n",
       "    </tr>\n",
       "  </thead>\n",
       "  <tbody>\n",
       "    <tr>\n",
       "      <th>2403</th>\n",
       "      <td>1</td>\n",
       "      <td>-1.06</td>\n",
       "      <td>-0.28</td>\n",
       "      <td>1</td>\n",
       "      <td>0</td>\n",
       "      <td>0</td>\n",
       "      <td>0</td>\n",
       "      <td>0</td>\n",
       "      <td>0</td>\n",
       "    </tr>\n",
       "    <tr>\n",
       "      <th>1647</th>\n",
       "      <td>0</td>\n",
       "      <td>1.77</td>\n",
       "      <td>0.22</td>\n",
       "      <td>0</td>\n",
       "      <td>1</td>\n",
       "      <td>0</td>\n",
       "      <td>0</td>\n",
       "      <td>0</td>\n",
       "      <td>0</td>\n",
       "    </tr>\n",
       "    <tr>\n",
       "      <th>2675</th>\n",
       "      <td>0</td>\n",
       "      <td>-0.95</td>\n",
       "      <td>0.17</td>\n",
       "      <td>0</td>\n",
       "      <td>0</td>\n",
       "      <td>0</td>\n",
       "      <td>0</td>\n",
       "      <td>0</td>\n",
       "      <td>0</td>\n",
       "    </tr>\n",
       "  </tbody>\n",
       "</table>\n",
       "</div>"
      ],
      "text/plain": [
       "      Пол  Возраст  Зарплата  Члены семьи_1  Члены семьи_2  Члены семьи_3  \\\n",
       "2403    1    -1.06     -0.28              1              0              0   \n",
       "1647    0     1.77      0.22              0              1              0   \n",
       "2675    0    -0.95      0.17              0              0              0   \n",
       "\n",
       "      Члены семьи_4  Члены семьи_5  Члены семьи_6  \n",
       "2403              0              0              0  \n",
       "1647              0              0              0  \n",
       "2675              0              0              0  "
      ]
     },
     "execution_count": 19,
     "metadata": {},
     "output_type": "execute_result"
    }
   ],
   "source": [
    "# Сырые данные\n",
    "pd.DataFrame(features_train).head(3)"
   ]
  },
  {
   "cell_type": "code",
   "execution_count": 20,
   "metadata": {},
   "outputs": [
    {
     "data": {
      "text/html": [
       "<div>\n",
       "<style scoped>\n",
       "    .dataframe tbody tr th:only-of-type {\n",
       "        vertical-align: middle;\n",
       "    }\n",
       "\n",
       "    .dataframe tbody tr th {\n",
       "        vertical-align: top;\n",
       "    }\n",
       "\n",
       "    .dataframe thead th {\n",
       "        text-align: right;\n",
       "    }\n",
       "</style>\n",
       "<table border=\"1\" class=\"dataframe\">\n",
       "  <thead>\n",
       "    <tr style=\"text-align: right;\">\n",
       "      <th></th>\n",
       "      <th>Пол</th>\n",
       "      <th>Возраст</th>\n",
       "      <th>Зарплата</th>\n",
       "      <th>Члены семьи_1</th>\n",
       "      <th>Члены семьи_2</th>\n",
       "      <th>Члены семьи_3</th>\n",
       "      <th>Члены семьи_4</th>\n",
       "      <th>Члены семьи_5</th>\n",
       "      <th>Члены семьи_6</th>\n",
       "    </tr>\n",
       "  </thead>\n",
       "  <tbody>\n",
       "    <tr>\n",
       "      <th>0</th>\n",
       "      <td>1.00</td>\n",
       "      <td>-1.06</td>\n",
       "      <td>-0.28</td>\n",
       "      <td>1.00</td>\n",
       "      <td>-0.00</td>\n",
       "      <td>0.00</td>\n",
       "      <td>-0.00</td>\n",
       "      <td>-0.00</td>\n",
       "      <td>0.00</td>\n",
       "    </tr>\n",
       "    <tr>\n",
       "      <th>1</th>\n",
       "      <td>0.00</td>\n",
       "      <td>1.77</td>\n",
       "      <td>0.22</td>\n",
       "      <td>-0.00</td>\n",
       "      <td>1.00</td>\n",
       "      <td>-0.00</td>\n",
       "      <td>0.00</td>\n",
       "      <td>0.00</td>\n",
       "      <td>-0.00</td>\n",
       "    </tr>\n",
       "    <tr>\n",
       "      <th>2</th>\n",
       "      <td>-0.00</td>\n",
       "      <td>-0.95</td>\n",
       "      <td>0.17</td>\n",
       "      <td>0.00</td>\n",
       "      <td>-0.00</td>\n",
       "      <td>0.00</td>\n",
       "      <td>-0.00</td>\n",
       "      <td>-0.00</td>\n",
       "      <td>0.00</td>\n",
       "    </tr>\n",
       "  </tbody>\n",
       "</table>\n",
       "</div>"
      ],
      "text/plain": [
       "    Пол  Возраст  Зарплата  Члены семьи_1  Члены семьи_2  Члены семьи_3  \\\n",
       "0  1.00    -1.06     -0.28           1.00          -0.00           0.00   \n",
       "1  0.00     1.77      0.22          -0.00           1.00          -0.00   \n",
       "2 -0.00    -0.95      0.17           0.00          -0.00           0.00   \n",
       "\n",
       "   Члены семьи_4  Члены семьи_5  Члены семьи_6  \n",
       "0          -0.00          -0.00           0.00  \n",
       "1           0.00           0.00          -0.00  \n",
       "2          -0.00          -0.00           0.00  "
      ]
     },
     "execution_count": 20,
     "metadata": {},
     "output_type": "execute_result"
    }
   ],
   "source": [
    "# Извлечение сырых данных за счёт умножения на обратимую матрицу\n",
    "pd.DataFrame(features_train_P1.values @ np.linalg.inv(P1), columns=features.columns).head(3)"
   ]
  },
  {
   "cell_type": "markdown",
   "metadata": {},
   "source": [
    "* Матрицы совпадают.\n",
    "* Теперь добавим нулевой столбец в измененные матрицы признаков для сокращения формулы линейной регрессии."
   ]
  },
  {
   "cell_type": "code",
   "execution_count": 21,
   "metadata": {},
   "outputs": [],
   "source": [
    "# Добавим нулевой столбец в признаки, чтобы сократить формулу линейной регрессии и w0 будет умножено на 1.\n",
    "X_train = np.concatenate((np.ones((features_train.shape[0], 1)), features_train), axis=1)\n",
    "X_train_P1 = np.concatenate((np.ones((features_train_P1.shape[0], 1)), features_train_P1), axis=1)\n",
    "X_train_P2 = np.concatenate((np.ones((features_train_P2.shape[0], 1)), features_train_P2), axis=1)"
   ]
  },
  {
   "cell_type": "markdown",
   "metadata": {},
   "source": [
    "* Проверим как изменяться веса. Для этого сначала посчитаем веса по классической формуле, а затем по новой формуле с умножением признаков на матрицу P.\n",
    "\n",
    "* Создадим переменные весов `w_classic` для весов признаков с интерсептом по классической формуле и `w_pi` для измененной матрицы.\n",
    "$$\n",
    "w = (X^T X)^{-1} X^T y\n",
    "$$\n"
   ]
  },
  {
   "cell_type": "code",
   "execution_count": 22,
   "metadata": {},
   "outputs": [],
   "source": [
    "# Расчёт весов по классической формуле\n",
    "w_classic = pd.DataFrame(np.linalg.inv(X_train.T @ X_train) @ X_train.T @ target_train)\n",
    "\n",
    "# Расчёт весов с умножением на случайную матрицу\n",
    "w_P1 = pd.DataFrame(np.linalg.inv(X_train_P1.T @ X_train_P1) @ X_train_P1.T  @ target_train)\n",
    "\n",
    "# Посчитаем разницу весов между расчетами. Возьмем модуль, чтобы избежать разницы в знаках.\n",
    "w_difference = abs(w_classic) - abs(w_P1)"
   ]
  },
  {
   "cell_type": "code",
   "execution_count": 23,
   "metadata": {},
   "outputs": [
    {
     "data": {
      "text/html": [
       "<div>\n",
       "<style scoped>\n",
       "    .dataframe tbody tr th:only-of-type {\n",
       "        vertical-align: middle;\n",
       "    }\n",
       "\n",
       "    .dataframe tbody tr th {\n",
       "        vertical-align: top;\n",
       "    }\n",
       "\n",
       "    .dataframe thead tr th {\n",
       "        text-align: left;\n",
       "    }\n",
       "</style>\n",
       "<table border=\"1\" class=\"dataframe\">\n",
       "  <thead>\n",
       "    <tr>\n",
       "      <th></th>\n",
       "      <th>w_classic</th>\n",
       "      <th>w_P1</th>\n",
       "      <th>w_difference</th>\n",
       "    </tr>\n",
       "    <tr>\n",
       "      <th></th>\n",
       "      <th>0</th>\n",
       "      <th>0</th>\n",
       "      <th>0</th>\n",
       "    </tr>\n",
       "  </thead>\n",
       "  <tbody>\n",
       "    <tr>\n",
       "      <th>Пол</th>\n",
       "      <td>0.02</td>\n",
       "      <td>-0.27</td>\n",
       "      <td>-0.25</td>\n",
       "    </tr>\n",
       "    <tr>\n",
       "      <th>Возраст</th>\n",
       "      <td>0.30</td>\n",
       "      <td>0.00</td>\n",
       "      <td>0.30</td>\n",
       "    </tr>\n",
       "    <tr>\n",
       "      <th>Зарплата</th>\n",
       "      <td>0.01</td>\n",
       "      <td>-0.63</td>\n",
       "      <td>-0.62</td>\n",
       "    </tr>\n",
       "    <tr>\n",
       "      <th>Члены семьи_1</th>\n",
       "      <td>0.01</td>\n",
       "      <td>0.20</td>\n",
       "      <td>-0.19</td>\n",
       "    </tr>\n",
       "    <tr>\n",
       "      <th>Члены семьи_2</th>\n",
       "      <td>-0.01</td>\n",
       "      <td>0.17</td>\n",
       "      <td>-0.16</td>\n",
       "    </tr>\n",
       "    <tr>\n",
       "      <th>Члены семьи_3</th>\n",
       "      <td>-0.05</td>\n",
       "      <td>0.29</td>\n",
       "      <td>-0.24</td>\n",
       "    </tr>\n",
       "    <tr>\n",
       "      <th>Члены семьи_4</th>\n",
       "      <td>-0.02</td>\n",
       "      <td>-0.27</td>\n",
       "      <td>-0.25</td>\n",
       "    </tr>\n",
       "    <tr>\n",
       "      <th>Члены семьи_5</th>\n",
       "      <td>-0.05</td>\n",
       "      <td>-0.51</td>\n",
       "      <td>-0.46</td>\n",
       "    </tr>\n",
       "    <tr>\n",
       "      <th>Члены семьи_6</th>\n",
       "      <td>-0.14</td>\n",
       "      <td>0.90</td>\n",
       "      <td>-0.77</td>\n",
       "    </tr>\n",
       "  </tbody>\n",
       "</table>\n",
       "</div>"
      ],
      "text/plain": [
       "              w_classic  w_P1 w_difference\n",
       "                      0     0            0\n",
       "Пол                0.02 -0.27        -0.25\n",
       "Возраст            0.30  0.00         0.30\n",
       "Зарплата           0.01 -0.63        -0.62\n",
       "Члены семьи_1      0.01  0.20        -0.19\n",
       "Члены семьи_2     -0.01  0.17        -0.16\n",
       "Члены семьи_3     -0.05  0.29        -0.24\n",
       "Члены семьи_4     -0.02 -0.27        -0.25\n",
       "Члены семьи_5     -0.05 -0.51        -0.46\n",
       "Члены семьи_6     -0.14  0.90        -0.77"
      ]
     },
     "execution_count": 23,
     "metadata": {},
     "output_type": "execute_result"
    }
   ],
   "source": [
    "# Построим таблицу для сравнения весов между w_classic и w_P1\n",
    "(pd.concat([w_classic[1:], w_P1[1:], w_difference[1:]], \n",
    "              keys=['w_classic', 'w_P1', 'w_difference'], axis=1)\n",
    "     .set_index(features.columns)\n",
    "    )"
   ]
  },
  {
   "cell_type": "code",
   "execution_count": 24,
   "metadata": {},
   "outputs": [],
   "source": [
    "# Расчёт весов с умножением на случайную матрицу\n",
    "w_P2 = pd.DataFrame(np.linalg.inv(X_train_P2.T @ X_train_P2) @ X_train_P2.T  @ target_train)\n",
    "\n",
    "# Посчитаем разницу весов между расчетами. Возьмем модуль, чтобы избежать разницы в знаках.\n",
    "w_difference2 = abs(w_classic) - abs(w_P2)"
   ]
  },
  {
   "cell_type": "code",
   "execution_count": 25,
   "metadata": {},
   "outputs": [
    {
     "data": {
      "text/html": [
       "<div>\n",
       "<style scoped>\n",
       "    .dataframe tbody tr th:only-of-type {\n",
       "        vertical-align: middle;\n",
       "    }\n",
       "\n",
       "    .dataframe tbody tr th {\n",
       "        vertical-align: top;\n",
       "    }\n",
       "\n",
       "    .dataframe thead tr th {\n",
       "        text-align: left;\n",
       "    }\n",
       "</style>\n",
       "<table border=\"1\" class=\"dataframe\">\n",
       "  <thead>\n",
       "    <tr>\n",
       "      <th></th>\n",
       "      <th>w_classic</th>\n",
       "      <th>w_P2</th>\n",
       "      <th>w_difference</th>\n",
       "    </tr>\n",
       "    <tr>\n",
       "      <th></th>\n",
       "      <th>0</th>\n",
       "      <th>0</th>\n",
       "      <th>0</th>\n",
       "    </tr>\n",
       "  </thead>\n",
       "  <tbody>\n",
       "    <tr>\n",
       "      <th>Пол</th>\n",
       "      <td>0.02</td>\n",
       "      <td>0.17</td>\n",
       "      <td>-0.15</td>\n",
       "    </tr>\n",
       "    <tr>\n",
       "      <th>Возраст</th>\n",
       "      <td>0.30</td>\n",
       "      <td>-0.05</td>\n",
       "      <td>0.25</td>\n",
       "    </tr>\n",
       "    <tr>\n",
       "      <th>Зарплата</th>\n",
       "      <td>0.01</td>\n",
       "      <td>0.00</td>\n",
       "      <td>0.00</td>\n",
       "    </tr>\n",
       "    <tr>\n",
       "      <th>Члены семьи_1</th>\n",
       "      <td>0.01</td>\n",
       "      <td>0.02</td>\n",
       "      <td>-0.01</td>\n",
       "    </tr>\n",
       "    <tr>\n",
       "      <th>Члены семьи_2</th>\n",
       "      <td>-0.01</td>\n",
       "      <td>0.27</td>\n",
       "      <td>-0.25</td>\n",
       "    </tr>\n",
       "    <tr>\n",
       "      <th>Члены семьи_3</th>\n",
       "      <td>-0.05</td>\n",
       "      <td>0.04</td>\n",
       "      <td>0.01</td>\n",
       "    </tr>\n",
       "    <tr>\n",
       "      <th>Члены семьи_4</th>\n",
       "      <td>-0.02</td>\n",
       "      <td>-0.78</td>\n",
       "      <td>-0.76</td>\n",
       "    </tr>\n",
       "    <tr>\n",
       "      <th>Члены семьи_5</th>\n",
       "      <td>-0.05</td>\n",
       "      <td>0.21</td>\n",
       "      <td>-0.16</td>\n",
       "    </tr>\n",
       "    <tr>\n",
       "      <th>Члены семьи_6</th>\n",
       "      <td>-0.14</td>\n",
       "      <td>0.20</td>\n",
       "      <td>-0.06</td>\n",
       "    </tr>\n",
       "  </tbody>\n",
       "</table>\n",
       "</div>"
      ],
      "text/plain": [
       "              w_classic  w_P2 w_difference\n",
       "                      0     0            0\n",
       "Пол                0.02  0.17        -0.15\n",
       "Возраст            0.30 -0.05         0.25\n",
       "Зарплата           0.01  0.00         0.00\n",
       "Члены семьи_1      0.01  0.02        -0.01\n",
       "Члены семьи_2     -0.01  0.27        -0.25\n",
       "Члены семьи_3     -0.05  0.04         0.01\n",
       "Члены семьи_4     -0.02 -0.78        -0.76\n",
       "Члены семьи_5     -0.05  0.21        -0.16\n",
       "Члены семьи_6     -0.14  0.20        -0.06"
      ]
     },
     "execution_count": 25,
     "metadata": {},
     "output_type": "execute_result"
    }
   ],
   "source": [
    "# Построим таблицу для сравнения весов между w_classic и w_P2\n",
    "(pd.concat([w_classic[1:], w_P2[1:], w_difference2[1:]], \n",
    "              keys=['w_classic', 'w_P2', 'w_difference'], axis=1)\n",
    "     .set_index(features.columns)\n",
    "    )"
   ]
  },
  {
   "cell_type": "markdown",
   "metadata": {},
   "source": [
    "* Как видно из таблиц сравнения весов между сырыми данными и измененными данными, веса изменяются довольно сильно при умножении признаков на случайную матрицу.\n",
    "* Незначимые и значимые признаки получили рандомные веса, не имеюшие отношения к реальным весам.\n",
    "* Однако посмотрим на предсказания модели без и с умножением на случайную обратную матрицу."
   ]
  },
  {
   "cell_type": "code",
   "execution_count": 26,
   "metadata": {},
   "outputs": [],
   "source": [
    "# Предсказание модели по классической формуле\n",
    "predict_classic = features_test.values @ w_classic.values[1:] + w_classic.values[0]\n",
    "\n",
    "# Предсказание модели с \"зашифрованными\" данными, которые были помножены на матрицу P1\n",
    "predict_P1 = features_test_P1.values @ w_P1.values[1:] + w_P1.values[0]"
   ]
  },
  {
   "cell_type": "code",
   "execution_count": 27,
   "metadata": {},
   "outputs": [
    {
     "name": "stdout",
     "output_type": "stream",
     "text": [
      "Коэффициент детерминации для сырых данных: 0.4318471370203586\n",
      "Коэффициент детерминации для измененных данных P1: 0.4318471370203736\n"
     ]
    }
   ],
   "source": [
    "print('Коэффициент детерминации для сырых данных:',r2_score(target_test, predict_classic))\n",
    "print('Коэффициент детерминации для измененных данных P1:', r2_score(target_test, predict_P1))"
   ]
  },
  {
   "cell_type": "code",
   "execution_count": 28,
   "metadata": {},
   "outputs": [],
   "source": [
    "# Предсказание модели с \"зашифрованными\" данными, которые были помножены на матрицу P2\n",
    "predict_P2 = features_test_P2.values @ w_P2.values[1:] + w_P2.values[0]"
   ]
  },
  {
   "cell_type": "code",
   "execution_count": 29,
   "metadata": {},
   "outputs": [
    {
     "name": "stdout",
     "output_type": "stream",
     "text": [
      "Коэффициент детерминации для сырых данных: 0.4318471370203586\n",
      "Коэффициент детерминации для измененных данных P2: 0.43184713702038213\n"
     ]
    }
   ],
   "source": [
    "print('Коэффициент детерминации для сырых данных:',r2_score(target_test, predict_classic))\n",
    "print('Коэффициент детерминации для измененных данных P2:', r2_score(target_test, predict_P2))"
   ]
  },
  {
   "cell_type": "markdown",
   "metadata": {},
   "source": [
    "* Продемонстрируем как можно вернуть сырые данные.\n",
    "* Выведем на экран сырые данные для тестовой выборки и отдельно выведем изменные данные, которые будут помножены на обратную матрицу."
   ]
  },
  {
   "cell_type": "code",
   "execution_count": 30,
   "metadata": {},
   "outputs": [
    {
     "data": {
      "text/html": [
       "<div>\n",
       "<style scoped>\n",
       "    .dataframe tbody tr th:only-of-type {\n",
       "        vertical-align: middle;\n",
       "    }\n",
       "\n",
       "    .dataframe tbody tr th {\n",
       "        vertical-align: top;\n",
       "    }\n",
       "\n",
       "    .dataframe thead th {\n",
       "        text-align: right;\n",
       "    }\n",
       "</style>\n",
       "<table border=\"1\" class=\"dataframe\">\n",
       "  <thead>\n",
       "    <tr style=\"text-align: right;\">\n",
       "      <th></th>\n",
       "      <th>Пол</th>\n",
       "      <th>Возраст</th>\n",
       "      <th>Зарплата</th>\n",
       "      <th>Члены семьи_1</th>\n",
       "      <th>Члены семьи_2</th>\n",
       "      <th>Члены семьи_3</th>\n",
       "      <th>Члены семьи_4</th>\n",
       "      <th>Члены семьи_5</th>\n",
       "      <th>Члены семьи_6</th>\n",
       "    </tr>\n",
       "  </thead>\n",
       "  <tbody>\n",
       "    <tr>\n",
       "      <th>1335</th>\n",
       "      <td>1</td>\n",
       "      <td>-0.95</td>\n",
       "      <td>0.72</td>\n",
       "      <td>0</td>\n",
       "      <td>0</td>\n",
       "      <td>0</td>\n",
       "      <td>0</td>\n",
       "      <td>0</td>\n",
       "      <td>0</td>\n",
       "    </tr>\n",
       "    <tr>\n",
       "      <th>3875</th>\n",
       "      <td>1</td>\n",
       "      <td>0.12</td>\n",
       "      <td>2.59</td>\n",
       "      <td>0</td>\n",
       "      <td>0</td>\n",
       "      <td>0</td>\n",
       "      <td>0</td>\n",
       "      <td>0</td>\n",
       "      <td>0</td>\n",
       "    </tr>\n",
       "  </tbody>\n",
       "</table>\n",
       "</div>"
      ],
      "text/plain": [
       "      Пол  Возраст  Зарплата  Члены семьи_1  Члены семьи_2  Члены семьи_3  \\\n",
       "1335    1    -0.95      0.72              0              0              0   \n",
       "3875    1     0.12      2.59              0              0              0   \n",
       "\n",
       "      Члены семьи_4  Члены семьи_5  Члены семьи_6  \n",
       "1335              0              0              0  \n",
       "3875              0              0              0  "
      ]
     },
     "execution_count": 30,
     "metadata": {},
     "output_type": "execute_result"
    }
   ],
   "source": [
    "# Сырые данные\n",
    "pd.DataFrame(features_test).head(2)"
   ]
  },
  {
   "cell_type": "code",
   "execution_count": 31,
   "metadata": {},
   "outputs": [
    {
     "data": {
      "text/html": [
       "<div>\n",
       "<style scoped>\n",
       "    .dataframe tbody tr th:only-of-type {\n",
       "        vertical-align: middle;\n",
       "    }\n",
       "\n",
       "    .dataframe tbody tr th {\n",
       "        vertical-align: top;\n",
       "    }\n",
       "\n",
       "    .dataframe thead th {\n",
       "        text-align: right;\n",
       "    }\n",
       "</style>\n",
       "<table border=\"1\" class=\"dataframe\">\n",
       "  <thead>\n",
       "    <tr style=\"text-align: right;\">\n",
       "      <th></th>\n",
       "      <th>Пол</th>\n",
       "      <th>Возраст</th>\n",
       "      <th>Зарплата</th>\n",
       "      <th>Члены семьи_1</th>\n",
       "      <th>Члены семьи_2</th>\n",
       "      <th>Члены семьи_3</th>\n",
       "      <th>Члены семьи_4</th>\n",
       "      <th>Члены семьи_5</th>\n",
       "      <th>Члены семьи_6</th>\n",
       "    </tr>\n",
       "  </thead>\n",
       "  <tbody>\n",
       "    <tr>\n",
       "      <th>0</th>\n",
       "      <td>1.00</td>\n",
       "      <td>-0.95</td>\n",
       "      <td>0.72</td>\n",
       "      <td>0.00</td>\n",
       "      <td>-0.00</td>\n",
       "      <td>0.00</td>\n",
       "      <td>-0.00</td>\n",
       "      <td>-0.00</td>\n",
       "      <td>0.00</td>\n",
       "    </tr>\n",
       "    <tr>\n",
       "      <th>1</th>\n",
       "      <td>1.00</td>\n",
       "      <td>0.12</td>\n",
       "      <td>2.59</td>\n",
       "      <td>-0.00</td>\n",
       "      <td>-0.00</td>\n",
       "      <td>0.00</td>\n",
       "      <td>0.00</td>\n",
       "      <td>0.00</td>\n",
       "      <td>-0.00</td>\n",
       "    </tr>\n",
       "  </tbody>\n",
       "</table>\n",
       "</div>"
      ],
      "text/plain": [
       "   Пол  Возраст  Зарплата  Члены семьи_1  Члены семьи_2  Члены семьи_3  \\\n",
       "0 1.00    -0.95      0.72           0.00          -0.00           0.00   \n",
       "1 1.00     0.12      2.59          -0.00          -0.00           0.00   \n",
       "\n",
       "   Члены семьи_4  Члены семьи_5  Члены семьи_6  \n",
       "0          -0.00          -0.00           0.00  \n",
       "1           0.00           0.00          -0.00  "
      ]
     },
     "execution_count": 31,
     "metadata": {},
     "output_type": "execute_result"
    }
   ],
   "source": [
    "# Извлечение сырых данных из измененных данных\n",
    "pd.DataFrame(features_test_P1.values @ np.linalg.inv(P1), columns = features.columns).head(2)"
   ]
  },
  {
   "cell_type": "markdown",
   "metadata": {},
   "source": [
    "* Как видно, благодаря обратимости случайной матрицы можно вернуть сырые данные."
   ]
  },
  {
   "cell_type": "markdown",
   "metadata": {},
   "source": [
    "**Вывод**\n",
    "* Оценка качества модели по коэффициенту детерминации `r2` демонстирует сходство между оценками предсказания модели с сырыми и \"зашифрованными\" данными. \n",
    "* Элемент случайности, достигнутый генерацией двух случайных матриц `P1` и `P2`, не имеет эффекта на качество предсказания модели.\n",
    "* Таким образом, данная процедура \"шифрования\" данных позволяет успешно без потери качества предсказывать данные целевого признака. Однако за счёт изменения данных, выявление линейных связей и вклада каждого предиктора не предоставляеться возможным. \n",
    "* Однако можно вернуть сырые данные путём умножения на обратимую матрицу."
   ]
  },
  {
   "cell_type": "markdown",
   "metadata": {},
   "source": [
    "## Алгоритм преобразования"
   ]
  },
  {
   "cell_type": "markdown",
   "metadata": {},
   "source": [
    "**Алгоритм**\n",
    "\n",
    "* Предыдущие расчёты показали, что по частям алгоритм уже успешно работает и качество модели не изменяется.\n",
    "* Предлагается создать класс линейной модели и сравнить расчёты по сырым данным и по измененным.\n",
    "* Если обе проверки продемонстируют схожую оценку качества предсказания модели по коэффициенту детерминации, то алгоритм будет признан удачным.\n",
    "* В конце преобразований можно вернуть сырые данные путём умножения на обратимую матрицу."
   ]
  },
  {
   "cell_type": "markdown",
   "metadata": {},
   "source": [
    "**Обоснование**\n",
    "\n",
    "* Преобразования данных позволит шифровать сырые данные и сохранять качество предсказания модели. Однако в этом случае мы потеряем смысл интерпритации данных из-за изменения весов отдельных предикторов.\n",
    "* Тем не менее у нас будет ключ преобразования в виде случайной матрицы, на которую можно умножить измененные данные, чтобы вернуть сырые данные клиентов.\n"
   ]
  },
  {
   "cell_type": "markdown",
   "metadata": {},
   "source": [
    "## Проверка алгоритма"
   ]
  },
  {
   "cell_type": "markdown",
   "metadata": {},
   "source": [
    "* Создадим класс линейной модели."
   ]
  },
  {
   "cell_type": "code",
   "execution_count": 32,
   "metadata": {},
   "outputs": [],
   "source": [
    "class LinearRegression:\n",
    "    def fit(self, train_features, train_target):\n",
    "        X = np.concatenate((np.ones((train_features.shape[0], 1)), train_features), axis=1)\n",
    "        y = train_target\n",
    "        w = np.linalg.inv(X.T @  X) @ X.T  @ train_target\n",
    "        self.w = w[1:]\n",
    "        self.w0 = w[0]\n",
    "\n",
    "    def predict(self, test_features):\n",
    "        return test_features.dot(self.w) + self.w0"
   ]
  },
  {
   "cell_type": "markdown",
   "metadata": {},
   "source": [
    "* Получим предсказание модели по сырым данным."
   ]
  },
  {
   "cell_type": "code",
   "execution_count": 33,
   "metadata": {},
   "outputs": [
    {
     "name": "stdout",
     "output_type": "stream",
     "text": [
      "0.4318471370203586\n"
     ]
    }
   ],
   "source": [
    "model1 = LinearRegression()\n",
    "model1.fit(features_train, target_train)\n",
    "predictions1 = model1.predict(features_test)\n",
    "print(r2_score(target_test, predictions1))"
   ]
  },
  {
   "cell_type": "markdown",
   "metadata": {},
   "source": [
    "* Предсказание совпадает с предыдущими расчётами.\n",
    "* Построим теперь умножим матрицы признаков на случайные матрицы и сравним качество моделей."
   ]
  },
  {
   "cell_type": "code",
   "execution_count": 34,
   "metadata": {},
   "outputs": [
    {
     "name": "stdout",
     "output_type": "stream",
     "text": [
      "0.4318471370203736\n"
     ]
    }
   ],
   "source": [
    "# Получим оценку модели при умножении на случайную матрицу 1\n",
    "model2 = LinearRegression()\n",
    "model2.fit(features_train_P1, target_train)\n",
    "predictions2 = model2.predict(features_test_P1)\n",
    "print(r2_score(target_test, predictions2))"
   ]
  },
  {
   "cell_type": "code",
   "execution_count": 35,
   "metadata": {},
   "outputs": [
    {
     "name": "stdout",
     "output_type": "stream",
     "text": [
      "0.43184713702038213\n"
     ]
    }
   ],
   "source": [
    "# Получим оценку модели при умножении на случайную матрицу 2\n",
    "model3 = LinearRegression()\n",
    "model3.fit(features_train_P2, target_train)\n",
    "predictions3 = model3.predict(features_test_P2)\n",
    "print(r2_score(target_test, predictions3))"
   ]
  },
  {
   "cell_type": "markdown",
   "metadata": {},
   "source": [
    "* Возвратим сырые данные из видоизмененных."
   ]
  },
  {
   "cell_type": "code",
   "execution_count": 36,
   "metadata": {},
   "outputs": [
    {
     "data": {
      "text/html": [
       "<div>\n",
       "<style scoped>\n",
       "    .dataframe tbody tr th:only-of-type {\n",
       "        vertical-align: middle;\n",
       "    }\n",
       "\n",
       "    .dataframe tbody tr th {\n",
       "        vertical-align: top;\n",
       "    }\n",
       "\n",
       "    .dataframe thead th {\n",
       "        text-align: right;\n",
       "    }\n",
       "</style>\n",
       "<table border=\"1\" class=\"dataframe\">\n",
       "  <thead>\n",
       "    <tr style=\"text-align: right;\">\n",
       "      <th></th>\n",
       "      <th>Пол</th>\n",
       "      <th>Возраст</th>\n",
       "      <th>Зарплата</th>\n",
       "      <th>Члены семьи_1</th>\n",
       "      <th>Члены семьи_2</th>\n",
       "      <th>Члены семьи_3</th>\n",
       "      <th>Члены семьи_4</th>\n",
       "      <th>Члены семьи_5</th>\n",
       "      <th>Члены семьи_6</th>\n",
       "    </tr>\n",
       "  </thead>\n",
       "  <tbody>\n",
       "    <tr>\n",
       "      <th>0</th>\n",
       "      <td>1.00</td>\n",
       "      <td>-0.95</td>\n",
       "      <td>0.72</td>\n",
       "      <td>-0.00</td>\n",
       "      <td>-0.00</td>\n",
       "      <td>-0.00</td>\n",
       "      <td>0.00</td>\n",
       "      <td>-0.00</td>\n",
       "      <td>0.00</td>\n",
       "    </tr>\n",
       "    <tr>\n",
       "      <th>1</th>\n",
       "      <td>1.00</td>\n",
       "      <td>0.12</td>\n",
       "      <td>2.59</td>\n",
       "      <td>0.00</td>\n",
       "      <td>0.00</td>\n",
       "      <td>-0.00</td>\n",
       "      <td>0.00</td>\n",
       "      <td>0.00</td>\n",
       "      <td>0.00</td>\n",
       "    </tr>\n",
       "    <tr>\n",
       "      <th>2</th>\n",
       "      <td>1.00</td>\n",
       "      <td>0.23</td>\n",
       "      <td>-0.60</td>\n",
       "      <td>0.00</td>\n",
       "      <td>1.00</td>\n",
       "      <td>-0.00</td>\n",
       "      <td>0.00</td>\n",
       "      <td>-0.00</td>\n",
       "      <td>0.00</td>\n",
       "    </tr>\n",
       "    <tr>\n",
       "      <th>3</th>\n",
       "      <td>0.00</td>\n",
       "      <td>0.94</td>\n",
       "      <td>-2.06</td>\n",
       "      <td>0.00</td>\n",
       "      <td>1.00</td>\n",
       "      <td>0.00</td>\n",
       "      <td>0.00</td>\n",
       "      <td>-0.00</td>\n",
       "      <td>0.00</td>\n",
       "    </tr>\n",
       "    <tr>\n",
       "      <th>4</th>\n",
       "      <td>0.00</td>\n",
       "      <td>1.77</td>\n",
       "      <td>-1.24</td>\n",
       "      <td>0.00</td>\n",
       "      <td>1.00</td>\n",
       "      <td>-0.00</td>\n",
       "      <td>0.00</td>\n",
       "      <td>-0.00</td>\n",
       "      <td>-0.00</td>\n",
       "    </tr>\n",
       "  </tbody>\n",
       "</table>\n",
       "</div>"
      ],
      "text/plain": [
       "   Пол  Возраст  Зарплата  Члены семьи_1  Члены семьи_2  Члены семьи_3  \\\n",
       "0 1.00    -0.95      0.72          -0.00          -0.00          -0.00   \n",
       "1 1.00     0.12      2.59           0.00           0.00          -0.00   \n",
       "2 1.00     0.23     -0.60           0.00           1.00          -0.00   \n",
       "3 0.00     0.94     -2.06           0.00           1.00           0.00   \n",
       "4 0.00     1.77     -1.24           0.00           1.00          -0.00   \n",
       "\n",
       "   Члены семьи_4  Члены семьи_5  Члены семьи_6  \n",
       "0           0.00          -0.00           0.00  \n",
       "1           0.00           0.00           0.00  \n",
       "2           0.00          -0.00           0.00  \n",
       "3           0.00          -0.00           0.00  \n",
       "4           0.00          -0.00          -0.00  "
      ]
     },
     "execution_count": 36,
     "metadata": {},
     "output_type": "execute_result"
    }
   ],
   "source": [
    "pd.DataFrame(features_test_P2.values @ np.linalg.inv(P2), columns=features.columns).head()"
   ]
  },
  {
   "cell_type": "markdown",
   "metadata": {},
   "source": [
    "* Сырые данные восстановлены, благодаря наличию \"ключа\" - случайной матрицы."
   ]
  },
  {
   "cell_type": "markdown",
   "metadata": {},
   "source": [
    "## Вывод\n",
    "* Продемонстрировано, что можно видеоизменить сырые данные клиентов путем умножения данных на случайную матрицу, что позволяет \"шифровать\" данные по методу Хилла.\n",
    "* При этом, категориальные данные также преобразуются в числа с плавающей точкой и таким образом данные существенно видоизменяются.\n",
    "* Качество предсказания модели по сырым данным и по видоизменным данным не различается, несмотря на изменение параметров данных. \n",
    "* Продемонстрировано, что можно получить сырые данные из видеоизменных по наличию \"ключа\" - обратной матрицы."
   ]
  }
 ],
 "metadata": {
  "ExecuteTimeLog": [
   {
    "duration": 384,
    "start_time": "2022-05-09T00:31:25.754Z"
   },
   {
    "duration": 30,
    "start_time": "2022-05-09T00:31:43.188Z"
   },
   {
    "duration": 6,
    "start_time": "2022-05-09T00:31:51.140Z"
   },
   {
    "duration": 12,
    "start_time": "2022-05-09T00:31:57.935Z"
   },
   {
    "duration": 6,
    "start_time": "2022-05-09T00:32:14.514Z"
   },
   {
    "duration": 658,
    "start_time": "2022-05-09T15:39:57.688Z"
   },
   {
    "duration": 5,
    "start_time": "2022-05-09T15:41:27.362Z"
   },
   {
    "duration": 16,
    "start_time": "2022-05-09T15:42:04.936Z"
   },
   {
    "duration": 7,
    "start_time": "2022-05-09T15:42:08.909Z"
   },
   {
    "duration": 74,
    "start_time": "2022-05-09T15:42:22.045Z"
   },
   {
    "duration": 7,
    "start_time": "2022-05-09T15:42:29.797Z"
   },
   {
    "duration": 126,
    "start_time": "2022-05-09T15:42:32.775Z"
   },
   {
    "duration": 6,
    "start_time": "2022-05-09T15:42:42.792Z"
   },
   {
    "duration": 55,
    "start_time": "2022-05-09T15:42:44.125Z"
   },
   {
    "duration": 123,
    "start_time": "2022-05-09T15:49:47.425Z"
   },
   {
    "duration": 108,
    "start_time": "2022-05-09T15:50:03.854Z"
   },
   {
    "duration": 7,
    "start_time": "2022-05-09T15:50:21.919Z"
   },
   {
    "duration": 120,
    "start_time": "2022-05-09T15:50:25.535Z"
   },
   {
    "duration": 22,
    "start_time": "2022-05-09T15:50:35.669Z"
   },
   {
    "duration": 9,
    "start_time": "2022-05-09T15:50:43.541Z"
   },
   {
    "duration": 17,
    "start_time": "2022-05-09T15:50:48.148Z"
   },
   {
    "duration": 7,
    "start_time": "2022-05-09T15:50:51.829Z"
   },
   {
    "duration": 126,
    "start_time": "2022-05-09T15:51:01.791Z"
   },
   {
    "duration": 14,
    "start_time": "2022-05-09T15:53:22.665Z"
   },
   {
    "duration": 8,
    "start_time": "2022-05-09T15:53:37.400Z"
   },
   {
    "duration": 8,
    "start_time": "2022-05-09T15:53:45.850Z"
   },
   {
    "duration": 9,
    "start_time": "2022-05-09T15:53:55.634Z"
   },
   {
    "duration": 10,
    "start_time": "2022-05-09T15:53:59.481Z"
   },
   {
    "duration": 13,
    "start_time": "2022-05-09T15:55:45.607Z"
   },
   {
    "duration": 21,
    "start_time": "2022-05-09T15:55:50.765Z"
   },
   {
    "duration": 7,
    "start_time": "2022-05-09T15:56:18.219Z"
   },
   {
    "duration": 8,
    "start_time": "2022-05-09T15:56:33.842Z"
   },
   {
    "duration": 8,
    "start_time": "2022-05-09T15:56:37.649Z"
   },
   {
    "duration": 11,
    "start_time": "2022-05-09T15:57:56.247Z"
   },
   {
    "duration": 10,
    "start_time": "2022-05-09T15:58:09.407Z"
   },
   {
    "duration": 12,
    "start_time": "2022-05-09T15:59:40.440Z"
   },
   {
    "duration": 9,
    "start_time": "2022-05-09T16:00:03.102Z"
   },
   {
    "duration": 7,
    "start_time": "2022-05-09T16:05:44.994Z"
   },
   {
    "duration": 5,
    "start_time": "2022-05-09T16:11:52.283Z"
   },
   {
    "duration": 5,
    "start_time": "2022-05-09T16:11:56.837Z"
   },
   {
    "duration": 127,
    "start_time": "2022-05-09T16:12:43.719Z"
   },
   {
    "duration": 15,
    "start_time": "2022-05-09T16:12:50.169Z"
   },
   {
    "duration": 11,
    "start_time": "2022-05-09T16:13:02.743Z"
   },
   {
    "duration": 5,
    "start_time": "2022-05-09T16:13:34.365Z"
   },
   {
    "duration": 6,
    "start_time": "2022-05-09T16:13:46.364Z"
   },
   {
    "duration": 7,
    "start_time": "2022-05-09T16:13:52.887Z"
   },
   {
    "duration": 9,
    "start_time": "2022-05-09T16:14:10.898Z"
   },
   {
    "duration": 6,
    "start_time": "2022-05-09T16:14:19.161Z"
   },
   {
    "duration": 7,
    "start_time": "2022-05-09T16:14:24.194Z"
   },
   {
    "duration": 4,
    "start_time": "2022-05-09T16:14:42.854Z"
   },
   {
    "duration": 12,
    "start_time": "2022-05-09T16:17:48.858Z"
   },
   {
    "duration": 9,
    "start_time": "2022-05-09T16:18:12.239Z"
   },
   {
    "duration": 8,
    "start_time": "2022-05-09T16:18:19.352Z"
   },
   {
    "duration": 12,
    "start_time": "2022-05-09T16:18:34.354Z"
   },
   {
    "duration": 7,
    "start_time": "2022-05-09T16:19:11.206Z"
   },
   {
    "duration": 5,
    "start_time": "2022-05-09T16:19:12.562Z"
   },
   {
    "duration": 9,
    "start_time": "2022-05-09T16:19:31.734Z"
   },
   {
    "duration": 10,
    "start_time": "2022-05-09T16:19:41.811Z"
   },
   {
    "duration": 7,
    "start_time": "2022-05-09T16:19:49.733Z"
   },
   {
    "duration": 5,
    "start_time": "2022-05-09T16:19:52.530Z"
   },
   {
    "duration": 6,
    "start_time": "2022-05-09T16:19:56.367Z"
   },
   {
    "duration": 5,
    "start_time": "2022-05-09T16:20:30.348Z"
   },
   {
    "duration": 18,
    "start_time": "2022-05-09T16:20:54.383Z"
   },
   {
    "duration": 17,
    "start_time": "2022-05-09T16:21:05.574Z"
   },
   {
    "duration": 9,
    "start_time": "2022-05-09T16:21:14.548Z"
   },
   {
    "duration": 10,
    "start_time": "2022-05-09T16:21:35.192Z"
   },
   {
    "duration": 932,
    "start_time": "2022-05-09T16:21:58.952Z"
   },
   {
    "duration": 427,
    "start_time": "2022-05-09T16:22:12.773Z"
   },
   {
    "duration": 149,
    "start_time": "2022-05-09T16:27:03.894Z"
   },
   {
    "duration": 27,
    "start_time": "2022-05-09T16:27:08.529Z"
   },
   {
    "duration": 958,
    "start_time": "2022-05-09T16:27:27.829Z"
   },
   {
    "duration": 812,
    "start_time": "2022-05-09T16:27:49.921Z"
   },
   {
    "duration": 1183,
    "start_time": "2022-05-09T16:30:31.963Z"
   },
   {
    "duration": 1197,
    "start_time": "2022-05-09T16:30:43.173Z"
   },
   {
    "duration": 29,
    "start_time": "2022-05-09T16:30:58.996Z"
   },
   {
    "duration": 572,
    "start_time": "2022-05-09T16:31:11.326Z"
   },
   {
    "duration": 1276,
    "start_time": "2022-05-09T16:31:17.939Z"
   },
   {
    "duration": 1123,
    "start_time": "2022-05-09T16:32:59.305Z"
   },
   {
    "duration": 1084,
    "start_time": "2022-05-09T16:33:22.764Z"
   },
   {
    "duration": 27,
    "start_time": "2022-05-09T16:36:18.323Z"
   },
   {
    "duration": 24,
    "start_time": "2022-05-09T16:38:29.110Z"
   },
   {
    "duration": 1138,
    "start_time": "2022-05-09T16:41:07.987Z"
   },
   {
    "duration": 1202,
    "start_time": "2022-05-09T16:41:18.606Z"
   },
   {
    "duration": 1066,
    "start_time": "2022-05-09T16:42:59.037Z"
   },
   {
    "duration": 1087,
    "start_time": "2022-05-09T16:43:10.542Z"
   },
   {
    "duration": 1421,
    "start_time": "2022-05-09T16:43:50.963Z"
   },
   {
    "duration": 1381,
    "start_time": "2022-05-09T16:44:00.158Z"
   },
   {
    "duration": 1217,
    "start_time": "2022-05-09T16:44:25.193Z"
   },
   {
    "duration": 1272,
    "start_time": "2022-05-09T16:44:36.379Z"
   },
   {
    "duration": 1126,
    "start_time": "2022-05-09T16:44:57.574Z"
   },
   {
    "duration": 1199,
    "start_time": "2022-05-09T16:45:06.261Z"
   },
   {
    "duration": 1360,
    "start_time": "2022-05-09T16:45:14.109Z"
   },
   {
    "duration": 1317,
    "start_time": "2022-05-09T16:45:21.115Z"
   },
   {
    "duration": 1259,
    "start_time": "2022-05-09T16:46:05.554Z"
   },
   {
    "duration": 1316,
    "start_time": "2022-05-09T16:46:30.284Z"
   },
   {
    "duration": 1425,
    "start_time": "2022-05-09T16:46:39.642Z"
   },
   {
    "duration": 2334,
    "start_time": "2022-05-09T16:47:11.902Z"
   },
   {
    "duration": 1869,
    "start_time": "2022-05-09T16:47:22.058Z"
   },
   {
    "duration": 1484,
    "start_time": "2022-05-09T16:47:28.537Z"
   },
   {
    "duration": 1463,
    "start_time": "2022-05-09T16:47:40.377Z"
   },
   {
    "duration": 1599,
    "start_time": "2022-05-09T16:47:53.761Z"
   },
   {
    "duration": 1590,
    "start_time": "2022-05-09T16:48:04.076Z"
   },
   {
    "duration": 64,
    "start_time": "2022-05-09T17:01:20.847Z"
   },
   {
    "duration": 12,
    "start_time": "2022-05-09T17:01:34.095Z"
   },
   {
    "duration": 18,
    "start_time": "2022-05-09T17:03:21.181Z"
   },
   {
    "duration": 4,
    "start_time": "2022-05-09T17:03:32.035Z"
   },
   {
    "duration": 17,
    "start_time": "2022-05-09T17:03:32.041Z"
   },
   {
    "duration": 5,
    "start_time": "2022-05-09T17:03:32.061Z"
   },
   {
    "duration": 70,
    "start_time": "2022-05-09T17:03:32.068Z"
   },
   {
    "duration": 8,
    "start_time": "2022-05-09T17:03:32.141Z"
   },
   {
    "duration": 1348,
    "start_time": "2022-05-09T17:03:32.152Z"
   },
   {
    "duration": 9,
    "start_time": "2022-05-09T17:03:33.503Z"
   },
   {
    "duration": 21,
    "start_time": "2022-05-09T17:03:33.514Z"
   },
   {
    "duration": 17,
    "start_time": "2022-05-09T17:03:35.803Z"
   },
   {
    "duration": 7,
    "start_time": "2022-05-09T17:03:40.579Z"
   },
   {
    "duration": 6,
    "start_time": "2022-05-09T17:04:00.625Z"
   },
   {
    "duration": 5,
    "start_time": "2022-05-09T17:04:15.399Z"
   },
   {
    "duration": 6,
    "start_time": "2022-05-09T17:06:06.069Z"
   },
   {
    "duration": 11,
    "start_time": "2022-05-09T17:06:55.234Z"
   },
   {
    "duration": 23,
    "start_time": "2022-05-09T17:08:21.261Z"
   },
   {
    "duration": 11,
    "start_time": "2022-05-09T17:08:37.745Z"
   },
   {
    "duration": 13,
    "start_time": "2022-05-09T17:08:46.406Z"
   },
   {
    "duration": 19,
    "start_time": "2022-05-09T17:09:32.398Z"
   },
   {
    "duration": 24,
    "start_time": "2022-05-09T17:09:38.794Z"
   },
   {
    "duration": 12,
    "start_time": "2022-05-09T17:09:56.213Z"
   },
   {
    "duration": 12,
    "start_time": "2022-05-09T17:10:36.736Z"
   },
   {
    "duration": 16,
    "start_time": "2022-05-09T17:10:56.010Z"
   },
   {
    "duration": 14,
    "start_time": "2022-05-09T17:11:12.170Z"
   },
   {
    "duration": 13,
    "start_time": "2022-05-09T17:11:28.462Z"
   },
   {
    "duration": 18,
    "start_time": "2022-05-09T17:12:33.623Z"
   },
   {
    "duration": 74,
    "start_time": "2022-05-09T17:12:51.449Z"
   },
   {
    "duration": 14,
    "start_time": "2022-05-09T17:13:48.766Z"
   },
   {
    "duration": 14,
    "start_time": "2022-05-09T17:13:52.915Z"
   },
   {
    "duration": 13,
    "start_time": "2022-05-09T17:13:56.458Z"
   },
   {
    "duration": 19,
    "start_time": "2022-05-09T17:15:18.425Z"
   },
   {
    "duration": 6,
    "start_time": "2022-05-09T17:15:47.139Z"
   },
   {
    "duration": 72,
    "start_time": "2022-05-09T17:15:54.036Z"
   },
   {
    "duration": 15,
    "start_time": "2022-05-09T17:16:08.165Z"
   },
   {
    "duration": 12,
    "start_time": "2022-05-09T17:16:13.873Z"
   },
   {
    "duration": 12,
    "start_time": "2022-05-09T17:16:32.647Z"
   },
   {
    "duration": 6,
    "start_time": "2022-05-09T17:17:50.694Z"
   },
   {
    "duration": 5,
    "start_time": "2022-05-09T17:18:34.895Z"
   },
   {
    "duration": 5,
    "start_time": "2022-05-09T17:18:35.984Z"
   },
   {
    "duration": 4,
    "start_time": "2022-05-09T17:18:38.559Z"
   },
   {
    "duration": 6,
    "start_time": "2022-05-09T17:18:42.972Z"
   },
   {
    "duration": 11,
    "start_time": "2022-05-09T17:18:43.744Z"
   },
   {
    "duration": 8,
    "start_time": "2022-05-09T17:18:55.179Z"
   },
   {
    "duration": 6,
    "start_time": "2022-05-09T17:19:22.669Z"
   },
   {
    "duration": 17,
    "start_time": "2022-05-09T17:19:22.681Z"
   },
   {
    "duration": 6,
    "start_time": "2022-05-09T17:19:22.701Z"
   },
   {
    "duration": 83,
    "start_time": "2022-05-09T17:19:22.709Z"
   },
   {
    "duration": 9,
    "start_time": "2022-05-09T17:19:22.807Z"
   },
   {
    "duration": 1709,
    "start_time": "2022-05-09T17:19:22.820Z"
   },
   {
    "duration": 9,
    "start_time": "2022-05-09T17:19:24.531Z"
   },
   {
    "duration": 46,
    "start_time": "2022-05-09T17:19:24.542Z"
   },
   {
    "duration": 11,
    "start_time": "2022-05-09T17:19:31.090Z"
   },
   {
    "duration": 5,
    "start_time": "2022-05-09T17:19:32.074Z"
   },
   {
    "duration": 5,
    "start_time": "2022-05-09T17:19:33.059Z"
   },
   {
    "duration": 6,
    "start_time": "2022-05-09T17:19:36.938Z"
   },
   {
    "duration": 12,
    "start_time": "2022-05-09T17:19:39.507Z"
   },
   {
    "duration": 8,
    "start_time": "2022-05-09T17:19:43.528Z"
   },
   {
    "duration": 6,
    "start_time": "2022-05-09T17:19:49.616Z"
   },
   {
    "duration": 6,
    "start_time": "2022-05-09T17:20:01.537Z"
   },
   {
    "duration": 1833,
    "start_time": "2022-05-09T17:20:11.236Z"
   },
   {
    "duration": 16,
    "start_time": "2022-05-09T17:20:13.072Z"
   },
   {
    "duration": 9,
    "start_time": "2022-05-09T17:20:13.091Z"
   },
   {
    "duration": 60,
    "start_time": "2022-05-09T17:20:13.104Z"
   },
   {
    "duration": 11,
    "start_time": "2022-05-09T17:20:13.182Z"
   },
   {
    "duration": 1469,
    "start_time": "2022-05-09T17:20:13.195Z"
   },
   {
    "duration": 22,
    "start_time": "2022-05-09T17:20:14.666Z"
   },
   {
    "duration": 22,
    "start_time": "2022-05-09T17:20:14.690Z"
   },
   {
    "duration": 8,
    "start_time": "2022-05-09T17:20:14.714Z"
   },
   {
    "duration": 9,
    "start_time": "2022-05-09T17:20:14.726Z"
   },
   {
    "duration": 5,
    "start_time": "2022-05-09T17:20:17.384Z"
   },
   {
    "duration": 7,
    "start_time": "2022-05-09T17:20:23.143Z"
   },
   {
    "duration": 7,
    "start_time": "2022-05-09T17:20:33.232Z"
   },
   {
    "duration": 20,
    "start_time": "2022-05-09T17:20:40.397Z"
   },
   {
    "duration": 8,
    "start_time": "2022-05-09T17:20:46.920Z"
   },
   {
    "duration": 5,
    "start_time": "2022-05-09T17:20:53.497Z"
   },
   {
    "duration": 20,
    "start_time": "2022-05-09T17:20:58.379Z"
   },
   {
    "duration": 5,
    "start_time": "2022-05-09T17:47:23.701Z"
   },
   {
    "duration": 6,
    "start_time": "2022-05-09T17:47:25.117Z"
   },
   {
    "duration": 7,
    "start_time": "2022-05-09T17:47:28.422Z"
   },
   {
    "duration": 7,
    "start_time": "2022-05-09T17:47:51.405Z"
   },
   {
    "duration": 19,
    "start_time": "2022-05-09T17:47:52.872Z"
   },
   {
    "duration": 172,
    "start_time": "2022-05-09T17:48:21.877Z"
   },
   {
    "duration": 13,
    "start_time": "2022-05-09T17:48:31.407Z"
   },
   {
    "duration": 6,
    "start_time": "2022-05-09T17:49:10.432Z"
   },
   {
    "duration": 5,
    "start_time": "2022-05-09T17:49:11.308Z"
   },
   {
    "duration": 6,
    "start_time": "2022-05-09T17:49:12.332Z"
   },
   {
    "duration": 8,
    "start_time": "2022-05-09T17:49:22.698Z"
   },
   {
    "duration": 13,
    "start_time": "2022-05-09T17:49:56.155Z"
   },
   {
    "duration": 6,
    "start_time": "2022-05-09T17:49:58.550Z"
   },
   {
    "duration": 69,
    "start_time": "2022-05-09T17:49:59.099Z"
   },
   {
    "duration": 6,
    "start_time": "2022-05-09T17:50:39.863Z"
   },
   {
    "duration": 6,
    "start_time": "2022-05-09T17:50:43.135Z"
   },
   {
    "duration": 6,
    "start_time": "2022-05-09T17:50:46.485Z"
   },
   {
    "duration": 4,
    "start_time": "2022-05-09T17:51:02.619Z"
   },
   {
    "duration": 6,
    "start_time": "2022-05-09T17:51:34.292Z"
   },
   {
    "duration": 6,
    "start_time": "2022-05-09T17:51:47.423Z"
   },
   {
    "duration": 7,
    "start_time": "2022-05-09T17:51:50.821Z"
   },
   {
    "duration": 6,
    "start_time": "2022-05-09T17:52:04.570Z"
   },
   {
    "duration": 7,
    "start_time": "2022-05-09T17:52:15.143Z"
   },
   {
    "duration": 6,
    "start_time": "2022-05-09T17:52:54.227Z"
   },
   {
    "duration": 17,
    "start_time": "2022-05-09T17:55:50.099Z"
   },
   {
    "duration": 6,
    "start_time": "2022-05-09T17:56:05.759Z"
   },
   {
    "duration": 13,
    "start_time": "2022-05-09T17:56:18.098Z"
   },
   {
    "duration": 18,
    "start_time": "2022-05-09T17:56:28.876Z"
   },
   {
    "duration": 6,
    "start_time": "2022-05-09T17:56:49.046Z"
   },
   {
    "duration": 6,
    "start_time": "2022-05-09T17:56:56.858Z"
   },
   {
    "duration": 15,
    "start_time": "2022-05-09T17:57:43.639Z"
   },
   {
    "duration": 6,
    "start_time": "2022-05-09T17:57:48.188Z"
   },
   {
    "duration": 28,
    "start_time": "2022-05-09T17:57:48.198Z"
   },
   {
    "duration": 7,
    "start_time": "2022-05-09T17:57:48.229Z"
   },
   {
    "duration": 75,
    "start_time": "2022-05-09T17:57:48.239Z"
   },
   {
    "duration": 8,
    "start_time": "2022-05-09T17:57:48.316Z"
   },
   {
    "duration": 1541,
    "start_time": "2022-05-09T17:57:48.326Z"
   },
   {
    "duration": 22,
    "start_time": "2022-05-09T17:57:49.869Z"
   },
   {
    "duration": 27,
    "start_time": "2022-05-09T17:57:49.894Z"
   },
   {
    "duration": 6,
    "start_time": "2022-05-09T17:57:49.925Z"
   },
   {
    "duration": 5,
    "start_time": "2022-05-09T17:57:49.933Z"
   },
   {
    "duration": 9,
    "start_time": "2022-05-09T17:57:49.940Z"
   },
   {
    "duration": 41,
    "start_time": "2022-05-09T17:57:49.951Z"
   },
   {
    "duration": 16,
    "start_time": "2022-05-09T17:57:49.995Z"
   },
   {
    "duration": 12,
    "start_time": "2022-05-09T17:57:50.013Z"
   },
   {
    "duration": 16,
    "start_time": "2022-05-09T17:57:53.084Z"
   },
   {
    "duration": 6,
    "start_time": "2022-05-09T17:59:05.431Z"
   },
   {
    "duration": 5,
    "start_time": "2022-05-09T17:59:06.109Z"
   },
   {
    "duration": 14,
    "start_time": "2022-05-09T18:00:06.921Z"
   },
   {
    "duration": 7,
    "start_time": "2022-05-09T18:00:34.502Z"
   },
   {
    "duration": 8,
    "start_time": "2022-05-09T18:01:05.499Z"
   },
   {
    "duration": 13,
    "start_time": "2022-05-09T18:01:08.243Z"
   },
   {
    "duration": 11,
    "start_time": "2022-05-09T18:02:27.602Z"
   },
   {
    "duration": 1152,
    "start_time": "2022-05-09T18:02:39.319Z"
   },
   {
    "duration": 18,
    "start_time": "2022-05-09T18:02:45.024Z"
   },
   {
    "duration": 1712,
    "start_time": "2022-05-09T18:02:52.555Z"
   },
   {
    "duration": 13,
    "start_time": "2022-05-09T18:02:59.247Z"
   },
   {
    "duration": 23,
    "start_time": "2022-05-09T18:04:16.051Z"
   },
   {
    "duration": 22,
    "start_time": "2022-05-09T18:04:34.830Z"
   },
   {
    "duration": 2036,
    "start_time": "2022-05-09T18:04:49.210Z"
   },
   {
    "duration": 15,
    "start_time": "2022-05-09T18:04:51.249Z"
   },
   {
    "duration": 5,
    "start_time": "2022-05-09T18:04:51.266Z"
   },
   {
    "duration": 69,
    "start_time": "2022-05-09T18:04:51.274Z"
   },
   {
    "duration": 8,
    "start_time": "2022-05-09T18:04:51.346Z"
   },
   {
    "duration": 1366,
    "start_time": "2022-05-09T18:04:51.356Z"
   },
   {
    "duration": 10,
    "start_time": "2022-05-09T18:04:52.725Z"
   },
   {
    "duration": 26,
    "start_time": "2022-05-09T18:04:52.738Z"
   },
   {
    "duration": 18,
    "start_time": "2022-05-09T18:04:52.766Z"
   },
   {
    "duration": 16,
    "start_time": "2022-05-09T18:04:52.788Z"
   },
   {
    "duration": 12,
    "start_time": "2022-05-09T18:04:52.807Z"
   },
   {
    "duration": 72,
    "start_time": "2022-05-09T18:04:54.696Z"
   },
   {
    "duration": 14,
    "start_time": "2022-05-09T18:05:00.018Z"
   },
   {
    "duration": 183,
    "start_time": "2022-05-09T18:05:30.955Z"
   },
   {
    "duration": 14,
    "start_time": "2022-05-09T18:05:42.735Z"
   },
   {
    "duration": 15,
    "start_time": "2022-05-09T18:06:00.645Z"
   },
   {
    "duration": 6,
    "start_time": "2022-05-09T18:06:44.599Z"
   },
   {
    "duration": 9,
    "start_time": "2022-05-09T18:06:50.755Z"
   },
   {
    "duration": 21,
    "start_time": "2022-05-09T18:06:53.909Z"
   },
   {
    "duration": 12,
    "start_time": "2022-05-09T18:07:02.090Z"
   },
   {
    "duration": 8,
    "start_time": "2022-05-09T18:07:03.330Z"
   },
   {
    "duration": 16,
    "start_time": "2022-05-09T18:07:05.718Z"
   },
   {
    "duration": 5,
    "start_time": "2022-05-09T18:07:15.047Z"
   },
   {
    "duration": 6,
    "start_time": "2022-05-09T18:07:17.377Z"
   },
   {
    "duration": 5,
    "start_time": "2022-05-09T18:07:33.539Z"
   },
   {
    "duration": 6,
    "start_time": "2022-05-09T18:07:34.315Z"
   },
   {
    "duration": 5,
    "start_time": "2022-05-09T18:08:01.366Z"
   },
   {
    "duration": 15,
    "start_time": "2022-05-09T18:08:36.979Z"
   },
   {
    "duration": 6,
    "start_time": "2022-05-09T18:09:01.129Z"
   },
   {
    "duration": 6,
    "start_time": "2022-05-09T18:09:18.895Z"
   },
   {
    "duration": 7,
    "start_time": "2022-05-09T18:10:13.637Z"
   },
   {
    "duration": 6,
    "start_time": "2022-05-09T18:10:30.270Z"
   },
   {
    "duration": 8,
    "start_time": "2022-05-09T18:11:04.152Z"
   },
   {
    "duration": 7,
    "start_time": "2022-05-09T18:11:08.819Z"
   },
   {
    "duration": 23,
    "start_time": "2022-05-09T18:12:01.389Z"
   },
   {
    "duration": 11,
    "start_time": "2022-05-09T18:13:00.636Z"
   },
   {
    "duration": 32,
    "start_time": "2022-05-09T18:13:33.728Z"
   },
   {
    "duration": 26,
    "start_time": "2022-05-09T18:13:53.307Z"
   },
   {
    "duration": 16,
    "start_time": "2022-05-09T18:13:59.599Z"
   },
   {
    "duration": 6,
    "start_time": "2022-05-09T18:20:55.160Z"
   },
   {
    "duration": 5,
    "start_time": "2022-05-09T18:21:34.373Z"
   },
   {
    "duration": 15,
    "start_time": "2022-05-09T18:22:13.782Z"
   },
   {
    "duration": 12,
    "start_time": "2022-05-09T18:22:45.912Z"
   },
   {
    "duration": 14,
    "start_time": "2022-05-09T18:27:59.381Z"
   },
   {
    "duration": 1251,
    "start_time": "2022-05-09T18:29:00.132Z"
   },
   {
    "duration": 985,
    "start_time": "2022-05-09T18:29:22.231Z"
   },
   {
    "duration": 6,
    "start_time": "2022-05-09T18:29:40.174Z"
   },
   {
    "duration": 11,
    "start_time": "2022-05-09T18:29:45.928Z"
   },
   {
    "duration": 5,
    "start_time": "2022-05-09T18:29:55.900Z"
   },
   {
    "duration": 6,
    "start_time": "2022-05-09T18:30:15.998Z"
   },
   {
    "duration": 8,
    "start_time": "2022-05-09T18:30:29.321Z"
   },
   {
    "duration": 12,
    "start_time": "2022-05-09T18:31:23.909Z"
   },
   {
    "duration": 13,
    "start_time": "2022-05-09T18:31:55.379Z"
   },
   {
    "duration": 7,
    "start_time": "2022-05-09T18:32:08.999Z"
   },
   {
    "duration": 154,
    "start_time": "2022-05-09T18:32:10.341Z"
   },
   {
    "duration": 6,
    "start_time": "2022-05-09T18:32:28.810Z"
   },
   {
    "duration": 6,
    "start_time": "2022-05-09T18:32:49.929Z"
   },
   {
    "duration": 142,
    "start_time": "2022-05-09T18:32:55.655Z"
   },
   {
    "duration": 7,
    "start_time": "2022-05-09T18:39:42.350Z"
   },
   {
    "duration": 106,
    "start_time": "2022-05-09T18:40:20.134Z"
   },
   {
    "duration": 6,
    "start_time": "2022-05-09T18:40:43.310Z"
   },
   {
    "duration": 5,
    "start_time": "2022-05-09T18:40:50.138Z"
   },
   {
    "duration": 9,
    "start_time": "2022-05-09T18:41:53.795Z"
   },
   {
    "duration": 7,
    "start_time": "2022-05-09T18:42:02.196Z"
   },
   {
    "duration": 14,
    "start_time": "2022-05-09T18:42:22.552Z"
   },
   {
    "duration": 5,
    "start_time": "2022-05-09T18:45:31.067Z"
   },
   {
    "duration": 4,
    "start_time": "2022-05-09T18:46:45.554Z"
   },
   {
    "duration": 5,
    "start_time": "2022-05-09T18:46:46.210Z"
   },
   {
    "duration": 6,
    "start_time": "2022-05-09T18:47:13.395Z"
   },
   {
    "duration": 5,
    "start_time": "2022-05-09T18:54:48.711Z"
   },
   {
    "duration": 5,
    "start_time": "2022-05-09T18:54:53.416Z"
   },
   {
    "duration": 1852,
    "start_time": "2022-05-09T18:56:48.797Z"
   },
   {
    "duration": 20,
    "start_time": "2022-05-09T18:56:50.652Z"
   },
   {
    "duration": 6,
    "start_time": "2022-05-09T18:56:50.674Z"
   },
   {
    "duration": 82,
    "start_time": "2022-05-09T18:56:50.683Z"
   },
   {
    "duration": 9,
    "start_time": "2022-05-09T18:56:50.767Z"
   },
   {
    "duration": 1345,
    "start_time": "2022-05-09T18:56:50.790Z"
   },
   {
    "duration": 9,
    "start_time": "2022-05-09T18:56:52.137Z"
   },
   {
    "duration": 48,
    "start_time": "2022-05-09T18:56:52.148Z"
   },
   {
    "duration": 6,
    "start_time": "2022-05-09T18:56:52.199Z"
   },
   {
    "duration": 13,
    "start_time": "2022-05-09T18:56:52.208Z"
   },
   {
    "duration": 11,
    "start_time": "2022-05-09T18:56:52.223Z"
   },
   {
    "duration": 22,
    "start_time": "2022-05-09T18:56:52.236Z"
   },
   {
    "duration": 56,
    "start_time": "2022-05-09T18:56:52.260Z"
   },
   {
    "duration": 4,
    "start_time": "2022-05-09T18:56:52.319Z"
   },
   {
    "duration": 97,
    "start_time": "2022-05-09T18:56:52.325Z"
   },
   {
    "duration": 5,
    "start_time": "2022-05-09T18:56:52.424Z"
   },
   {
    "duration": 7,
    "start_time": "2022-05-09T18:56:52.431Z"
   },
   {
    "duration": 197,
    "start_time": "2022-05-09T18:56:56.395Z"
   },
   {
    "duration": 128,
    "start_time": "2022-05-09T18:57:25.258Z"
   },
   {
    "duration": 5,
    "start_time": "2022-05-09T18:58:31.022Z"
   },
   {
    "duration": 5,
    "start_time": "2022-05-09T18:58:31.497Z"
   },
   {
    "duration": 7,
    "start_time": "2022-05-09T18:58:36.429Z"
   },
   {
    "duration": 13,
    "start_time": "2022-05-09T18:58:50.583Z"
   },
   {
    "duration": 165,
    "start_time": "2022-05-09T18:59:06.536Z"
   },
   {
    "duration": 7,
    "start_time": "2022-05-09T18:59:12.137Z"
   },
   {
    "duration": 13,
    "start_time": "2022-05-09T18:59:18.695Z"
   },
   {
    "duration": 7,
    "start_time": "2022-05-09T18:59:29.329Z"
   },
   {
    "duration": 6,
    "start_time": "2022-05-09T18:59:36.542Z"
   },
   {
    "duration": 5,
    "start_time": "2022-05-09T19:00:58.203Z"
   },
   {
    "duration": 4,
    "start_time": "2022-05-09T19:00:59.163Z"
   },
   {
    "duration": 7,
    "start_time": "2022-05-09T19:01:09.196Z"
   },
   {
    "duration": 14,
    "start_time": "2022-05-09T19:01:20.789Z"
   },
   {
    "duration": 10,
    "start_time": "2022-05-09T19:01:25.404Z"
   },
   {
    "duration": 4,
    "start_time": "2022-05-09T19:01:41.535Z"
   },
   {
    "duration": 5,
    "start_time": "2022-05-09T19:01:42.139Z"
   },
   {
    "duration": 6,
    "start_time": "2022-05-09T19:01:43.245Z"
   },
   {
    "duration": 14,
    "start_time": "2022-05-09T19:01:46.828Z"
   },
   {
    "duration": 38,
    "start_time": "2022-05-09T19:01:54.644Z"
   },
   {
    "duration": 7,
    "start_time": "2022-05-09T19:02:11.476Z"
   },
   {
    "duration": 12,
    "start_time": "2022-05-09T19:06:33.252Z"
   },
   {
    "duration": 11,
    "start_time": "2022-05-09T19:06:54.095Z"
   },
   {
    "duration": 20817,
    "start_time": "2022-05-09T19:07:36.633Z"
   },
   {
    "duration": 397,
    "start_time": "2022-05-09T19:08:01.109Z"
   },
   {
    "duration": 408,
    "start_time": "2022-05-09T19:08:15.841Z"
   },
   {
    "duration": 385,
    "start_time": "2022-05-09T19:09:04.546Z"
   },
   {
    "duration": 12,
    "start_time": "2022-05-09T19:10:24.939Z"
   },
   {
    "duration": 25526,
    "start_time": "2022-05-09T19:11:39.296Z"
   },
   {
    "duration": 23,
    "start_time": "2022-05-09T19:12:39.042Z"
   },
   {
    "duration": 18,
    "start_time": "2022-05-09T19:13:22.596Z"
   },
   {
    "duration": 17,
    "start_time": "2022-05-09T19:13:48.723Z"
   },
   {
    "duration": 17132,
    "start_time": "2022-05-09T19:14:40.598Z"
   },
   {
    "duration": 1363,
    "start_time": "2022-05-09T19:15:14.159Z"
   },
   {
    "duration": 1292,
    "start_time": "2022-05-09T19:15:43.365Z"
   },
   {
    "duration": 2499,
    "start_time": "2022-05-09T19:15:56.529Z"
   },
   {
    "duration": 1126,
    "start_time": "2022-05-09T19:16:01.795Z"
   },
   {
    "duration": 1303,
    "start_time": "2022-05-09T19:16:09.853Z"
   },
   {
    "duration": 1331,
    "start_time": "2022-05-09T19:16:24.399Z"
   },
   {
    "duration": 1324,
    "start_time": "2022-05-09T19:16:29.157Z"
   },
   {
    "duration": 7,
    "start_time": "2022-05-09T19:17:27.464Z"
   },
   {
    "duration": 15,
    "start_time": "2022-05-09T19:18:02.173Z"
   },
   {
    "duration": 3,
    "start_time": "2022-05-09T19:18:07.859Z"
   },
   {
    "duration": 18,
    "start_time": "2022-05-09T19:18:11.132Z"
   },
   {
    "duration": 1386,
    "start_time": "2022-05-09T19:18:51.636Z"
   },
   {
    "duration": 1295,
    "start_time": "2022-05-09T19:19:12.950Z"
   },
   {
    "duration": 1158,
    "start_time": "2022-05-09T19:21:15.047Z"
   },
   {
    "duration": 20,
    "start_time": "2022-05-09T19:24:27.443Z"
   },
   {
    "duration": 5,
    "start_time": "2022-05-09T19:24:32.570Z"
   },
   {
    "duration": 5,
    "start_time": "2022-05-09T19:24:33.137Z"
   },
   {
    "duration": 7,
    "start_time": "2022-05-09T19:24:33.779Z"
   },
   {
    "duration": 6,
    "start_time": "2022-05-09T19:24:34.509Z"
   },
   {
    "duration": 1674,
    "start_time": "2022-05-09T19:25:04.411Z"
   },
   {
    "duration": 1321,
    "start_time": "2022-05-09T19:26:04.799Z"
   },
   {
    "duration": 141,
    "start_time": "2022-05-09T19:37:02.339Z"
   },
   {
    "duration": 151,
    "start_time": "2022-05-09T19:37:09.059Z"
   },
   {
    "duration": 150,
    "start_time": "2022-05-09T19:37:14.958Z"
   },
   {
    "duration": 132,
    "start_time": "2022-05-09T19:37:34.408Z"
   },
   {
    "duration": 1914,
    "start_time": "2022-05-09T19:55:41.243Z"
   },
   {
    "duration": 7,
    "start_time": "2022-05-09T19:56:04.750Z"
   },
   {
    "duration": 4,
    "start_time": "2022-05-09T19:57:14.269Z"
   },
   {
    "duration": 7,
    "start_time": "2022-05-09T19:57:22.739Z"
   },
   {
    "duration": 6,
    "start_time": "2022-05-09T19:57:28.935Z"
   },
   {
    "duration": 6,
    "start_time": "2022-05-09T19:59:14.176Z"
   },
   {
    "duration": 8,
    "start_time": "2022-05-09T20:00:14.743Z"
   },
   {
    "duration": 6,
    "start_time": "2022-05-09T20:01:28.920Z"
   },
   {
    "duration": 6,
    "start_time": "2022-05-09T20:05:26.768Z"
   },
   {
    "duration": 7,
    "start_time": "2022-05-09T20:05:34.464Z"
   },
   {
    "duration": 6,
    "start_time": "2022-05-09T20:05:38.224Z"
   },
   {
    "duration": 6,
    "start_time": "2022-05-09T20:06:45.782Z"
   },
   {
    "duration": 6,
    "start_time": "2022-05-09T20:07:05.054Z"
   },
   {
    "duration": 11,
    "start_time": "2022-05-09T20:07:22.242Z"
   },
   {
    "duration": 6,
    "start_time": "2022-05-09T20:07:26.650Z"
   },
   {
    "duration": 11,
    "start_time": "2022-05-09T20:08:33.975Z"
   },
   {
    "duration": 9,
    "start_time": "2022-05-09T20:09:34.384Z"
   },
   {
    "duration": 14,
    "start_time": "2022-05-09T20:09:48.467Z"
   },
   {
    "duration": 7,
    "start_time": "2022-05-09T20:10:36.179Z"
   },
   {
    "duration": 12,
    "start_time": "2022-05-09T20:10:45.108Z"
   },
   {
    "duration": 12,
    "start_time": "2022-05-09T20:11:01.363Z"
   },
   {
    "duration": 13,
    "start_time": "2022-05-09T20:11:22.544Z"
   },
   {
    "duration": 129,
    "start_time": "2022-05-09T20:12:09.146Z"
   },
   {
    "duration": 12,
    "start_time": "2022-05-09T20:12:25.465Z"
   },
   {
    "duration": 167,
    "start_time": "2022-05-09T20:12:56.323Z"
   },
   {
    "duration": 9132,
    "start_time": "2022-05-09T20:14:00.652Z"
   },
   {
    "duration": 184,
    "start_time": "2022-05-09T20:14:18.402Z"
   },
   {
    "duration": 13,
    "start_time": "2022-05-09T20:17:05.511Z"
   },
   {
    "duration": 98,
    "start_time": "2022-05-09T20:17:28.789Z"
   },
   {
    "duration": 142,
    "start_time": "2022-05-09T20:19:37.642Z"
   },
   {
    "duration": 204,
    "start_time": "2022-05-09T20:19:52.281Z"
   },
   {
    "duration": 6,
    "start_time": "2022-05-09T20:20:33.269Z"
   },
   {
    "duration": 2014,
    "start_time": "2022-05-09T22:25:38.456Z"
   },
   {
    "duration": 21,
    "start_time": "2022-05-09T22:25:40.473Z"
   },
   {
    "duration": 6,
    "start_time": "2022-05-09T22:25:43.355Z"
   },
   {
    "duration": 101,
    "start_time": "2022-05-09T22:25:44.094Z"
   },
   {
    "duration": 5,
    "start_time": "2022-05-09T22:26:05.575Z"
   },
   {
    "duration": 12,
    "start_time": "2022-05-09T22:26:10.923Z"
   },
   {
    "duration": 8,
    "start_time": "2022-05-09T22:26:16.086Z"
   },
   {
    "duration": 4,
    "start_time": "2022-05-09T22:27:48.175Z"
   },
   {
    "duration": 14,
    "start_time": "2022-05-09T22:27:48.190Z"
   },
   {
    "duration": 6,
    "start_time": "2022-05-09T22:27:48.207Z"
   },
   {
    "duration": 55,
    "start_time": "2022-05-09T22:27:48.216Z"
   },
   {
    "duration": 10,
    "start_time": "2022-05-09T22:27:48.274Z"
   },
   {
    "duration": 1359,
    "start_time": "2022-05-09T22:27:48.289Z"
   },
   {
    "duration": 11,
    "start_time": "2022-05-09T22:27:49.653Z"
   },
   {
    "duration": 24,
    "start_time": "2022-05-09T22:27:49.667Z"
   },
   {
    "duration": 6,
    "start_time": "2022-05-09T22:27:49.694Z"
   },
   {
    "duration": 6,
    "start_time": "2022-05-09T22:27:49.703Z"
   },
   {
    "duration": 45,
    "start_time": "2022-05-09T22:27:49.711Z"
   },
   {
    "duration": 13,
    "start_time": "2022-05-09T22:27:49.759Z"
   },
   {
    "duration": 43,
    "start_time": "2022-05-09T22:27:49.774Z"
   },
   {
    "duration": 36,
    "start_time": "2022-05-09T22:27:49.819Z"
   },
   {
    "duration": 86,
    "start_time": "2022-05-09T22:28:35.775Z"
   },
   {
    "duration": 19,
    "start_time": "2022-05-09T22:29:18.285Z"
   },
   {
    "duration": 90,
    "start_time": "2022-05-09T22:32:22.848Z"
   },
   {
    "duration": 156,
    "start_time": "2022-05-09T22:32:51.957Z"
   },
   {
    "duration": 583,
    "start_time": "2022-05-09T22:33:04.962Z"
   },
   {
    "duration": 1109,
    "start_time": "2022-05-09T22:33:23.399Z"
   },
   {
    "duration": 84,
    "start_time": "2022-05-09T22:33:35.177Z"
   },
   {
    "duration": 180,
    "start_time": "2022-05-09T22:33:43.234Z"
   },
   {
    "duration": 1107,
    "start_time": "2022-05-09T22:34:00.562Z"
   },
   {
    "duration": 1066,
    "start_time": "2022-05-09T22:34:05.856Z"
   },
   {
    "duration": 1115,
    "start_time": "2022-05-09T22:35:32.762Z"
   },
   {
    "duration": 1306,
    "start_time": "2022-05-09T22:35:35.503Z"
   },
   {
    "duration": 1214,
    "start_time": "2022-05-09T22:36:03.517Z"
   },
   {
    "duration": 1616,
    "start_time": "2022-05-09T22:36:08.466Z"
   },
   {
    "duration": 1068,
    "start_time": "2022-05-09T22:36:17.764Z"
   },
   {
    "duration": 1153,
    "start_time": "2022-05-09T22:36:50.069Z"
   },
   {
    "duration": 5,
    "start_time": "2022-05-09T22:40:39.757Z"
   },
   {
    "duration": 17,
    "start_time": "2022-05-09T22:40:42.961Z"
   },
   {
    "duration": 17,
    "start_time": "2022-05-09T22:41:01.067Z"
   },
   {
    "duration": 18,
    "start_time": "2022-05-09T22:41:25.878Z"
   },
   {
    "duration": 18,
    "start_time": "2022-05-09T22:41:33.636Z"
   },
   {
    "duration": 5,
    "start_time": "2022-05-09T22:42:51.468Z"
   },
   {
    "duration": 12,
    "start_time": "2022-05-09T22:42:52.113Z"
   },
   {
    "duration": 11,
    "start_time": "2022-05-09T22:42:59.946Z"
   },
   {
    "duration": 17,
    "start_time": "2022-05-09T22:43:10.272Z"
   },
   {
    "duration": 6,
    "start_time": "2022-05-09T22:55:40.478Z"
   },
   {
    "duration": 113,
    "start_time": "2022-05-09T22:56:04.958Z"
   },
   {
    "duration": 111,
    "start_time": "2022-05-09T22:56:22.641Z"
   },
   {
    "duration": 8,
    "start_time": "2022-05-09T22:56:31.856Z"
   },
   {
    "duration": 30,
    "start_time": "2022-05-09T22:56:57.330Z"
   },
   {
    "duration": 51,
    "start_time": "2022-05-09T22:57:29.403Z"
   },
   {
    "duration": 11,
    "start_time": "2022-05-10T00:08:31.512Z"
   },
   {
    "duration": 13,
    "start_time": "2022-05-10T00:12:01.455Z"
   },
   {
    "duration": 13,
    "start_time": "2022-05-10T00:12:05.841Z"
   },
   {
    "duration": 7,
    "start_time": "2022-05-10T00:12:14.801Z"
   },
   {
    "duration": 6,
    "start_time": "2022-05-10T00:12:23.398Z"
   },
   {
    "duration": 6,
    "start_time": "2022-05-10T00:12:38.979Z"
   },
   {
    "duration": 6,
    "start_time": "2022-05-10T00:12:45.699Z"
   },
   {
    "duration": 11,
    "start_time": "2022-05-10T00:12:50.185Z"
   },
   {
    "duration": 5,
    "start_time": "2022-05-10T00:12:57.254Z"
   },
   {
    "duration": 7,
    "start_time": "2022-05-10T00:12:59.344Z"
   },
   {
    "duration": 7,
    "start_time": "2022-05-10T00:13:12.117Z"
   },
   {
    "duration": 11,
    "start_time": "2022-05-10T00:13:43.658Z"
   },
   {
    "duration": 65,
    "start_time": "2022-05-10T21:47:44.208Z"
   },
   {
    "duration": 1875,
    "start_time": "2022-05-10T21:47:49.382Z"
   },
   {
    "duration": 31,
    "start_time": "2022-05-10T21:47:51.259Z"
   },
   {
    "duration": 5,
    "start_time": "2022-05-10T21:47:51.292Z"
   },
   {
    "duration": 54,
    "start_time": "2022-05-10T21:47:51.299Z"
   },
   {
    "duration": 7,
    "start_time": "2022-05-10T21:47:51.357Z"
   },
   {
    "duration": 950,
    "start_time": "2022-05-10T21:47:51.366Z"
   },
   {
    "duration": 13,
    "start_time": "2022-05-10T21:47:52.318Z"
   },
   {
    "duration": 15,
    "start_time": "2022-05-10T21:47:52.333Z"
   },
   {
    "duration": 5,
    "start_time": "2022-05-10T21:47:52.350Z"
   },
   {
    "duration": 5,
    "start_time": "2022-05-10T21:47:52.357Z"
   },
   {
    "duration": 6,
    "start_time": "2022-05-10T21:47:52.364Z"
   },
   {
    "duration": 50,
    "start_time": "2022-05-10T21:47:54.677Z"
   },
   {
    "duration": 27,
    "start_time": "2022-05-10T21:48:02.878Z"
   },
   {
    "duration": 1019,
    "start_time": "2022-05-10T21:48:06.692Z"
   },
   {
    "duration": 29,
    "start_time": "2022-05-10T21:52:06.442Z"
   },
   {
    "duration": 10,
    "start_time": "2022-05-10T21:53:52.201Z"
   },
   {
    "duration": 18,
    "start_time": "2022-05-10T21:56:24.803Z"
   },
   {
    "duration": 109,
    "start_time": "2022-05-10T21:57:52.657Z"
   },
   {
    "duration": 30,
    "start_time": "2022-05-10T21:58:47.018Z"
   },
   {
    "duration": 5,
    "start_time": "2022-05-10T22:00:58.894Z"
   },
   {
    "duration": 97,
    "start_time": "2022-05-10T22:04:02.054Z"
   },
   {
    "duration": 103,
    "start_time": "2022-05-10T22:04:16.626Z"
   },
   {
    "duration": 12,
    "start_time": "2022-05-10T22:04:36.663Z"
   },
   {
    "duration": 12,
    "start_time": "2022-05-10T22:05:20.370Z"
   },
   {
    "duration": 79,
    "start_time": "2022-05-10T22:05:57.146Z"
   },
   {
    "duration": 13,
    "start_time": "2022-05-10T22:06:09.180Z"
   },
   {
    "duration": 1679,
    "start_time": "2022-05-10T22:06:49.288Z"
   },
   {
    "duration": 29,
    "start_time": "2022-05-10T22:06:50.969Z"
   },
   {
    "duration": 4,
    "start_time": "2022-05-10T22:06:50.999Z"
   },
   {
    "duration": 50,
    "start_time": "2022-05-10T22:06:51.005Z"
   },
   {
    "duration": 7,
    "start_time": "2022-05-10T22:06:51.058Z"
   },
   {
    "duration": 870,
    "start_time": "2022-05-10T22:06:51.067Z"
   },
   {
    "duration": 16,
    "start_time": "2022-05-10T22:06:51.938Z"
   },
   {
    "duration": 17,
    "start_time": "2022-05-10T22:06:51.957Z"
   },
   {
    "duration": 5,
    "start_time": "2022-05-10T22:06:51.976Z"
   },
   {
    "duration": 11,
    "start_time": "2022-05-10T22:06:51.983Z"
   },
   {
    "duration": 6,
    "start_time": "2022-05-10T22:06:51.996Z"
   },
   {
    "duration": 69,
    "start_time": "2022-05-10T22:06:52.004Z"
   },
   {
    "duration": 26,
    "start_time": "2022-05-10T22:06:52.075Z"
   },
   {
    "duration": 953,
    "start_time": "2022-05-10T22:06:52.130Z"
   },
   {
    "duration": 4,
    "start_time": "2022-05-10T22:06:53.085Z"
   },
   {
    "duration": 9,
    "start_time": "2022-05-10T22:06:53.090Z"
   },
   {
    "duration": 147,
    "start_time": "2022-05-10T22:06:53.100Z"
   },
   {
    "duration": 101,
    "start_time": "2022-05-10T22:06:53.249Z"
   },
   {
    "duration": 206,
    "start_time": "2022-05-10T22:06:53.356Z"
   },
   {
    "duration": 13,
    "start_time": "2022-05-10T22:06:53.641Z"
   },
   {
    "duration": 29,
    "start_time": "2022-05-10T22:06:53.725Z"
   },
   {
    "duration": 79,
    "start_time": "2022-05-10T22:06:53.761Z"
   },
   {
    "duration": 171,
    "start_time": "2022-05-10T22:06:53.851Z"
   },
   {
    "duration": 11,
    "start_time": "2022-05-10T22:07:22.109Z"
   },
   {
    "duration": 11,
    "start_time": "2022-05-10T22:07:22.882Z"
   },
   {
    "duration": 281,
    "start_time": "2022-05-10T22:09:23.859Z"
   },
   {
    "duration": 5,
    "start_time": "2022-05-10T22:10:24.901Z"
   },
   {
    "duration": 6,
    "start_time": "2022-05-10T22:10:42.912Z"
   },
   {
    "duration": 9,
    "start_time": "2022-05-10T22:11:12.491Z"
   },
   {
    "duration": 5,
    "start_time": "2022-05-10T22:11:23.079Z"
   },
   {
    "duration": 5,
    "start_time": "2022-05-10T22:13:06.465Z"
   },
   {
    "duration": 1565,
    "start_time": "2022-05-10T22:15:38.844Z"
   },
   {
    "duration": 24,
    "start_time": "2022-05-10T22:15:40.412Z"
   },
   {
    "duration": 5,
    "start_time": "2022-05-10T22:15:40.440Z"
   },
   {
    "duration": 39,
    "start_time": "2022-05-10T22:15:40.453Z"
   },
   {
    "duration": 7,
    "start_time": "2022-05-10T22:15:40.494Z"
   },
   {
    "duration": 886,
    "start_time": "2022-05-10T22:15:40.503Z"
   },
   {
    "duration": 7,
    "start_time": "2022-05-10T22:15:41.391Z"
   },
   {
    "duration": 27,
    "start_time": "2022-05-10T22:15:41.399Z"
   },
   {
    "duration": 5,
    "start_time": "2022-05-10T22:15:41.428Z"
   },
   {
    "duration": 15,
    "start_time": "2022-05-10T22:15:41.440Z"
   },
   {
    "duration": 19,
    "start_time": "2022-05-10T22:15:41.459Z"
   },
   {
    "duration": 64,
    "start_time": "2022-05-10T22:15:41.480Z"
   },
   {
    "duration": 28,
    "start_time": "2022-05-10T22:15:41.546Z"
   },
   {
    "duration": 935,
    "start_time": "2022-05-10T22:15:41.576Z"
   },
   {
    "duration": 4,
    "start_time": "2022-05-10T22:15:42.513Z"
   },
   {
    "duration": 28,
    "start_time": "2022-05-10T22:15:42.519Z"
   },
   {
    "duration": 77,
    "start_time": "2022-05-10T22:15:42.551Z"
   },
   {
    "duration": 95,
    "start_time": "2022-05-10T22:15:42.629Z"
   },
   {
    "duration": 31,
    "start_time": "2022-05-10T22:15:42.726Z"
   },
   {
    "duration": 17,
    "start_time": "2022-05-10T22:15:42.831Z"
   },
   {
    "duration": 177,
    "start_time": "2022-05-10T22:15:42.850Z"
   },
   {
    "duration": 98,
    "start_time": "2022-05-10T22:15:43.029Z"
   },
   {
    "duration": 32,
    "start_time": "2022-05-10T22:15:43.129Z"
   },
   {
    "duration": 86,
    "start_time": "2022-05-10T22:15:43.163Z"
   },
   {
    "duration": 89,
    "start_time": "2022-05-10T22:15:43.257Z"
   },
   {
    "duration": 84,
    "start_time": "2022-05-10T22:15:43.354Z"
   },
   {
    "duration": 76,
    "start_time": "2022-05-10T22:15:43.452Z"
   },
   {
    "duration": 83,
    "start_time": "2022-05-10T22:15:43.549Z"
   },
   {
    "duration": 10,
    "start_time": "2022-05-10T22:20:09.400Z"
   },
   {
    "duration": 191,
    "start_time": "2022-05-10T22:26:29.643Z"
   },
   {
    "duration": 31,
    "start_time": "2022-05-10T22:26:35.726Z"
   },
   {
    "duration": 9,
    "start_time": "2022-05-10T22:27:57.241Z"
   },
   {
    "duration": 5,
    "start_time": "2022-05-10T22:28:00.686Z"
   },
   {
    "duration": 138,
    "start_time": "2022-05-10T22:28:01.515Z"
   },
   {
    "duration": 5,
    "start_time": "2022-05-10T22:29:35.112Z"
   },
   {
    "duration": 18,
    "start_time": "2022-05-10T22:29:36.013Z"
   },
   {
    "duration": 6,
    "start_time": "2022-05-10T22:31:29.052Z"
   },
   {
    "duration": 16,
    "start_time": "2022-05-10T22:31:29.946Z"
   },
   {
    "duration": 5,
    "start_time": "2022-05-10T22:32:18.762Z"
   },
   {
    "duration": 125,
    "start_time": "2022-05-10T22:32:21.229Z"
   },
   {
    "duration": 6,
    "start_time": "2022-05-10T22:33:08.923Z"
   },
   {
    "duration": 26,
    "start_time": "2022-05-10T22:33:11.326Z"
   },
   {
    "duration": 5,
    "start_time": "2022-05-10T22:33:23.482Z"
   },
   {
    "duration": 18,
    "start_time": "2022-05-10T22:33:26.215Z"
   },
   {
    "duration": 7,
    "start_time": "2022-05-10T22:36:17.386Z"
   },
   {
    "duration": 16,
    "start_time": "2022-05-10T22:36:20.052Z"
   },
   {
    "duration": 6,
    "start_time": "2022-05-10T22:36:43.502Z"
   },
   {
    "duration": 17,
    "start_time": "2022-05-10T22:36:46.103Z"
   },
   {
    "duration": 7,
    "start_time": "2022-05-10T22:37:12.791Z"
   },
   {
    "duration": 15,
    "start_time": "2022-05-10T22:37:15.400Z"
   },
   {
    "duration": 5,
    "start_time": "2022-05-10T22:37:51.254Z"
   },
   {
    "duration": 32,
    "start_time": "2022-05-10T22:37:54.101Z"
   },
   {
    "duration": 6,
    "start_time": "2022-05-10T22:38:17.102Z"
   },
   {
    "duration": 66,
    "start_time": "2022-05-10T22:38:19.762Z"
   },
   {
    "duration": 6,
    "start_time": "2022-05-10T22:38:32.850Z"
   },
   {
    "duration": 17,
    "start_time": "2022-05-10T22:38:35.513Z"
   },
   {
    "duration": 10,
    "start_time": "2022-05-10T22:38:43.741Z"
   },
   {
    "duration": 8,
    "start_time": "2022-05-10T22:38:46.390Z"
   },
   {
    "duration": 4,
    "start_time": "2022-05-10T22:39:41.577Z"
   },
   {
    "duration": 165,
    "start_time": "2022-05-10T22:39:44.166Z"
   },
   {
    "duration": 7,
    "start_time": "2022-05-10T22:40:08.620Z"
   },
   {
    "duration": 10,
    "start_time": "2022-05-10T22:40:11.078Z"
   },
   {
    "duration": 4,
    "start_time": "2022-05-10T22:43:47.691Z"
   },
   {
    "duration": 9,
    "start_time": "2022-05-10T22:44:23.026Z"
   },
   {
    "duration": 11,
    "start_time": "2022-05-10T22:46:06.168Z"
   },
   {
    "duration": 5,
    "start_time": "2022-05-10T22:46:09.156Z"
   },
   {
    "duration": 13,
    "start_time": "2022-05-10T22:46:09.702Z"
   },
   {
    "duration": 37,
    "start_time": "2022-05-10T22:46:31.617Z"
   },
   {
    "duration": 4,
    "start_time": "2022-05-10T22:57:09.817Z"
   },
   {
    "duration": 10,
    "start_time": "2022-05-10T22:58:17.465Z"
   },
   {
    "duration": 1647,
    "start_time": "2022-05-10T23:01:53.326Z"
   },
   {
    "duration": 18,
    "start_time": "2022-05-10T23:01:54.975Z"
   },
   {
    "duration": 4,
    "start_time": "2022-05-10T23:01:54.994Z"
   },
   {
    "duration": 44,
    "start_time": "2022-05-10T23:01:55.000Z"
   },
   {
    "duration": 6,
    "start_time": "2022-05-10T23:01:55.046Z"
   },
   {
    "duration": 805,
    "start_time": "2022-05-10T23:01:55.053Z"
   },
   {
    "duration": 6,
    "start_time": "2022-05-10T23:01:55.860Z"
   },
   {
    "duration": 20,
    "start_time": "2022-05-10T23:01:55.868Z"
   },
   {
    "duration": 8,
    "start_time": "2022-05-10T23:01:55.890Z"
   },
   {
    "duration": 11,
    "start_time": "2022-05-10T23:01:55.900Z"
   },
   {
    "duration": 23,
    "start_time": "2022-05-10T23:01:55.913Z"
   },
   {
    "duration": 56,
    "start_time": "2022-05-10T23:01:55.937Z"
   },
   {
    "duration": 26,
    "start_time": "2022-05-10T23:01:55.995Z"
   },
   {
    "duration": 936,
    "start_time": "2022-05-10T23:01:56.027Z"
   },
   {
    "duration": 2,
    "start_time": "2022-05-10T23:01:56.965Z"
   },
   {
    "duration": 15,
    "start_time": "2022-05-10T23:01:56.969Z"
   },
   {
    "duration": 21,
    "start_time": "2022-05-10T23:01:56.985Z"
   },
   {
    "duration": 119,
    "start_time": "2022-05-10T23:01:57.008Z"
   },
   {
    "duration": 97,
    "start_time": "2022-05-10T23:01:57.129Z"
   },
   {
    "duration": 11,
    "start_time": "2022-05-10T23:01:57.232Z"
   },
   {
    "duration": 178,
    "start_time": "2022-05-10T23:01:57.245Z"
   },
   {
    "duration": 101,
    "start_time": "2022-05-10T23:01:57.425Z"
   },
   {
    "duration": 12,
    "start_time": "2022-05-10T23:01:57.529Z"
   },
   {
    "duration": 99,
    "start_time": "2022-05-10T23:01:57.544Z"
   },
   {
    "duration": 96,
    "start_time": "2022-05-10T23:01:57.645Z"
   },
   {
    "duration": 280,
    "start_time": "2022-05-10T23:01:57.747Z"
   },
   {
    "duration": 0,
    "start_time": "2022-05-10T23:01:58.029Z"
   },
   {
    "duration": 0,
    "start_time": "2022-05-10T23:01:58.031Z"
   },
   {
    "duration": 0,
    "start_time": "2022-05-10T23:01:58.032Z"
   },
   {
    "duration": 0,
    "start_time": "2022-05-10T23:01:58.034Z"
   },
   {
    "duration": 0,
    "start_time": "2022-05-10T23:01:58.035Z"
   },
   {
    "duration": 0,
    "start_time": "2022-05-10T23:01:58.036Z"
   },
   {
    "duration": 0,
    "start_time": "2022-05-10T23:01:58.037Z"
   },
   {
    "duration": 6,
    "start_time": "2022-05-10T23:02:30.350Z"
   },
   {
    "duration": 1557,
    "start_time": "2022-05-10T23:02:51.729Z"
   },
   {
    "duration": 19,
    "start_time": "2022-05-10T23:02:53.289Z"
   },
   {
    "duration": 6,
    "start_time": "2022-05-10T23:02:53.309Z"
   },
   {
    "duration": 52,
    "start_time": "2022-05-10T23:02:53.316Z"
   },
   {
    "duration": 6,
    "start_time": "2022-05-10T23:02:53.370Z"
   },
   {
    "duration": 796,
    "start_time": "2022-05-10T23:02:53.377Z"
   },
   {
    "duration": 8,
    "start_time": "2022-05-10T23:02:54.174Z"
   },
   {
    "duration": 13,
    "start_time": "2022-05-10T23:02:54.183Z"
   },
   {
    "duration": 4,
    "start_time": "2022-05-10T23:02:54.197Z"
   },
   {
    "duration": 27,
    "start_time": "2022-05-10T23:02:54.202Z"
   },
   {
    "duration": 10,
    "start_time": "2022-05-10T23:02:54.231Z"
   },
   {
    "duration": 42,
    "start_time": "2022-05-10T23:02:54.243Z"
   },
   {
    "duration": 41,
    "start_time": "2022-05-10T23:02:54.286Z"
   },
   {
    "duration": 947,
    "start_time": "2022-05-10T23:02:54.332Z"
   },
   {
    "duration": 2,
    "start_time": "2022-05-10T23:02:55.281Z"
   },
   {
    "duration": 12,
    "start_time": "2022-05-10T23:02:55.285Z"
   },
   {
    "duration": 27,
    "start_time": "2022-05-10T23:02:55.299Z"
   },
   {
    "duration": 114,
    "start_time": "2022-05-10T23:02:55.329Z"
   },
   {
    "duration": 17,
    "start_time": "2022-05-10T23:02:55.522Z"
   },
   {
    "duration": 93,
    "start_time": "2022-05-10T23:02:55.541Z"
   },
   {
    "duration": 100,
    "start_time": "2022-05-10T23:02:55.641Z"
   },
   {
    "duration": 190,
    "start_time": "2022-05-10T23:02:55.744Z"
   },
   {
    "duration": 9,
    "start_time": "2022-05-10T23:02:55.936Z"
   },
   {
    "duration": 183,
    "start_time": "2022-05-10T23:02:55.948Z"
   },
   {
    "duration": 5,
    "start_time": "2022-05-10T23:02:56.134Z"
   },
   {
    "duration": 87,
    "start_time": "2022-05-10T23:02:56.141Z"
   },
   {
    "duration": 99,
    "start_time": "2022-05-10T23:02:56.230Z"
   },
   {
    "duration": 13,
    "start_time": "2022-05-10T23:02:56.331Z"
   },
   {
    "duration": 70,
    "start_time": "2022-05-10T23:02:56.355Z"
   },
   {
    "duration": 9,
    "start_time": "2022-05-10T23:02:56.427Z"
   },
   {
    "duration": 8,
    "start_time": "2022-05-10T23:02:56.438Z"
   },
   {
    "duration": 193,
    "start_time": "2022-05-10T23:02:56.448Z"
   },
   {
    "duration": 183,
    "start_time": "2022-05-10T23:02:56.646Z"
   },
   {
    "duration": 1591,
    "start_time": "2022-05-10T23:14:43.927Z"
   },
   {
    "duration": 19,
    "start_time": "2022-05-10T23:14:45.520Z"
   },
   {
    "duration": 4,
    "start_time": "2022-05-10T23:14:45.541Z"
   },
   {
    "duration": 55,
    "start_time": "2022-05-10T23:14:45.547Z"
   },
   {
    "duration": 6,
    "start_time": "2022-05-10T23:14:45.604Z"
   },
   {
    "duration": 839,
    "start_time": "2022-05-10T23:14:45.612Z"
   },
   {
    "duration": 6,
    "start_time": "2022-05-10T23:14:46.453Z"
   },
   {
    "duration": 17,
    "start_time": "2022-05-10T23:14:46.461Z"
   },
   {
    "duration": 16,
    "start_time": "2022-05-10T23:14:46.479Z"
   },
   {
    "duration": 32,
    "start_time": "2022-05-10T23:14:46.497Z"
   },
   {
    "duration": 21,
    "start_time": "2022-05-10T23:14:46.531Z"
   },
   {
    "duration": 67,
    "start_time": "2022-05-10T23:14:46.554Z"
   },
   {
    "duration": 30,
    "start_time": "2022-05-10T23:14:46.622Z"
   },
   {
    "duration": 896,
    "start_time": "2022-05-10T23:14:46.655Z"
   },
   {
    "duration": 81,
    "start_time": "2022-05-10T23:14:47.553Z"
   },
   {
    "duration": 106,
    "start_time": "2022-05-10T23:14:47.636Z"
   },
   {
    "duration": 8,
    "start_time": "2022-05-10T23:14:47.744Z"
   },
   {
    "duration": 7,
    "start_time": "2022-05-10T23:14:47.823Z"
   },
   {
    "duration": 107,
    "start_time": "2022-05-10T23:14:47.832Z"
   },
   {
    "duration": 98,
    "start_time": "2022-05-10T23:14:47.944Z"
   },
   {
    "duration": 96,
    "start_time": "2022-05-10T23:14:48.044Z"
   },
   {
    "duration": 194,
    "start_time": "2022-05-10T23:14:48.143Z"
   },
   {
    "duration": 5,
    "start_time": "2022-05-10T23:14:48.340Z"
   },
   {
    "duration": 7,
    "start_time": "2022-05-10T23:14:48.347Z"
   },
   {
    "duration": 14,
    "start_time": "2022-05-10T23:14:48.426Z"
   },
   {
    "duration": 88,
    "start_time": "2022-05-10T23:14:48.443Z"
   },
   {
    "duration": 92,
    "start_time": "2022-05-10T23:14:48.533Z"
   },
   {
    "duration": 6,
    "start_time": "2022-05-10T23:14:48.628Z"
   },
   {
    "duration": 9,
    "start_time": "2022-05-10T23:14:48.635Z"
   },
   {
    "duration": 181,
    "start_time": "2022-05-10T23:14:48.646Z"
   },
   {
    "duration": 196,
    "start_time": "2022-05-10T23:14:48.833Z"
   },
   {
    "duration": 1868,
    "start_time": "2022-05-11T21:21:09.877Z"
   },
   {
    "duration": 31,
    "start_time": "2022-05-11T21:21:11.748Z"
   },
   {
    "duration": 3,
    "start_time": "2022-05-11T21:21:11.781Z"
   },
   {
    "duration": 61,
    "start_time": "2022-05-11T21:21:11.786Z"
   },
   {
    "duration": 5,
    "start_time": "2022-05-11T21:21:11.849Z"
   },
   {
    "duration": 840,
    "start_time": "2022-05-11T21:21:11.856Z"
   },
   {
    "duration": 8,
    "start_time": "2022-05-11T21:21:12.698Z"
   },
   {
    "duration": 51,
    "start_time": "2022-05-11T21:21:12.708Z"
   },
   {
    "duration": 6,
    "start_time": "2022-05-11T21:21:12.760Z"
   },
   {
    "duration": 14,
    "start_time": "2022-05-11T21:21:12.769Z"
   },
   {
    "duration": 35,
    "start_time": "2022-05-11T21:21:12.785Z"
   },
   {
    "duration": 69,
    "start_time": "2022-05-11T21:21:12.823Z"
   },
   {
    "duration": 36,
    "start_time": "2022-05-11T21:21:12.895Z"
   },
   {
    "duration": 892,
    "start_time": "2022-05-11T21:21:12.933Z"
   },
   {
    "duration": 78,
    "start_time": "2022-05-11T21:21:13.828Z"
   },
   {
    "duration": 101,
    "start_time": "2022-05-11T21:21:13.922Z"
   },
   {
    "duration": 5,
    "start_time": "2022-05-11T21:21:14.024Z"
   },
   {
    "duration": 191,
    "start_time": "2022-05-11T21:21:14.031Z"
   },
   {
    "duration": 14,
    "start_time": "2022-05-11T21:21:14.224Z"
   },
   {
    "duration": 121,
    "start_time": "2022-05-11T21:21:14.306Z"
   },
   {
    "duration": 12,
    "start_time": "2022-05-11T21:21:14.429Z"
   },
   {
    "duration": 174,
    "start_time": "2022-05-11T21:21:14.443Z"
   },
   {
    "duration": 10,
    "start_time": "2022-05-11T21:21:14.620Z"
   },
   {
    "duration": 73,
    "start_time": "2022-05-11T21:21:14.632Z"
   },
   {
    "duration": 95,
    "start_time": "2022-05-11T21:21:14.708Z"
   },
   {
    "duration": 100,
    "start_time": "2022-05-11T21:21:14.805Z"
   },
   {
    "duration": 95,
    "start_time": "2022-05-11T21:21:14.907Z"
   },
   {
    "duration": 8,
    "start_time": "2022-05-11T21:21:35.521Z"
   },
   {
    "duration": 18,
    "start_time": "2022-05-11T21:21:35.532Z"
   },
   {
    "duration": 3,
    "start_time": "2022-05-11T21:21:35.552Z"
   },
   {
    "duration": 35,
    "start_time": "2022-05-11T21:21:35.557Z"
   },
   {
    "duration": 8,
    "start_time": "2022-05-11T21:21:35.593Z"
   },
   {
    "duration": 875,
    "start_time": "2022-05-11T21:21:35.603Z"
   },
   {
    "duration": 6,
    "start_time": "2022-05-11T21:21:36.480Z"
   },
   {
    "duration": 27,
    "start_time": "2022-05-11T21:21:36.488Z"
   },
   {
    "duration": 10,
    "start_time": "2022-05-11T21:21:36.517Z"
   },
   {
    "duration": 5,
    "start_time": "2022-05-11T21:21:36.530Z"
   },
   {
    "duration": 6,
    "start_time": "2022-05-11T21:21:36.537Z"
   },
   {
    "duration": 8,
    "start_time": "2022-05-11T21:21:36.545Z"
   },
   {
    "duration": 58,
    "start_time": "2022-05-11T21:21:36.554Z"
   },
   {
    "duration": 767,
    "start_time": "2022-05-11T21:21:36.615Z"
   },
   {
    "duration": 31,
    "start_time": "2022-05-11T21:21:37.383Z"
   },
   {
    "duration": 99,
    "start_time": "2022-05-11T21:21:37.416Z"
   },
   {
    "duration": 95,
    "start_time": "2022-05-11T21:21:37.517Z"
   },
   {
    "duration": 7,
    "start_time": "2022-05-11T21:21:37.701Z"
   },
   {
    "duration": 189,
    "start_time": "2022-05-11T21:21:37.712Z"
   },
   {
    "duration": 122,
    "start_time": "2022-05-11T21:21:37.904Z"
   },
   {
    "duration": 75,
    "start_time": "2022-05-11T21:21:38.028Z"
   },
   {
    "duration": 206,
    "start_time": "2022-05-11T21:21:38.105Z"
   },
   {
    "duration": 14,
    "start_time": "2022-05-11T21:21:38.313Z"
   },
   {
    "duration": 75,
    "start_time": "2022-05-11T21:21:38.328Z"
   },
   {
    "duration": 4,
    "start_time": "2022-05-11T21:21:38.405Z"
   },
   {
    "duration": 93,
    "start_time": "2022-05-11T21:21:38.411Z"
   },
   {
    "duration": 102,
    "start_time": "2022-05-11T21:21:38.506Z"
   },
   {
    "duration": 9,
    "start_time": "2022-05-11T21:21:38.613Z"
   },
   {
    "duration": 26,
    "start_time": "2022-05-11T21:21:38.624Z"
   },
   {
    "duration": 119,
    "start_time": "2022-05-11T21:21:38.702Z"
   },
   {
    "duration": 92,
    "start_time": "2022-05-11T21:21:38.823Z"
   },
   {
    "duration": 9,
    "start_time": "2022-05-11T21:29:17.068Z"
   },
   {
    "duration": 121,
    "start_time": "2022-05-11T21:32:12.731Z"
   },
   {
    "duration": 14,
    "start_time": "2022-05-11T21:33:57.604Z"
   },
   {
    "duration": 13,
    "start_time": "2022-05-11T21:34:12.436Z"
   },
   {
    "duration": 107,
    "start_time": "2022-05-11T21:34:35.494Z"
   },
   {
    "duration": 44,
    "start_time": "2022-05-11T21:35:16.062Z"
   },
   {
    "duration": 36,
    "start_time": "2022-05-11T21:38:53.768Z"
   },
   {
    "duration": 7,
    "start_time": "2022-05-11T21:39:03.918Z"
   },
   {
    "duration": 7,
    "start_time": "2022-05-11T21:39:19.583Z"
   },
   {
    "duration": 10,
    "start_time": "2022-05-11T21:42:51.461Z"
   },
   {
    "duration": 8,
    "start_time": "2022-05-11T21:42:55.065Z"
   },
   {
    "duration": 95,
    "start_time": "2022-05-11T21:43:21.911Z"
   },
   {
    "duration": 56,
    "start_time": "2022-05-11T21:43:39.175Z"
   },
   {
    "duration": 14,
    "start_time": "2022-05-11T21:43:48.739Z"
   },
   {
    "duration": 14,
    "start_time": "2022-05-11T21:47:59.179Z"
   },
   {
    "duration": 13,
    "start_time": "2022-05-11T21:48:51.382Z"
   },
   {
    "duration": 59,
    "start_time": "2022-05-11T21:48:56.743Z"
   },
   {
    "duration": 7,
    "start_time": "2022-05-11T21:53:14.040Z"
   },
   {
    "duration": 6,
    "start_time": "2022-05-11T21:54:22.226Z"
   },
   {
    "duration": 9,
    "start_time": "2022-05-11T21:54:45.267Z"
   },
   {
    "duration": 161,
    "start_time": "2022-05-11T21:56:25.340Z"
   },
   {
    "duration": 12,
    "start_time": "2022-05-11T21:56:32.921Z"
   },
   {
    "duration": 1419,
    "start_time": "2022-05-11T21:59:39.174Z"
   },
   {
    "duration": 22,
    "start_time": "2022-05-11T21:59:40.595Z"
   },
   {
    "duration": 3,
    "start_time": "2022-05-11T21:59:40.618Z"
   },
   {
    "duration": 34,
    "start_time": "2022-05-11T21:59:40.623Z"
   },
   {
    "duration": 4,
    "start_time": "2022-05-11T21:59:40.659Z"
   },
   {
    "duration": 708,
    "start_time": "2022-05-11T21:59:40.665Z"
   },
   {
    "duration": 6,
    "start_time": "2022-05-11T21:59:41.374Z"
   },
   {
    "duration": 23,
    "start_time": "2022-05-11T21:59:41.382Z"
   },
   {
    "duration": 8,
    "start_time": "2022-05-11T21:59:41.406Z"
   },
   {
    "duration": 5,
    "start_time": "2022-05-11T21:59:41.417Z"
   },
   {
    "duration": 6,
    "start_time": "2022-05-11T21:59:41.423Z"
   },
   {
    "duration": 40,
    "start_time": "2022-05-11T21:59:41.431Z"
   },
   {
    "duration": 43,
    "start_time": "2022-05-11T21:59:41.472Z"
   },
   {
    "duration": 861,
    "start_time": "2022-05-11T21:59:41.516Z"
   },
   {
    "duration": 32,
    "start_time": "2022-05-11T21:59:42.378Z"
   },
   {
    "duration": 102,
    "start_time": "2022-05-11T21:59:42.412Z"
   },
   {
    "duration": 100,
    "start_time": "2022-05-11T21:59:42.516Z"
   },
   {
    "duration": 207,
    "start_time": "2022-05-11T21:59:42.618Z"
   },
   {
    "duration": 189,
    "start_time": "2022-05-11T21:59:42.827Z"
   },
   {
    "duration": 91,
    "start_time": "2022-05-11T21:59:43.019Z"
   },
   {
    "duration": 87,
    "start_time": "2022-05-11T21:59:43.114Z"
   },
   {
    "duration": 21,
    "start_time": "2022-05-11T21:59:43.204Z"
   },
   {
    "duration": 179,
    "start_time": "2022-05-11T21:59:43.227Z"
   },
   {
    "duration": 9,
    "start_time": "2022-05-11T21:59:43.413Z"
   },
   {
    "duration": 178,
    "start_time": "2022-05-11T21:59:43.424Z"
   },
   {
    "duration": 21,
    "start_time": "2022-05-11T21:59:43.604Z"
   },
   {
    "duration": 88,
    "start_time": "2022-05-11T21:59:43.627Z"
   },
   {
    "duration": 3,
    "start_time": "2022-05-11T21:59:43.720Z"
   },
   {
    "duration": 79,
    "start_time": "2022-05-11T21:59:43.725Z"
   },
   {
    "duration": 105,
    "start_time": "2022-05-11T21:59:43.806Z"
   },
   {
    "duration": 16,
    "start_time": "2022-05-11T21:59:43.916Z"
   },
   {
    "duration": 99,
    "start_time": "2022-05-11T21:59:44.003Z"
   },
   {
    "duration": 15,
    "start_time": "2022-05-11T21:59:44.104Z"
   },
   {
    "duration": 213,
    "start_time": "2022-05-11T21:59:44.121Z"
   },
   {
    "duration": 86,
    "start_time": "2022-05-11T21:59:44.416Z"
   },
   {
    "duration": 202,
    "start_time": "2022-05-11T21:59:44.506Z"
   }
  ],
  "kernelspec": {
   "display_name": "Python 3",
   "language": "python",
   "name": "python3"
  },
  "language_info": {
   "codemirror_mode": {
    "name": "ipython",
    "version": 3
   },
   "file_extension": ".py",
   "mimetype": "text/x-python",
   "name": "python",
   "nbconvert_exporter": "python",
   "pygments_lexer": "ipython3",
   "version": "3.8.8"
  },
  "toc": {
   "base_numbering": 1,
   "nav_menu": {},
   "number_sections": true,
   "sideBar": true,
   "skip_h1_title": true,
   "title_cell": "Содержание",
   "title_sidebar": "Contents",
   "toc_cell": true,
   "toc_position": {
    "height": "calc(100% - 180px)",
    "left": "10px",
    "top": "150px",
    "width": "236.449px"
   },
   "toc_section_display": true,
   "toc_window_display": true
  }
 },
 "nbformat": 4,
 "nbformat_minor": 2
}
